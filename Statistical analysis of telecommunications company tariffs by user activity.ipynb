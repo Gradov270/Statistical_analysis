{
 "cells": [
  {
   "cell_type": "markdown",
   "metadata": {},
   "source": [
    "# Проект \"Определение перспективного тарифа для телеком-компании\""
   ]
  },
  {
   "cell_type": "markdown",
   "metadata": {},
   "source": [
    "## Цели и задачи"
   ]
  },
  {
   "cell_type": "markdown",
   "metadata": {},
   "source": [
    "Целью проекта является определение тарифного плана компании \"Алло, привет\", который приносит наибольшую выручку. <br>\n",
    "Для выполнения поставленной цели, необходимо решить следующие задачи:\n",
    "1. Изучить общие свойства нескольких датасетов.\n",
    "2. Проверить их на наличие ошибок, пропусков, дубликатов, выбросов и так далее.\n",
    "3. Проанализировать датасеты.\n",
    "4. С помощью статистического анализа определить наиболее выгодный для компании тарифный план.\n",
    "5. Сделать итоговый вывод."
   ]
  },
  {
   "cell_type": "markdown",
   "metadata": {},
   "source": [
    "## Общая информация по датасетам"
   ]
  },
  {
   "cell_type": "code",
   "execution_count": 134,
   "metadata": {
    "collapsed": true
   },
   "outputs": [],
   "source": [
    "import pandas as pd\n",
    "from scipy import stats as st # импорт библиотек\n",
    "from math import ceil\n",
    "import numpy as np"
   ]
  },
  {
   "cell_type": "markdown",
   "metadata": {},
   "source": [
    "### Звонки"
   ]
  },
  {
   "cell_type": "code",
   "execution_count": 136,
   "metadata": {},
   "outputs": [
    {
     "name": "stdout",
     "output_type": "stream",
     "text": [
      "<class 'pandas.core.frame.DataFrame'>\n",
      "RangeIndex: 202607 entries, 0 to 202606\n",
      "Data columns (total 4 columns):\n",
      " #   Column     Non-Null Count   Dtype  \n",
      "---  ------     --------------   -----  \n",
      " 0   id         202607 non-null  object \n",
      " 1   call_date  202607 non-null  object \n",
      " 2   duration   202607 non-null  float64\n",
      " 3   user_id    202607 non-null  int64  \n",
      "dtypes: float64(1), int64(1), object(2)\n",
      "memory usage: 6.2+ MB\n"
     ]
    }
   ],
   "source": [
    "calls.info() #получение информации"
   ]
  },
  {
   "cell_type": "markdown",
   "metadata": {},
   "source": [
    "### Интернет"
   ]
  },
  {
   "cell_type": "code",
   "execution_count": 137,
   "metadata": {},
   "outputs": [
    {
     "name": "stdout",
     "output_type": "stream",
     "text": [
      "<class 'pandas.core.frame.DataFrame'>\n",
      "RangeIndex: 149396 entries, 0 to 149395\n",
      "Data columns (total 5 columns):\n",
      " #   Column        Non-Null Count   Dtype  \n",
      "---  ------        --------------   -----  \n",
      " 0   Unnamed: 0    149396 non-null  int64  \n",
      " 1   id            149396 non-null  object \n",
      " 2   mb_used       149396 non-null  float64\n",
      " 3   session_date  149396 non-null  object \n",
      " 4   user_id       149396 non-null  int64  \n",
      "dtypes: float64(1), int64(2), object(2)\n",
      "memory usage: 5.7+ MB\n"
     ]
    }
   ],
   "source": [
    "internet.info() #получение информации"
   ]
  },
  {
   "cell_type": "markdown",
   "metadata": {},
   "source": [
    "### Сообщения"
   ]
  },
  {
   "cell_type": "code",
   "execution_count": 138,
   "metadata": {},
   "outputs": [
    {
     "name": "stdout",
     "output_type": "stream",
     "text": [
      "<class 'pandas.core.frame.DataFrame'>\n",
      "RangeIndex: 123036 entries, 0 to 123035\n",
      "Data columns (total 3 columns):\n",
      " #   Column        Non-Null Count   Dtype \n",
      "---  ------        --------------   ----- \n",
      " 0   id            123036 non-null  object\n",
      " 1   message_date  123036 non-null  object\n",
      " 2   user_id       123036 non-null  int64 \n",
      "dtypes: int64(1), object(2)\n",
      "memory usage: 2.8+ MB\n"
     ]
    }
   ],
   "source": [
    "messages.info() #получение информации"
   ]
  },
  {
   "cell_type": "markdown",
   "metadata": {},
   "source": [
    "### Тарифы"
   ]
  },
  {
   "cell_type": "code",
   "execution_count": 139,
   "metadata": {},
   "outputs": [
    {
     "name": "stdout",
     "output_type": "stream",
     "text": [
      "<class 'pandas.core.frame.DataFrame'>\n",
      "RangeIndex: 2 entries, 0 to 1\n",
      "Data columns (total 8 columns):\n",
      " #   Column                 Non-Null Count  Dtype \n",
      "---  ------                 --------------  ----- \n",
      " 0   messages_included      2 non-null      int64 \n",
      " 1   mb_per_month_included  2 non-null      int64 \n",
      " 2   minutes_included       2 non-null      int64 \n",
      " 3   rub_monthly_fee        2 non-null      int64 \n",
      " 4   rub_per_gb             2 non-null      int64 \n",
      " 5   rub_per_message        2 non-null      int64 \n",
      " 6   rub_per_minute         2 non-null      int64 \n",
      " 7   tariff_name            2 non-null      object\n",
      "dtypes: int64(7), object(1)\n",
      "memory usage: 256.0+ bytes\n"
     ]
    }
   ],
   "source": [
    "tariffs.info() #получение информации"
   ]
  },
  {
   "cell_type": "markdown",
   "metadata": {},
   "source": [
    "### Пользователи"
   ]
  },
  {
   "cell_type": "code",
   "execution_count": 140,
   "metadata": {},
   "outputs": [
    {
     "name": "stdout",
     "output_type": "stream",
     "text": [
      "<class 'pandas.core.frame.DataFrame'>\n",
      "RangeIndex: 500 entries, 0 to 499\n",
      "Data columns (total 8 columns):\n",
      " #   Column      Non-Null Count  Dtype \n",
      "---  ------      --------------  ----- \n",
      " 0   user_id     500 non-null    int64 \n",
      " 1   age         500 non-null    int64 \n",
      " 2   churn_date  38 non-null     object\n",
      " 3   city        500 non-null    object\n",
      " 4   first_name  500 non-null    object\n",
      " 5   last_name   500 non-null    object\n",
      " 6   reg_date    500 non-null    object\n",
      " 7   tariff      500 non-null    object\n",
      "dtypes: int64(2), object(6)\n",
      "memory usage: 31.4+ KB\n"
     ]
    }
   ],
   "source": [
    "users.info() #получение информации"
   ]
  },
  {
   "cell_type": "markdown",
   "metadata": {},
   "source": [
    "# Вывод"
   ]
  },
  {
   "cell_type": "markdown",
   "metadata": {},
   "source": [
    "Была получена общая информация по каждому датасету. Почти в каждом датасете отсутствуют пропущенные значения."
   ]
  },
  {
   "cell_type": "markdown",
   "metadata": {},
   "source": [
    "## Подготовка данных "
   ]
  },
  {
   "cell_type": "markdown",
   "metadata": {},
   "source": [
    "### Звонки"
   ]
  },
  {
   "cell_type": "markdown",
   "metadata": {},
   "source": [
    "#### Поиск ошибок и преобразование типов данных "
   ]
  },
  {
   "cell_type": "code",
   "execution_count": 141,
   "metadata": {},
   "outputs": [
    {
     "data": {
      "text/html": [
       "<div>\n",
       "<style scoped>\n",
       "    .dataframe tbody tr th:only-of-type {\n",
       "        vertical-align: middle;\n",
       "    }\n",
       "\n",
       "    .dataframe tbody tr th {\n",
       "        vertical-align: top;\n",
       "    }\n",
       "\n",
       "    .dataframe thead th {\n",
       "        text-align: right;\n",
       "    }\n",
       "</style>\n",
       "<table border=\"1\" class=\"dataframe\">\n",
       "  <thead>\n",
       "    <tr style=\"text-align: right;\">\n",
       "      <th></th>\n",
       "      <th>id</th>\n",
       "      <th>call_date</th>\n",
       "      <th>duration</th>\n",
       "      <th>user_id</th>\n",
       "    </tr>\n",
       "  </thead>\n",
       "  <tbody>\n",
       "    <tr>\n",
       "      <th>0</th>\n",
       "      <td>1000_0</td>\n",
       "      <td>2018-07-25</td>\n",
       "      <td>0.00</td>\n",
       "      <td>1000</td>\n",
       "    </tr>\n",
       "    <tr>\n",
       "      <th>1</th>\n",
       "      <td>1000_1</td>\n",
       "      <td>2018-08-17</td>\n",
       "      <td>0.00</td>\n",
       "      <td>1000</td>\n",
       "    </tr>\n",
       "    <tr>\n",
       "      <th>2</th>\n",
       "      <td>1000_2</td>\n",
       "      <td>2018-06-11</td>\n",
       "      <td>2.85</td>\n",
       "      <td>1000</td>\n",
       "    </tr>\n",
       "    <tr>\n",
       "      <th>3</th>\n",
       "      <td>1000_3</td>\n",
       "      <td>2018-09-21</td>\n",
       "      <td>13.80</td>\n",
       "      <td>1000</td>\n",
       "    </tr>\n",
       "    <tr>\n",
       "      <th>4</th>\n",
       "      <td>1000_4</td>\n",
       "      <td>2018-12-15</td>\n",
       "      <td>5.18</td>\n",
       "      <td>1000</td>\n",
       "    </tr>\n",
       "  </tbody>\n",
       "</table>\n",
       "</div>"
      ],
      "text/plain": [
       "       id   call_date  duration  user_id\n",
       "0  1000_0  2018-07-25      0.00     1000\n",
       "1  1000_1  2018-08-17      0.00     1000\n",
       "2  1000_2  2018-06-11      2.85     1000\n",
       "3  1000_3  2018-09-21     13.80     1000\n",
       "4  1000_4  2018-12-15      5.18     1000"
      ]
     },
     "execution_count": 141,
     "metadata": {},
     "output_type": "execute_result"
    }
   ],
   "source": [
    "calls.head(5) #вывод первых 5 строк"
   ]
  },
  {
   "cell_type": "markdown",
   "metadata": {},
   "source": [
    "Надо перевести столбец call_date в временной формат."
   ]
  },
  {
   "cell_type": "code",
   "execution_count": 142,
   "metadata": {
    "collapsed": true
   },
   "outputs": [],
   "source": [
    "calls['call_date'] = pd.to_datetime(calls['call_date'], format = '%Y-%m-%d') #переводим столбец в формат времени"
   ]
  },
  {
   "cell_type": "code",
   "execution_count": 143,
   "metadata": {},
   "outputs": [
    {
     "name": "stdout",
     "output_type": "stream",
     "text": [
      "<class 'pandas.core.frame.DataFrame'>\n",
      "RangeIndex: 202607 entries, 0 to 202606\n",
      "Data columns (total 4 columns):\n",
      " #   Column     Non-Null Count   Dtype         \n",
      "---  ------     --------------   -----         \n",
      " 0   id         202607 non-null  object        \n",
      " 1   call_date  202607 non-null  datetime64[ns]\n",
      " 2   duration   202607 non-null  float64       \n",
      " 3   user_id    202607 non-null  int64         \n",
      "dtypes: datetime64[ns](1), float64(1), int64(1), object(1)\n",
      "memory usage: 6.2+ MB\n"
     ]
    }
   ],
   "source": [
    "calls.info()"
   ]
  },
  {
   "cell_type": "code",
   "execution_count": 144,
   "metadata": {},
   "outputs": [
    {
     "data": {
      "text/plain": [
       "<AxesSubplot:>"
      ]
     },
     "execution_count": 144,
     "metadata": {},
     "output_type": "execute_result"
    },
    {
     "data": {
      "image/png": "[encoded data removed]",
      "text/plain": [
       "<Figure size 432x288 with 1 Axes>"
      ]
     },
     "metadata": {
      "needs_background": "light"
     },
     "output_type": "display_data"
    }
   ],
   "source": [
    "calls.boxplot('duration')"
   ]
  },
  {
   "cell_type": "code",
   "execution_count": 145,
   "metadata": {},
   "outputs": [
    {
     "data": {
      "text/plain": [
       "count    202607.000000\n",
       "mean          6.755887\n",
       "std           5.843365\n",
       "min           0.000000\n",
       "25%           1.300000\n",
       "50%           6.000000\n",
       "75%          10.700000\n",
       "max          38.000000\n",
       "Name: duration, dtype: float64"
      ]
     },
     "execution_count": 145,
     "metadata": {},
     "output_type": "execute_result"
    }
   ],
   "source": [
    "calls['duration'].describe()"
   ]
  },
  {
   "cell_type": "code",
   "execution_count": 146,
   "metadata": {
    "collapsed": true
   },
   "outputs": [],
   "source": [
    "calls['month'] = pd.DatetimeIndex(calls['call_date']).month"
   ]
  },
  {
   "cell_type": "code",
   "execution_count": 147,
   "metadata": {},
   "outputs": [
    {
     "data": {
      "text/html": [
       "<div>\n",
       "<style scoped>\n",
       "    .dataframe tbody tr th:only-of-type {\n",
       "        vertical-align: middle;\n",
       "    }\n",
       "\n",
       "    .dataframe tbody tr th {\n",
       "        vertical-align: top;\n",
       "    }\n",
       "\n",
       "    .dataframe thead th {\n",
       "        text-align: right;\n",
       "    }\n",
       "</style>\n",
       "<table border=\"1\" class=\"dataframe\">\n",
       "  <thead>\n",
       "    <tr style=\"text-align: right;\">\n",
       "      <th></th>\n",
       "      <th>id</th>\n",
       "      <th>call_date</th>\n",
       "      <th>duration</th>\n",
       "      <th>user_id</th>\n",
       "      <th>month</th>\n",
       "    </tr>\n",
       "  </thead>\n",
       "  <tbody>\n",
       "    <tr>\n",
       "      <th>0</th>\n",
       "      <td>1000_0</td>\n",
       "      <td>2018-07-25</td>\n",
       "      <td>0.00</td>\n",
       "      <td>1000</td>\n",
       "      <td>7</td>\n",
       "    </tr>\n",
       "    <tr>\n",
       "      <th>1</th>\n",
       "      <td>1000_1</td>\n",
       "      <td>2018-08-17</td>\n",
       "      <td>0.00</td>\n",
       "      <td>1000</td>\n",
       "      <td>8</td>\n",
       "    </tr>\n",
       "    <tr>\n",
       "      <th>2</th>\n",
       "      <td>1000_2</td>\n",
       "      <td>2018-06-11</td>\n",
       "      <td>2.85</td>\n",
       "      <td>1000</td>\n",
       "      <td>6</td>\n",
       "    </tr>\n",
       "    <tr>\n",
       "      <th>3</th>\n",
       "      <td>1000_3</td>\n",
       "      <td>2018-09-21</td>\n",
       "      <td>13.80</td>\n",
       "      <td>1000</td>\n",
       "      <td>9</td>\n",
       "    </tr>\n",
       "    <tr>\n",
       "      <th>4</th>\n",
       "      <td>1000_4</td>\n",
       "      <td>2018-12-15</td>\n",
       "      <td>5.18</td>\n",
       "      <td>1000</td>\n",
       "      <td>12</td>\n",
       "    </tr>\n",
       "    <tr>\n",
       "      <th>...</th>\n",
       "      <td>...</td>\n",
       "      <td>...</td>\n",
       "      <td>...</td>\n",
       "      <td>...</td>\n",
       "      <td>...</td>\n",
       "    </tr>\n",
       "    <tr>\n",
       "      <th>202602</th>\n",
       "      <td>1499_215</td>\n",
       "      <td>2018-12-26</td>\n",
       "      <td>0.76</td>\n",
       "      <td>1499</td>\n",
       "      <td>12</td>\n",
       "    </tr>\n",
       "    <tr>\n",
       "      <th>202603</th>\n",
       "      <td>1499_216</td>\n",
       "      <td>2018-10-18</td>\n",
       "      <td>18.83</td>\n",
       "      <td>1499</td>\n",
       "      <td>10</td>\n",
       "    </tr>\n",
       "    <tr>\n",
       "      <th>202604</th>\n",
       "      <td>1499_217</td>\n",
       "      <td>2018-11-10</td>\n",
       "      <td>10.81</td>\n",
       "      <td>1499</td>\n",
       "      <td>11</td>\n",
       "    </tr>\n",
       "    <tr>\n",
       "      <th>202605</th>\n",
       "      <td>1499_218</td>\n",
       "      <td>2018-10-06</td>\n",
       "      <td>4.27</td>\n",
       "      <td>1499</td>\n",
       "      <td>10</td>\n",
       "    </tr>\n",
       "    <tr>\n",
       "      <th>202606</th>\n",
       "      <td>1499_219</td>\n",
       "      <td>2018-12-14</td>\n",
       "      <td>19.62</td>\n",
       "      <td>1499</td>\n",
       "      <td>12</td>\n",
       "    </tr>\n",
       "  </tbody>\n",
       "</table>\n",
       "<p>202607 rows × 5 columns</p>\n",
       "</div>"
      ],
      "text/plain": [
       "              id  call_date  duration  user_id  month\n",
       "0         1000_0 2018-07-25      0.00     1000      7\n",
       "1         1000_1 2018-08-17      0.00     1000      8\n",
       "2         1000_2 2018-06-11      2.85     1000      6\n",
       "3         1000_3 2018-09-21     13.80     1000      9\n",
       "4         1000_4 2018-12-15      5.18     1000     12\n",
       "...          ...        ...       ...      ...    ...\n",
       "202602  1499_215 2018-12-26      0.76     1499     12\n",
       "202603  1499_216 2018-10-18     18.83     1499     10\n",
       "202604  1499_217 2018-11-10     10.81     1499     11\n",
       "202605  1499_218 2018-10-06      4.27     1499     10\n",
       "202606  1499_219 2018-12-14     19.62     1499     12\n",
       "\n",
       "[202607 rows x 5 columns]"
      ]
     },
     "execution_count": 147,
     "metadata": {},
     "output_type": "execute_result"
    }
   ],
   "source": [
    "calls"
   ]
  },
  {
   "cell_type": "markdown",
   "metadata": {},
   "source": [
    "#### Количество звонков и количество минут разговора по месяцам для каждого пользователя"
   ]
  },
  {
   "cell_type": "code",
   "execution_count": 148,
   "metadata": {
    "collapsed": true
   },
   "outputs": [],
   "source": [
    "def rounding(a):\n",
    "    if a>0:\n",
    "        return np.ceil(a)\n",
    "    else:\n",
    "        return 0"
   ]
  },
  {
   "cell_type": "code",
   "execution_count": 149,
   "metadata": {
    "collapsed": true
   },
   "outputs": [],
   "source": [
    "calls['duration'] = calls['duration'].apply(rounding)"
   ]
  },
  {
   "cell_type": "code",
   "execution_count": 150,
   "metadata": {},
   "outputs": [
    {
     "data": {
      "text/html": [
       "<div>\n",
       "<style scoped>\n",
       "    .dataframe tbody tr th:only-of-type {\n",
       "        vertical-align: middle;\n",
       "    }\n",
       "\n",
       "    .dataframe tbody tr th {\n",
       "        vertical-align: top;\n",
       "    }\n",
       "\n",
       "    .dataframe thead th {\n",
       "        text-align: right;\n",
       "    }\n",
       "</style>\n",
       "<table border=\"1\" class=\"dataframe\">\n",
       "  <thead>\n",
       "    <tr style=\"text-align: right;\">\n",
       "      <th></th>\n",
       "      <th>id</th>\n",
       "      <th>call_date</th>\n",
       "      <th>duration</th>\n",
       "      <th>user_id</th>\n",
       "      <th>month</th>\n",
       "    </tr>\n",
       "  </thead>\n",
       "  <tbody>\n",
       "    <tr>\n",
       "      <th>0</th>\n",
       "      <td>1000_0</td>\n",
       "      <td>2018-07-25</td>\n",
       "      <td>0.0</td>\n",
       "      <td>1000</td>\n",
       "      <td>7</td>\n",
       "    </tr>\n",
       "    <tr>\n",
       "      <th>1</th>\n",
       "      <td>1000_1</td>\n",
       "      <td>2018-08-17</td>\n",
       "      <td>0.0</td>\n",
       "      <td>1000</td>\n",
       "      <td>8</td>\n",
       "    </tr>\n",
       "    <tr>\n",
       "      <th>2</th>\n",
       "      <td>1000_2</td>\n",
       "      <td>2018-06-11</td>\n",
       "      <td>3.0</td>\n",
       "      <td>1000</td>\n",
       "      <td>6</td>\n",
       "    </tr>\n",
       "    <tr>\n",
       "      <th>3</th>\n",
       "      <td>1000_3</td>\n",
       "      <td>2018-09-21</td>\n",
       "      <td>14.0</td>\n",
       "      <td>1000</td>\n",
       "      <td>9</td>\n",
       "    </tr>\n",
       "    <tr>\n",
       "      <th>4</th>\n",
       "      <td>1000_4</td>\n",
       "      <td>2018-12-15</td>\n",
       "      <td>6.0</td>\n",
       "      <td>1000</td>\n",
       "      <td>12</td>\n",
       "    </tr>\n",
       "  </tbody>\n",
       "</table>\n",
       "</div>"
      ],
      "text/plain": [
       "       id  call_date  duration  user_id  month\n",
       "0  1000_0 2018-07-25       0.0     1000      7\n",
       "1  1000_1 2018-08-17       0.0     1000      8\n",
       "2  1000_2 2018-06-11       3.0     1000      6\n",
       "3  1000_3 2018-09-21      14.0     1000      9\n",
       "4  1000_4 2018-12-15       6.0     1000     12"
      ]
     },
     "execution_count": 150,
     "metadata": {},
     "output_type": "execute_result"
    }
   ],
   "source": [
    "calls.head(5)"
   ]
  },
  {
   "cell_type": "code",
   "execution_count": 151,
   "metadata": {
    "collapsed": true
   },
   "outputs": [],
   "source": [
    "calls_piv_1 = calls.pivot_table(index='user_id', columns='month', values='duration', aggfunc='count')\n",
    "calls_piv_2 = calls.pivot_table(index='user_id', columns='month', values='duration', aggfunc='sum') #получаем сводную таблицу по каждому пользователю и месяцу"
   ]
  },
  {
   "cell_type": "code",
   "execution_count": 152,
   "metadata": {},
   "outputs": [
    {
     "data": {
      "text/html": [
       "<div>\n",
       "<style scoped>\n",
       "    .dataframe tbody tr th:only-of-type {\n",
       "        vertical-align: middle;\n",
       "    }\n",
       "\n",
       "    .dataframe tbody tr th {\n",
       "        vertical-align: top;\n",
       "    }\n",
       "\n",
       "    .dataframe thead th {\n",
       "        text-align: right;\n",
       "    }\n",
       "</style>\n",
       "<table border=\"1\" class=\"dataframe\">\n",
       "  <thead>\n",
       "    <tr style=\"text-align: right;\">\n",
       "      <th>month</th>\n",
       "      <th>1</th>\n",
       "      <th>2</th>\n",
       "      <th>3</th>\n",
       "      <th>4</th>\n",
       "      <th>5</th>\n",
       "      <th>6</th>\n",
       "      <th>7</th>\n",
       "      <th>8</th>\n",
       "      <th>9</th>\n",
       "      <th>10</th>\n",
       "      <th>11</th>\n",
       "      <th>12</th>\n",
       "    </tr>\n",
       "    <tr>\n",
       "      <th>user_id</th>\n",
       "      <th></th>\n",
       "      <th></th>\n",
       "      <th></th>\n",
       "      <th></th>\n",
       "      <th></th>\n",
       "      <th></th>\n",
       "      <th></th>\n",
       "      <th></th>\n",
       "      <th></th>\n",
       "      <th></th>\n",
       "      <th></th>\n",
       "      <th></th>\n",
       "    </tr>\n",
       "  </thead>\n",
       "  <tbody>\n",
       "    <tr>\n",
       "      <th>1000</th>\n",
       "      <td>NaN</td>\n",
       "      <td>NaN</td>\n",
       "      <td>NaN</td>\n",
       "      <td>NaN</td>\n",
       "      <td>22.0</td>\n",
       "      <td>43.0</td>\n",
       "      <td>47.0</td>\n",
       "      <td>52.0</td>\n",
       "      <td>58.0</td>\n",
       "      <td>57.0</td>\n",
       "      <td>43.0</td>\n",
       "      <td>46.0</td>\n",
       "    </tr>\n",
       "    <tr>\n",
       "      <th>1001</th>\n",
       "      <td>NaN</td>\n",
       "      <td>NaN</td>\n",
       "      <td>NaN</td>\n",
       "      <td>NaN</td>\n",
       "      <td>NaN</td>\n",
       "      <td>NaN</td>\n",
       "      <td>NaN</td>\n",
       "      <td>NaN</td>\n",
       "      <td>NaN</td>\n",
       "      <td>NaN</td>\n",
       "      <td>59.0</td>\n",
       "      <td>63.0</td>\n",
       "    </tr>\n",
       "    <tr>\n",
       "      <th>1002</th>\n",
       "      <td>NaN</td>\n",
       "      <td>NaN</td>\n",
       "      <td>NaN</td>\n",
       "      <td>NaN</td>\n",
       "      <td>NaN</td>\n",
       "      <td>15.0</td>\n",
       "      <td>26.0</td>\n",
       "      <td>42.0</td>\n",
       "      <td>36.0</td>\n",
       "      <td>33.0</td>\n",
       "      <td>32.0</td>\n",
       "      <td>33.0</td>\n",
       "    </tr>\n",
       "    <tr>\n",
       "      <th>1003</th>\n",
       "      <td>NaN</td>\n",
       "      <td>NaN</td>\n",
       "      <td>NaN</td>\n",
       "      <td>NaN</td>\n",
       "      <td>NaN</td>\n",
       "      <td>NaN</td>\n",
       "      <td>NaN</td>\n",
       "      <td>55.0</td>\n",
       "      <td>134.0</td>\n",
       "      <td>108.0</td>\n",
       "      <td>115.0</td>\n",
       "      <td>108.0</td>\n",
       "    </tr>\n",
       "    <tr>\n",
       "      <th>1004</th>\n",
       "      <td>NaN</td>\n",
       "      <td>NaN</td>\n",
       "      <td>NaN</td>\n",
       "      <td>NaN</td>\n",
       "      <td>9.0</td>\n",
       "      <td>31.0</td>\n",
       "      <td>22.0</td>\n",
       "      <td>19.0</td>\n",
       "      <td>26.0</td>\n",
       "      <td>29.0</td>\n",
       "      <td>19.0</td>\n",
       "      <td>21.0</td>\n",
       "    </tr>\n",
       "    <tr>\n",
       "      <th>...</th>\n",
       "      <td>...</td>\n",
       "      <td>...</td>\n",
       "      <td>...</td>\n",
       "      <td>...</td>\n",
       "      <td>...</td>\n",
       "      <td>...</td>\n",
       "      <td>...</td>\n",
       "      <td>...</td>\n",
       "      <td>...</td>\n",
       "      <td>...</td>\n",
       "      <td>...</td>\n",
       "      <td>...</td>\n",
       "    </tr>\n",
       "    <tr>\n",
       "      <th>1495</th>\n",
       "      <td>NaN</td>\n",
       "      <td>NaN</td>\n",
       "      <td>NaN</td>\n",
       "      <td>NaN</td>\n",
       "      <td>NaN</td>\n",
       "      <td>NaN</td>\n",
       "      <td>NaN</td>\n",
       "      <td>17.0</td>\n",
       "      <td>112.0</td>\n",
       "      <td>152.0</td>\n",
       "      <td>129.0</td>\n",
       "      <td>155.0</td>\n",
       "    </tr>\n",
       "    <tr>\n",
       "      <th>1496</th>\n",
       "      <td>7.0</td>\n",
       "      <td>77.0</td>\n",
       "      <td>79.0</td>\n",
       "      <td>67.0</td>\n",
       "      <td>63.0</td>\n",
       "      <td>74.0</td>\n",
       "      <td>73.0</td>\n",
       "      <td>88.0</td>\n",
       "      <td>68.0</td>\n",
       "      <td>72.0</td>\n",
       "      <td>80.0</td>\n",
       "      <td>80.0</td>\n",
       "    </tr>\n",
       "    <tr>\n",
       "      <th>1497</th>\n",
       "      <td>NaN</td>\n",
       "      <td>NaN</td>\n",
       "      <td>NaN</td>\n",
       "      <td>NaN</td>\n",
       "      <td>NaN</td>\n",
       "      <td>NaN</td>\n",
       "      <td>NaN</td>\n",
       "      <td>NaN</td>\n",
       "      <td>NaN</td>\n",
       "      <td>66.0</td>\n",
       "      <td>64.0</td>\n",
       "      <td>71.0</td>\n",
       "    </tr>\n",
       "    <tr>\n",
       "      <th>1498</th>\n",
       "      <td>NaN</td>\n",
       "      <td>NaN</td>\n",
       "      <td>NaN</td>\n",
       "      <td>NaN</td>\n",
       "      <td>NaN</td>\n",
       "      <td>NaN</td>\n",
       "      <td>23.0</td>\n",
       "      <td>57.0</td>\n",
       "      <td>59.0</td>\n",
       "      <td>41.0</td>\n",
       "      <td>NaN</td>\n",
       "      <td>NaN</td>\n",
       "    </tr>\n",
       "    <tr>\n",
       "      <th>1499</th>\n",
       "      <td>NaN</td>\n",
       "      <td>NaN</td>\n",
       "      <td>NaN</td>\n",
       "      <td>NaN</td>\n",
       "      <td>NaN</td>\n",
       "      <td>NaN</td>\n",
       "      <td>NaN</td>\n",
       "      <td>NaN</td>\n",
       "      <td>9.0</td>\n",
       "      <td>68.0</td>\n",
       "      <td>74.0</td>\n",
       "      <td>69.0</td>\n",
       "    </tr>\n",
       "  </tbody>\n",
       "</table>\n",
       "<p>492 rows × 12 columns</p>\n",
       "</div>"
      ],
      "text/plain": [
       "month     1     2     3     4     5     6     7     8      9      10     11  \\\n",
       "user_id                                                                       \n",
       "1000     NaN   NaN   NaN   NaN  22.0  43.0  47.0  52.0   58.0   57.0   43.0   \n",
       "1001     NaN   NaN   NaN   NaN   NaN   NaN   NaN   NaN    NaN    NaN   59.0   \n",
       "1002     NaN   NaN   NaN   NaN   NaN  15.0  26.0  42.0   36.0   33.0   32.0   \n",
       "1003     NaN   NaN   NaN   NaN   NaN   NaN   NaN  55.0  134.0  108.0  115.0   \n",
       "1004     NaN   NaN   NaN   NaN   9.0  31.0  22.0  19.0   26.0   29.0   19.0   \n",
       "...      ...   ...   ...   ...   ...   ...   ...   ...    ...    ...    ...   \n",
       "1495     NaN   NaN   NaN   NaN   NaN   NaN   NaN  17.0  112.0  152.0  129.0   \n",
       "1496     7.0  77.0  79.0  67.0  63.0  74.0  73.0  88.0   68.0   72.0   80.0   \n",
       "1497     NaN   NaN   NaN   NaN   NaN   NaN   NaN   NaN    NaN   66.0   64.0   \n",
       "1498     NaN   NaN   NaN   NaN   NaN   NaN  23.0  57.0   59.0   41.0    NaN   \n",
       "1499     NaN   NaN   NaN   NaN   NaN   NaN   NaN   NaN    9.0   68.0   74.0   \n",
       "\n",
       "month       12  \n",
       "user_id         \n",
       "1000      46.0  \n",
       "1001      63.0  \n",
       "1002      33.0  \n",
       "1003     108.0  \n",
       "1004      21.0  \n",
       "...        ...  \n",
       "1495     155.0  \n",
       "1496      80.0  \n",
       "1497      71.0  \n",
       "1498       NaN  \n",
       "1499      69.0  \n",
       "\n",
       "[492 rows x 12 columns]"
      ]
     },
     "execution_count": 152,
     "metadata": {},
     "output_type": "execute_result"
    }
   ],
   "source": [
    "calls_piv_1"
   ]
  },
  {
   "cell_type": "code",
   "execution_count": 153,
   "metadata": {},
   "outputs": [
    {
     "data": {
      "text/html": [
       "<div>\n",
       "<style scoped>\n",
       "    .dataframe tbody tr th:only-of-type {\n",
       "        vertical-align: middle;\n",
       "    }\n",
       "\n",
       "    .dataframe tbody tr th {\n",
       "        vertical-align: top;\n",
       "    }\n",
       "\n",
       "    .dataframe thead th {\n",
       "        text-align: right;\n",
       "    }\n",
       "</style>\n",
       "<table border=\"1\" class=\"dataframe\">\n",
       "  <thead>\n",
       "    <tr style=\"text-align: right;\">\n",
       "      <th>month</th>\n",
       "      <th>1</th>\n",
       "      <th>2</th>\n",
       "      <th>3</th>\n",
       "      <th>4</th>\n",
       "      <th>5</th>\n",
       "      <th>6</th>\n",
       "      <th>7</th>\n",
       "      <th>8</th>\n",
       "      <th>9</th>\n",
       "      <th>10</th>\n",
       "      <th>11</th>\n",
       "      <th>12</th>\n",
       "    </tr>\n",
       "    <tr>\n",
       "      <th>user_id</th>\n",
       "      <th></th>\n",
       "      <th></th>\n",
       "      <th></th>\n",
       "      <th></th>\n",
       "      <th></th>\n",
       "      <th></th>\n",
       "      <th></th>\n",
       "      <th></th>\n",
       "      <th></th>\n",
       "      <th></th>\n",
       "      <th></th>\n",
       "      <th></th>\n",
       "    </tr>\n",
       "  </thead>\n",
       "  <tbody>\n",
       "    <tr>\n",
       "      <th>1000</th>\n",
       "      <td>NaN</td>\n",
       "      <td>NaN</td>\n",
       "      <td>NaN</td>\n",
       "      <td>NaN</td>\n",
       "      <td>159.0</td>\n",
       "      <td>172.0</td>\n",
       "      <td>340.0</td>\n",
       "      <td>408.0</td>\n",
       "      <td>466.0</td>\n",
       "      <td>350.0</td>\n",
       "      <td>338.0</td>\n",
       "      <td>333.0</td>\n",
       "    </tr>\n",
       "    <tr>\n",
       "      <th>1001</th>\n",
       "      <td>NaN</td>\n",
       "      <td>NaN</td>\n",
       "      <td>NaN</td>\n",
       "      <td>NaN</td>\n",
       "      <td>NaN</td>\n",
       "      <td>NaN</td>\n",
       "      <td>NaN</td>\n",
       "      <td>NaN</td>\n",
       "      <td>NaN</td>\n",
       "      <td>NaN</td>\n",
       "      <td>430.0</td>\n",
       "      <td>414.0</td>\n",
       "    </tr>\n",
       "    <tr>\n",
       "      <th>1002</th>\n",
       "      <td>NaN</td>\n",
       "      <td>NaN</td>\n",
       "      <td>NaN</td>\n",
       "      <td>NaN</td>\n",
       "      <td>NaN</td>\n",
       "      <td>117.0</td>\n",
       "      <td>214.0</td>\n",
       "      <td>289.0</td>\n",
       "      <td>206.0</td>\n",
       "      <td>212.0</td>\n",
       "      <td>243.0</td>\n",
       "      <td>236.0</td>\n",
       "    </tr>\n",
       "    <tr>\n",
       "      <th>1003</th>\n",
       "      <td>NaN</td>\n",
       "      <td>NaN</td>\n",
       "      <td>NaN</td>\n",
       "      <td>NaN</td>\n",
       "      <td>NaN</td>\n",
       "      <td>NaN</td>\n",
       "      <td>NaN</td>\n",
       "      <td>380.0</td>\n",
       "      <td>961.0</td>\n",
       "      <td>855.0</td>\n",
       "      <td>824.0</td>\n",
       "      <td>802.0</td>\n",
       "    </tr>\n",
       "    <tr>\n",
       "      <th>1004</th>\n",
       "      <td>NaN</td>\n",
       "      <td>NaN</td>\n",
       "      <td>NaN</td>\n",
       "      <td>NaN</td>\n",
       "      <td>35.0</td>\n",
       "      <td>171.0</td>\n",
       "      <td>135.0</td>\n",
       "      <td>137.0</td>\n",
       "      <td>117.0</td>\n",
       "      <td>145.0</td>\n",
       "      <td>117.0</td>\n",
       "      <td>130.0</td>\n",
       "    </tr>\n",
       "    <tr>\n",
       "      <th>...</th>\n",
       "      <td>...</td>\n",
       "      <td>...</td>\n",
       "      <td>...</td>\n",
       "      <td>...</td>\n",
       "      <td>...</td>\n",
       "      <td>...</td>\n",
       "      <td>...</td>\n",
       "      <td>...</td>\n",
       "      <td>...</td>\n",
       "      <td>...</td>\n",
       "      <td>...</td>\n",
       "      <td>...</td>\n",
       "    </tr>\n",
       "    <tr>\n",
       "      <th>1495</th>\n",
       "      <td>NaN</td>\n",
       "      <td>NaN</td>\n",
       "      <td>NaN</td>\n",
       "      <td>NaN</td>\n",
       "      <td>NaN</td>\n",
       "      <td>NaN</td>\n",
       "      <td>NaN</td>\n",
       "      <td>92.0</td>\n",
       "      <td>813.0</td>\n",
       "      <td>1030.0</td>\n",
       "      <td>954.0</td>\n",
       "      <td>1031.0</td>\n",
       "    </tr>\n",
       "    <tr>\n",
       "      <th>1496</th>\n",
       "      <td>48.0</td>\n",
       "      <td>594.0</td>\n",
       "      <td>557.0</td>\n",
       "      <td>521.0</td>\n",
       "      <td>484.0</td>\n",
       "      <td>555.0</td>\n",
       "      <td>582.0</td>\n",
       "      <td>527.0</td>\n",
       "      <td>486.0</td>\n",
       "      <td>450.0</td>\n",
       "      <td>662.0</td>\n",
       "      <td>518.0</td>\n",
       "    </tr>\n",
       "    <tr>\n",
       "      <th>1497</th>\n",
       "      <td>NaN</td>\n",
       "      <td>NaN</td>\n",
       "      <td>NaN</td>\n",
       "      <td>NaN</td>\n",
       "      <td>NaN</td>\n",
       "      <td>NaN</td>\n",
       "      <td>NaN</td>\n",
       "      <td>NaN</td>\n",
       "      <td>NaN</td>\n",
       "      <td>490.0</td>\n",
       "      <td>371.0</td>\n",
       "      <td>545.0</td>\n",
       "    </tr>\n",
       "    <tr>\n",
       "      <th>1498</th>\n",
       "      <td>NaN</td>\n",
       "      <td>NaN</td>\n",
       "      <td>NaN</td>\n",
       "      <td>NaN</td>\n",
       "      <td>NaN</td>\n",
       "      <td>NaN</td>\n",
       "      <td>175.0</td>\n",
       "      <td>400.0</td>\n",
       "      <td>471.0</td>\n",
       "      <td>247.0</td>\n",
       "      <td>NaN</td>\n",
       "      <td>NaN</td>\n",
       "    </tr>\n",
       "    <tr>\n",
       "      <th>1499</th>\n",
       "      <td>NaN</td>\n",
       "      <td>NaN</td>\n",
       "      <td>NaN</td>\n",
       "      <td>NaN</td>\n",
       "      <td>NaN</td>\n",
       "      <td>NaN</td>\n",
       "      <td>NaN</td>\n",
       "      <td>NaN</td>\n",
       "      <td>70.0</td>\n",
       "      <td>449.0</td>\n",
       "      <td>612.0</td>\n",
       "      <td>492.0</td>\n",
       "    </tr>\n",
       "  </tbody>\n",
       "</table>\n",
       "<p>492 rows × 12 columns</p>\n",
       "</div>"
      ],
      "text/plain": [
       "month      1      2      3      4      5      6      7      8      9       10  \\\n",
       "user_id                                                                         \n",
       "1000      NaN    NaN    NaN    NaN  159.0  172.0  340.0  408.0  466.0   350.0   \n",
       "1001      NaN    NaN    NaN    NaN    NaN    NaN    NaN    NaN    NaN     NaN   \n",
       "1002      NaN    NaN    NaN    NaN    NaN  117.0  214.0  289.0  206.0   212.0   \n",
       "1003      NaN    NaN    NaN    NaN    NaN    NaN    NaN  380.0  961.0   855.0   \n",
       "1004      NaN    NaN    NaN    NaN   35.0  171.0  135.0  137.0  117.0   145.0   \n",
       "...       ...    ...    ...    ...    ...    ...    ...    ...    ...     ...   \n",
       "1495      NaN    NaN    NaN    NaN    NaN    NaN    NaN   92.0  813.0  1030.0   \n",
       "1496     48.0  594.0  557.0  521.0  484.0  555.0  582.0  527.0  486.0   450.0   \n",
       "1497      NaN    NaN    NaN    NaN    NaN    NaN    NaN    NaN    NaN   490.0   \n",
       "1498      NaN    NaN    NaN    NaN    NaN    NaN  175.0  400.0  471.0   247.0   \n",
       "1499      NaN    NaN    NaN    NaN    NaN    NaN    NaN    NaN   70.0   449.0   \n",
       "\n",
       "month       11      12  \n",
       "user_id                 \n",
       "1000     338.0   333.0  \n",
       "1001     430.0   414.0  \n",
       "1002     243.0   236.0  \n",
       "1003     824.0   802.0  \n",
       "1004     117.0   130.0  \n",
       "...        ...     ...  \n",
       "1495     954.0  1031.0  \n",
       "1496     662.0   518.0  \n",
       "1497     371.0   545.0  \n",
       "1498       NaN     NaN  \n",
       "1499     612.0   492.0  \n",
       "\n",
       "[492 rows x 12 columns]"
      ]
     },
     "execution_count": 153,
     "metadata": {},
     "output_type": "execute_result"
    }
   ],
   "source": [
    "calls_piv_2"
   ]
  },
  {
   "cell_type": "code",
   "execution_count": 154,
   "metadata": {
    "collapsed": true
   },
   "outputs": [],
   "source": [
    "calls_piv_1.columns = [f\"count_calls_month_{i}\" for i in range(1,13)] #изменяем названия столбцов\n",
    "calls_piv_2.columns = [f\"sum_calls_month_{i}\" for i in range(1,13)]"
   ]
  },
  {
   "cell_type": "code",
   "execution_count": 155,
   "metadata": {
    "collapsed": true
   },
   "outputs": [],
   "source": [
    "users = users.join(calls_piv_1, on='user_id')\n",
    "users = users.join(calls_piv_2, on='user_id')"
   ]
  },
  {
   "cell_type": "code",
   "execution_count": 156,
   "metadata": {},
   "outputs": [
    {
     "data": {
      "text/html": [
       "<div>\n",
       "<style scoped>\n",
       "    .dataframe tbody tr th:only-of-type {\n",
       "        vertical-align: middle;\n",
       "    }\n",
       "\n",
       "    .dataframe tbody tr th {\n",
       "        vertical-align: top;\n",
       "    }\n",
       "\n",
       "    .dataframe thead th {\n",
       "        text-align: right;\n",
       "    }\n",
       "</style>\n",
       "<table border=\"1\" class=\"dataframe\">\n",
       "  <thead>\n",
       "    <tr style=\"text-align: right;\">\n",
       "      <th></th>\n",
       "      <th>user_id</th>\n",
       "      <th>age</th>\n",
       "      <th>churn_date</th>\n",
       "      <th>city</th>\n",
       "      <th>first_name</th>\n",
       "      <th>last_name</th>\n",
       "      <th>reg_date</th>\n",
       "      <th>tariff</th>\n",
       "      <th>count_calls_month_1</th>\n",
       "      <th>count_calls_month_2</th>\n",
       "      <th>...</th>\n",
       "      <th>sum_calls_month_3</th>\n",
       "      <th>sum_calls_month_4</th>\n",
       "      <th>sum_calls_month_5</th>\n",
       "      <th>sum_calls_month_6</th>\n",
       "      <th>sum_calls_month_7</th>\n",
       "      <th>sum_calls_month_8</th>\n",
       "      <th>sum_calls_month_9</th>\n",
       "      <th>sum_calls_month_10</th>\n",
       "      <th>sum_calls_month_11</th>\n",
       "      <th>sum_calls_month_12</th>\n",
       "    </tr>\n",
       "  </thead>\n",
       "  <tbody>\n",
       "    <tr>\n",
       "      <th>0</th>\n",
       "      <td>1000</td>\n",
       "      <td>52</td>\n",
       "      <td>NaN</td>\n",
       "      <td>Краснодар</td>\n",
       "      <td>Рафаил</td>\n",
       "      <td>Верещагин</td>\n",
       "      <td>2018-05-25</td>\n",
       "      <td>ultra</td>\n",
       "      <td>NaN</td>\n",
       "      <td>NaN</td>\n",
       "      <td>...</td>\n",
       "      <td>NaN</td>\n",
       "      <td>NaN</td>\n",
       "      <td>159.0</td>\n",
       "      <td>172.0</td>\n",
       "      <td>340.0</td>\n",
       "      <td>408.0</td>\n",
       "      <td>466.0</td>\n",
       "      <td>350.0</td>\n",
       "      <td>338.0</td>\n",
       "      <td>333.0</td>\n",
       "    </tr>\n",
       "    <tr>\n",
       "      <th>1</th>\n",
       "      <td>1001</td>\n",
       "      <td>41</td>\n",
       "      <td>NaN</td>\n",
       "      <td>Москва</td>\n",
       "      <td>Иван</td>\n",
       "      <td>Ежов</td>\n",
       "      <td>2018-11-01</td>\n",
       "      <td>smart</td>\n",
       "      <td>NaN</td>\n",
       "      <td>NaN</td>\n",
       "      <td>...</td>\n",
       "      <td>NaN</td>\n",
       "      <td>NaN</td>\n",
       "      <td>NaN</td>\n",
       "      <td>NaN</td>\n",
       "      <td>NaN</td>\n",
       "      <td>NaN</td>\n",
       "      <td>NaN</td>\n",
       "      <td>NaN</td>\n",
       "      <td>430.0</td>\n",
       "      <td>414.0</td>\n",
       "    </tr>\n",
       "    <tr>\n",
       "      <th>2</th>\n",
       "      <td>1002</td>\n",
       "      <td>59</td>\n",
       "      <td>NaN</td>\n",
       "      <td>Стерлитамак</td>\n",
       "      <td>Евгений</td>\n",
       "      <td>Абрамович</td>\n",
       "      <td>2018-06-17</td>\n",
       "      <td>smart</td>\n",
       "      <td>NaN</td>\n",
       "      <td>NaN</td>\n",
       "      <td>...</td>\n",
       "      <td>NaN</td>\n",
       "      <td>NaN</td>\n",
       "      <td>NaN</td>\n",
       "      <td>117.0</td>\n",
       "      <td>214.0</td>\n",
       "      <td>289.0</td>\n",
       "      <td>206.0</td>\n",
       "      <td>212.0</td>\n",
       "      <td>243.0</td>\n",
       "      <td>236.0</td>\n",
       "    </tr>\n",
       "    <tr>\n",
       "      <th>3</th>\n",
       "      <td>1003</td>\n",
       "      <td>23</td>\n",
       "      <td>NaN</td>\n",
       "      <td>Москва</td>\n",
       "      <td>Белла</td>\n",
       "      <td>Белякова</td>\n",
       "      <td>2018-08-17</td>\n",
       "      <td>ultra</td>\n",
       "      <td>NaN</td>\n",
       "      <td>NaN</td>\n",
       "      <td>...</td>\n",
       "      <td>NaN</td>\n",
       "      <td>NaN</td>\n",
       "      <td>NaN</td>\n",
       "      <td>NaN</td>\n",
       "      <td>NaN</td>\n",
       "      <td>380.0</td>\n",
       "      <td>961.0</td>\n",
       "      <td>855.0</td>\n",
       "      <td>824.0</td>\n",
       "      <td>802.0</td>\n",
       "    </tr>\n",
       "    <tr>\n",
       "      <th>4</th>\n",
       "      <td>1004</td>\n",
       "      <td>68</td>\n",
       "      <td>NaN</td>\n",
       "      <td>Новокузнецк</td>\n",
       "      <td>Татьяна</td>\n",
       "      <td>Авдеенко</td>\n",
       "      <td>2018-05-14</td>\n",
       "      <td>ultra</td>\n",
       "      <td>NaN</td>\n",
       "      <td>NaN</td>\n",
       "      <td>...</td>\n",
       "      <td>NaN</td>\n",
       "      <td>NaN</td>\n",
       "      <td>35.0</td>\n",
       "      <td>171.0</td>\n",
       "      <td>135.0</td>\n",
       "      <td>137.0</td>\n",
       "      <td>117.0</td>\n",
       "      <td>145.0</td>\n",
       "      <td>117.0</td>\n",
       "      <td>130.0</td>\n",
       "    </tr>\n",
       "    <tr>\n",
       "      <th>...</th>\n",
       "      <td>...</td>\n",
       "      <td>...</td>\n",
       "      <td>...</td>\n",
       "      <td>...</td>\n",
       "      <td>...</td>\n",
       "      <td>...</td>\n",
       "      <td>...</td>\n",
       "      <td>...</td>\n",
       "      <td>...</td>\n",
       "      <td>...</td>\n",
       "      <td>...</td>\n",
       "      <td>...</td>\n",
       "      <td>...</td>\n",
       "      <td>...</td>\n",
       "      <td>...</td>\n",
       "      <td>...</td>\n",
       "      <td>...</td>\n",
       "      <td>...</td>\n",
       "      <td>...</td>\n",
       "      <td>...</td>\n",
       "      <td>...</td>\n",
       "    </tr>\n",
       "    <tr>\n",
       "      <th>495</th>\n",
       "      <td>1495</td>\n",
       "      <td>65</td>\n",
       "      <td>NaN</td>\n",
       "      <td>Иркутск</td>\n",
       "      <td>Авксентий</td>\n",
       "      <td>Фокин</td>\n",
       "      <td>2018-08-28</td>\n",
       "      <td>ultra</td>\n",
       "      <td>NaN</td>\n",
       "      <td>NaN</td>\n",
       "      <td>...</td>\n",
       "      <td>NaN</td>\n",
       "      <td>NaN</td>\n",
       "      <td>NaN</td>\n",
       "      <td>NaN</td>\n",
       "      <td>NaN</td>\n",
       "      <td>92.0</td>\n",
       "      <td>813.0</td>\n",
       "      <td>1030.0</td>\n",
       "      <td>954.0</td>\n",
       "      <td>1031.0</td>\n",
       "    </tr>\n",
       "    <tr>\n",
       "      <th>496</th>\n",
       "      <td>1496</td>\n",
       "      <td>36</td>\n",
       "      <td>NaN</td>\n",
       "      <td>Вологда</td>\n",
       "      <td>Трифон</td>\n",
       "      <td>Блохин</td>\n",
       "      <td>2018-01-27</td>\n",
       "      <td>smart</td>\n",
       "      <td>7.0</td>\n",
       "      <td>77.0</td>\n",
       "      <td>...</td>\n",
       "      <td>557.0</td>\n",
       "      <td>521.0</td>\n",
       "      <td>484.0</td>\n",
       "      <td>555.0</td>\n",
       "      <td>582.0</td>\n",
       "      <td>527.0</td>\n",
       "      <td>486.0</td>\n",
       "      <td>450.0</td>\n",
       "      <td>662.0</td>\n",
       "      <td>518.0</td>\n",
       "    </tr>\n",
       "    <tr>\n",
       "      <th>497</th>\n",
       "      <td>1497</td>\n",
       "      <td>32</td>\n",
       "      <td>NaN</td>\n",
       "      <td>Челябинск</td>\n",
       "      <td>Каролина</td>\n",
       "      <td>Агеева</td>\n",
       "      <td>2018-10-09</td>\n",
       "      <td>smart</td>\n",
       "      <td>NaN</td>\n",
       "      <td>NaN</td>\n",
       "      <td>...</td>\n",
       "      <td>NaN</td>\n",
       "      <td>NaN</td>\n",
       "      <td>NaN</td>\n",
       "      <td>NaN</td>\n",
       "      <td>NaN</td>\n",
       "      <td>NaN</td>\n",
       "      <td>NaN</td>\n",
       "      <td>490.0</td>\n",
       "      <td>371.0</td>\n",
       "      <td>545.0</td>\n",
       "    </tr>\n",
       "    <tr>\n",
       "      <th>498</th>\n",
       "      <td>1498</td>\n",
       "      <td>68</td>\n",
       "      <td>2018-10-25</td>\n",
       "      <td>Владикавказ</td>\n",
       "      <td>Всеволод</td>\n",
       "      <td>Акимчин</td>\n",
       "      <td>2018-07-19</td>\n",
       "      <td>smart</td>\n",
       "      <td>NaN</td>\n",
       "      <td>NaN</td>\n",
       "      <td>...</td>\n",
       "      <td>NaN</td>\n",
       "      <td>NaN</td>\n",
       "      <td>NaN</td>\n",
       "      <td>NaN</td>\n",
       "      <td>175.0</td>\n",
       "      <td>400.0</td>\n",
       "      <td>471.0</td>\n",
       "      <td>247.0</td>\n",
       "      <td>NaN</td>\n",
       "      <td>NaN</td>\n",
       "    </tr>\n",
       "    <tr>\n",
       "      <th>499</th>\n",
       "      <td>1499</td>\n",
       "      <td>35</td>\n",
       "      <td>NaN</td>\n",
       "      <td>Пермь</td>\n",
       "      <td>Гектор</td>\n",
       "      <td>Корнилов</td>\n",
       "      <td>2018-09-27</td>\n",
       "      <td>smart</td>\n",
       "      <td>NaN</td>\n",
       "      <td>NaN</td>\n",
       "      <td>...</td>\n",
       "      <td>NaN</td>\n",
       "      <td>NaN</td>\n",
       "      <td>NaN</td>\n",
       "      <td>NaN</td>\n",
       "      <td>NaN</td>\n",
       "      <td>NaN</td>\n",
       "      <td>70.0</td>\n",
       "      <td>449.0</td>\n",
       "      <td>612.0</td>\n",
       "      <td>492.0</td>\n",
       "    </tr>\n",
       "  </tbody>\n",
       "</table>\n",
       "<p>500 rows × 32 columns</p>\n",
       "</div>"
      ],
      "text/plain": [
       "     user_id  age  churn_date         city first_name  last_name    reg_date  \\\n",
       "0       1000   52         NaN    Краснодар     Рафаил  Верещагин  2018-05-25   \n",
       "1       1001   41         NaN       Москва       Иван       Ежов  2018-11-01   \n",
       "2       1002   59         NaN  Стерлитамак    Евгений  Абрамович  2018-06-17   \n",
       "3       1003   23         NaN       Москва      Белла   Белякова  2018-08-17   \n",
       "4       1004   68         NaN  Новокузнецк    Татьяна   Авдеенко  2018-05-14   \n",
       "..       ...  ...         ...          ...        ...        ...         ...   \n",
       "495     1495   65         NaN      Иркутск  Авксентий      Фокин  2018-08-28   \n",
       "496     1496   36         NaN      Вологда     Трифон     Блохин  2018-01-27   \n",
       "497     1497   32         NaN    Челябинск   Каролина     Агеева  2018-10-09   \n",
       "498     1498   68  2018-10-25  Владикавказ   Всеволод    Акимчин  2018-07-19   \n",
       "499     1499   35         NaN        Пермь     Гектор   Корнилов  2018-09-27   \n",
       "\n",
       "    tariff  count_calls_month_1  count_calls_month_2  ...  sum_calls_month_3  \\\n",
       "0    ultra                  NaN                  NaN  ...                NaN   \n",
       "1    smart                  NaN                  NaN  ...                NaN   \n",
       "2    smart                  NaN                  NaN  ...                NaN   \n",
       "3    ultra                  NaN                  NaN  ...                NaN   \n",
       "4    ultra                  NaN                  NaN  ...                NaN   \n",
       "..     ...                  ...                  ...  ...                ...   \n",
       "495  ultra                  NaN                  NaN  ...                NaN   \n",
       "496  smart                  7.0                 77.0  ...              557.0   \n",
       "497  smart                  NaN                  NaN  ...                NaN   \n",
       "498  smart                  NaN                  NaN  ...                NaN   \n",
       "499  smart                  NaN                  NaN  ...                NaN   \n",
       "\n",
       "     sum_calls_month_4  sum_calls_month_5  sum_calls_month_6  \\\n",
       "0                  NaN              159.0              172.0   \n",
       "1                  NaN                NaN                NaN   \n",
       "2                  NaN                NaN              117.0   \n",
       "3                  NaN                NaN                NaN   \n",
       "4                  NaN               35.0              171.0   \n",
       "..                 ...                ...                ...   \n",
       "495                NaN                NaN                NaN   \n",
       "496              521.0              484.0              555.0   \n",
       "497                NaN                NaN                NaN   \n",
       "498                NaN                NaN                NaN   \n",
       "499                NaN                NaN                NaN   \n",
       "\n",
       "     sum_calls_month_7  sum_calls_month_8  sum_calls_month_9  \\\n",
       "0                340.0              408.0              466.0   \n",
       "1                  NaN                NaN                NaN   \n",
       "2                214.0              289.0              206.0   \n",
       "3                  NaN              380.0              961.0   \n",
       "4                135.0              137.0              117.0   \n",
       "..                 ...                ...                ...   \n",
       "495                NaN               92.0              813.0   \n",
       "496              582.0              527.0              486.0   \n",
       "497                NaN                NaN                NaN   \n",
       "498              175.0              400.0              471.0   \n",
       "499                NaN                NaN               70.0   \n",
       "\n",
       "     sum_calls_month_10  sum_calls_month_11  sum_calls_month_12  \n",
       "0                 350.0               338.0               333.0  \n",
       "1                   NaN               430.0               414.0  \n",
       "2                 212.0               243.0               236.0  \n",
       "3                 855.0               824.0               802.0  \n",
       "4                 145.0               117.0               130.0  \n",
       "..                  ...                 ...                 ...  \n",
       "495              1030.0               954.0              1031.0  \n",
       "496               450.0               662.0               518.0  \n",
       "497               490.0               371.0               545.0  \n",
       "498               247.0                 NaN                 NaN  \n",
       "499               449.0               612.0               492.0  \n",
       "\n",
       "[500 rows x 32 columns]"
      ]
     },
     "execution_count": 156,
     "metadata": {},
     "output_type": "execute_result"
    }
   ],
   "source": [
    "users"
   ]
  },
  {
   "cell_type": "markdown",
   "metadata": {},
   "source": [
    "### Интернет"
   ]
  },
  {
   "cell_type": "markdown",
   "metadata": {},
   "source": [
    "#### Поиск ошибок и преобразование типов данных"
   ]
  },
  {
   "cell_type": "code",
   "execution_count": 157,
   "metadata": {},
   "outputs": [
    {
     "data": {
      "text/html": [
       "<div>\n",
       "<style scoped>\n",
       "    .dataframe tbody tr th:only-of-type {\n",
       "        vertical-align: middle;\n",
       "    }\n",
       "\n",
       "    .dataframe tbody tr th {\n",
       "        vertical-align: top;\n",
       "    }\n",
       "\n",
       "    .dataframe thead th {\n",
       "        text-align: right;\n",
       "    }\n",
       "</style>\n",
       "<table border=\"1\" class=\"dataframe\">\n",
       "  <thead>\n",
       "    <tr style=\"text-align: right;\">\n",
       "      <th></th>\n",
       "      <th>Unnamed: 0</th>\n",
       "      <th>id</th>\n",
       "      <th>mb_used</th>\n",
       "      <th>session_date</th>\n",
       "      <th>user_id</th>\n",
       "    </tr>\n",
       "  </thead>\n",
       "  <tbody>\n",
       "    <tr>\n",
       "      <th>0</th>\n",
       "      <td>0</td>\n",
       "      <td>1000_0</td>\n",
       "      <td>112.95</td>\n",
       "      <td>2018-11-25</td>\n",
       "      <td>1000</td>\n",
       "    </tr>\n",
       "    <tr>\n",
       "      <th>1</th>\n",
       "      <td>1</td>\n",
       "      <td>1000_1</td>\n",
       "      <td>1052.81</td>\n",
       "      <td>2018-09-07</td>\n",
       "      <td>1000</td>\n",
       "    </tr>\n",
       "    <tr>\n",
       "      <th>2</th>\n",
       "      <td>2</td>\n",
       "      <td>1000_2</td>\n",
       "      <td>1197.26</td>\n",
       "      <td>2018-06-25</td>\n",
       "      <td>1000</td>\n",
       "    </tr>\n",
       "    <tr>\n",
       "      <th>3</th>\n",
       "      <td>3</td>\n",
       "      <td>1000_3</td>\n",
       "      <td>550.27</td>\n",
       "      <td>2018-08-22</td>\n",
       "      <td>1000</td>\n",
       "    </tr>\n",
       "    <tr>\n",
       "      <th>4</th>\n",
       "      <td>4</td>\n",
       "      <td>1000_4</td>\n",
       "      <td>302.56</td>\n",
       "      <td>2018-09-24</td>\n",
       "      <td>1000</td>\n",
       "    </tr>\n",
       "  </tbody>\n",
       "</table>\n",
       "</div>"
      ],
      "text/plain": [
       "   Unnamed: 0      id  mb_used session_date  user_id\n",
       "0           0  1000_0   112.95   2018-11-25     1000\n",
       "1           1  1000_1  1052.81   2018-09-07     1000\n",
       "2           2  1000_2  1197.26   2018-06-25     1000\n",
       "3           3  1000_3   550.27   2018-08-22     1000\n",
       "4           4  1000_4   302.56   2018-09-24     1000"
      ]
     },
     "execution_count": 157,
     "metadata": {},
     "output_type": "execute_result"
    }
   ],
   "source": [
    "internet.head(5)"
   ]
  },
  {
   "cell_type": "code",
   "execution_count": 158,
   "metadata": {
    "collapsed": true
   },
   "outputs": [],
   "source": [
    "internet['session_date'] = pd.to_datetime(internet['session_date'], format = '%Y-%m-%d') #переводим столбец в формат времени"
   ]
  },
  {
   "cell_type": "code",
   "execution_count": 159,
   "metadata": {
    "collapsed": true
   },
   "outputs": [],
   "source": [
    "internet.rename(columns={'mb_used': 'gb_used'}, inplace=True)"
   ]
  },
  {
   "cell_type": "code",
   "execution_count": 160,
   "metadata": {},
   "outputs": [
    {
     "data": {
      "text/html": [
       "<div>\n",
       "<style scoped>\n",
       "    .dataframe tbody tr th:only-of-type {\n",
       "        vertical-align: middle;\n",
       "    }\n",
       "\n",
       "    .dataframe tbody tr th {\n",
       "        vertical-align: top;\n",
       "    }\n",
       "\n",
       "    .dataframe thead th {\n",
       "        text-align: right;\n",
       "    }\n",
       "</style>\n",
       "<table border=\"1\" class=\"dataframe\">\n",
       "  <thead>\n",
       "    <tr style=\"text-align: right;\">\n",
       "      <th></th>\n",
       "      <th>Unnamed: 0</th>\n",
       "      <th>id</th>\n",
       "      <th>gb_used</th>\n",
       "      <th>session_date</th>\n",
       "      <th>user_id</th>\n",
       "    </tr>\n",
       "  </thead>\n",
       "  <tbody>\n",
       "    <tr>\n",
       "      <th>0</th>\n",
       "      <td>0</td>\n",
       "      <td>1000_0</td>\n",
       "      <td>112.95</td>\n",
       "      <td>2018-11-25</td>\n",
       "      <td>1000</td>\n",
       "    </tr>\n",
       "    <tr>\n",
       "      <th>1</th>\n",
       "      <td>1</td>\n",
       "      <td>1000_1</td>\n",
       "      <td>1052.81</td>\n",
       "      <td>2018-09-07</td>\n",
       "      <td>1000</td>\n",
       "    </tr>\n",
       "    <tr>\n",
       "      <th>2</th>\n",
       "      <td>2</td>\n",
       "      <td>1000_2</td>\n",
       "      <td>1197.26</td>\n",
       "      <td>2018-06-25</td>\n",
       "      <td>1000</td>\n",
       "    </tr>\n",
       "    <tr>\n",
       "      <th>3</th>\n",
       "      <td>3</td>\n",
       "      <td>1000_3</td>\n",
       "      <td>550.27</td>\n",
       "      <td>2018-08-22</td>\n",
       "      <td>1000</td>\n",
       "    </tr>\n",
       "    <tr>\n",
       "      <th>4</th>\n",
       "      <td>4</td>\n",
       "      <td>1000_4</td>\n",
       "      <td>302.56</td>\n",
       "      <td>2018-09-24</td>\n",
       "      <td>1000</td>\n",
       "    </tr>\n",
       "  </tbody>\n",
       "</table>\n",
       "</div>"
      ],
      "text/plain": [
       "   Unnamed: 0      id  gb_used session_date  user_id\n",
       "0           0  1000_0   112.95   2018-11-25     1000\n",
       "1           1  1000_1  1052.81   2018-09-07     1000\n",
       "2           2  1000_2  1197.26   2018-06-25     1000\n",
       "3           3  1000_3   550.27   2018-08-22     1000\n",
       "4           4  1000_4   302.56   2018-09-24     1000"
      ]
     },
     "execution_count": 160,
     "metadata": {},
     "output_type": "execute_result"
    }
   ],
   "source": [
    "internet.head(5)"
   ]
  },
  {
   "cell_type": "code",
   "execution_count": 161,
   "metadata": {},
   "outputs": [
    {
     "name": "stdout",
     "output_type": "stream",
     "text": [
      "<class 'pandas.core.frame.DataFrame'>\n",
      "RangeIndex: 149396 entries, 0 to 149395\n",
      "Data columns (total 5 columns):\n",
      " #   Column        Non-Null Count   Dtype         \n",
      "---  ------        --------------   -----         \n",
      " 0   Unnamed: 0    149396 non-null  int64         \n",
      " 1   id            149396 non-null  object        \n",
      " 2   gb_used       149396 non-null  float64       \n",
      " 3   session_date  149396 non-null  datetime64[ns]\n",
      " 4   user_id       149396 non-null  int64         \n",
      "dtypes: datetime64[ns](1), float64(1), int64(2), object(1)\n",
      "memory usage: 5.7+ MB\n"
     ]
    }
   ],
   "source": [
    "internet.info()"
   ]
  },
  {
   "cell_type": "code",
   "execution_count": 162,
   "metadata": {},
   "outputs": [
    {
     "data": {
      "text/plain": [
       "<AxesSubplot:>"
      ]
     },
     "execution_count": 162,
     "metadata": {},
     "output_type": "execute_result"
    },
    {
     "data": {
      "image/png": "[encoded data removed]",
      "text/plain": [
       "<Figure size 432x288 with 1 Axes>"
      ]
     },
     "metadata": {
      "needs_background": "light"
     },
     "output_type": "display_data"
    }
   ],
   "source": [
    "internet.boxplot('gb_used')"
   ]
  },
  {
   "cell_type": "code",
   "execution_count": 163,
   "metadata": {},
   "outputs": [
    {
     "data": {
      "text/plain": [
       "count    149396.000000\n",
       "mean        370.192426\n",
       "std         278.300951\n",
       "min           0.000000\n",
       "25%         138.187500\n",
       "50%         348.015000\n",
       "75%         559.552500\n",
       "max        1724.830000\n",
       "Name: gb_used, dtype: float64"
      ]
     },
     "execution_count": 163,
     "metadata": {},
     "output_type": "execute_result"
    }
   ],
   "source": [
    "internet['gb_used'].describe()"
   ]
  },
  {
   "cell_type": "code",
   "execution_count": 164,
   "metadata": {
    "collapsed": true
   },
   "outputs": [],
   "source": [
    "internet['month'] = pd.DatetimeIndex(internet['session_date']).month"
   ]
  },
  {
   "cell_type": "code",
   "execution_count": 165,
   "metadata": {},
   "outputs": [
    {
     "data": {
      "text/html": [
       "<div>\n",
       "<style scoped>\n",
       "    .dataframe tbody tr th:only-of-type {\n",
       "        vertical-align: middle;\n",
       "    }\n",
       "\n",
       "    .dataframe tbody tr th {\n",
       "        vertical-align: top;\n",
       "    }\n",
       "\n",
       "    .dataframe thead th {\n",
       "        text-align: right;\n",
       "    }\n",
       "</style>\n",
       "<table border=\"1\" class=\"dataframe\">\n",
       "  <thead>\n",
       "    <tr style=\"text-align: right;\">\n",
       "      <th></th>\n",
       "      <th>Unnamed: 0</th>\n",
       "      <th>id</th>\n",
       "      <th>gb_used</th>\n",
       "      <th>session_date</th>\n",
       "      <th>user_id</th>\n",
       "      <th>month</th>\n",
       "    </tr>\n",
       "  </thead>\n",
       "  <tbody>\n",
       "    <tr>\n",
       "      <th>0</th>\n",
       "      <td>0</td>\n",
       "      <td>1000_0</td>\n",
       "      <td>112.95</td>\n",
       "      <td>2018-11-25</td>\n",
       "      <td>1000</td>\n",
       "      <td>11</td>\n",
       "    </tr>\n",
       "    <tr>\n",
       "      <th>1</th>\n",
       "      <td>1</td>\n",
       "      <td>1000_1</td>\n",
       "      <td>1052.81</td>\n",
       "      <td>2018-09-07</td>\n",
       "      <td>1000</td>\n",
       "      <td>9</td>\n",
       "    </tr>\n",
       "    <tr>\n",
       "      <th>2</th>\n",
       "      <td>2</td>\n",
       "      <td>1000_2</td>\n",
       "      <td>1197.26</td>\n",
       "      <td>2018-06-25</td>\n",
       "      <td>1000</td>\n",
       "      <td>6</td>\n",
       "    </tr>\n",
       "    <tr>\n",
       "      <th>3</th>\n",
       "      <td>3</td>\n",
       "      <td>1000_3</td>\n",
       "      <td>550.27</td>\n",
       "      <td>2018-08-22</td>\n",
       "      <td>1000</td>\n",
       "      <td>8</td>\n",
       "    </tr>\n",
       "    <tr>\n",
       "      <th>4</th>\n",
       "      <td>4</td>\n",
       "      <td>1000_4</td>\n",
       "      <td>302.56</td>\n",
       "      <td>2018-09-24</td>\n",
       "      <td>1000</td>\n",
       "      <td>9</td>\n",
       "    </tr>\n",
       "  </tbody>\n",
       "</table>\n",
       "</div>"
      ],
      "text/plain": [
       "   Unnamed: 0      id  gb_used session_date  user_id  month\n",
       "0           0  1000_0   112.95   2018-11-25     1000     11\n",
       "1           1  1000_1  1052.81   2018-09-07     1000      9\n",
       "2           2  1000_2  1197.26   2018-06-25     1000      6\n",
       "3           3  1000_3   550.27   2018-08-22     1000      8\n",
       "4           4  1000_4   302.56   2018-09-24     1000      9"
      ]
     },
     "execution_count": 165,
     "metadata": {},
     "output_type": "execute_result"
    }
   ],
   "source": [
    "internet.head()"
   ]
  },
  {
   "cell_type": "markdown",
   "metadata": {},
   "source": [
    "#### Объем затраченного интеренета по месяцам для каждого пользователя"
   ]
  },
  {
   "cell_type": "code",
   "execution_count": 166,
   "metadata": {
    "collapsed": true
   },
   "outputs": [],
   "source": [
    "internet_piv = internet.pivot_table(index='user_id', columns='month', values='gb_used', aggfunc='sum')  #получаем сводную таблицу по каждому пользователю и месяцу"
   ]
  },
  {
   "cell_type": "code",
   "execution_count": 167,
   "metadata": {
    "collapsed": true
   },
   "outputs": [],
   "source": [
    "internet_piv.columns = [f\"gb_used_month_{i}\" for i in range(1,13)] #изменяем названия столбцов"
   ]
  },
  {
   "cell_type": "code",
   "execution_count": 168,
   "metadata": {
    "collapsed": true
   },
   "outputs": [],
   "source": [
    "users = users.join(internet_piv, on='user_id')"
   ]
  },
  {
   "cell_type": "code",
   "execution_count": 169,
   "metadata": {},
   "outputs": [
    {
     "data": {
      "text/html": [
       "<div>\n",
       "<style scoped>\n",
       "    .dataframe tbody tr th:only-of-type {\n",
       "        vertical-align: middle;\n",
       "    }\n",
       "\n",
       "    .dataframe tbody tr th {\n",
       "        vertical-align: top;\n",
       "    }\n",
       "\n",
       "    .dataframe thead th {\n",
       "        text-align: right;\n",
       "    }\n",
       "</style>\n",
       "<table border=\"1\" class=\"dataframe\">\n",
       "  <thead>\n",
       "    <tr style=\"text-align: right;\">\n",
       "      <th></th>\n",
       "      <th>user_id</th>\n",
       "      <th>age</th>\n",
       "      <th>churn_date</th>\n",
       "      <th>city</th>\n",
       "      <th>first_name</th>\n",
       "      <th>last_name</th>\n",
       "      <th>reg_date</th>\n",
       "      <th>tariff</th>\n",
       "      <th>count_calls_month_1</th>\n",
       "      <th>count_calls_month_2</th>\n",
       "      <th>...</th>\n",
       "      <th>gb_used_month_3</th>\n",
       "      <th>gb_used_month_4</th>\n",
       "      <th>gb_used_month_5</th>\n",
       "      <th>gb_used_month_6</th>\n",
       "      <th>gb_used_month_7</th>\n",
       "      <th>gb_used_month_8</th>\n",
       "      <th>gb_used_month_9</th>\n",
       "      <th>gb_used_month_10</th>\n",
       "      <th>gb_used_month_11</th>\n",
       "      <th>gb_used_month_12</th>\n",
       "    </tr>\n",
       "  </thead>\n",
       "  <tbody>\n",
       "    <tr>\n",
       "      <th>0</th>\n",
       "      <td>1000</td>\n",
       "      <td>52</td>\n",
       "      <td>NaN</td>\n",
       "      <td>Краснодар</td>\n",
       "      <td>Рафаил</td>\n",
       "      <td>Верещагин</td>\n",
       "      <td>2018-05-25</td>\n",
       "      <td>ultra</td>\n",
       "      <td>NaN</td>\n",
       "      <td>NaN</td>\n",
       "      <td>...</td>\n",
       "      <td>NaN</td>\n",
       "      <td>NaN</td>\n",
       "      <td>2253.49</td>\n",
       "      <td>23233.77</td>\n",
       "      <td>14003.64</td>\n",
       "      <td>14055.93</td>\n",
       "      <td>14568.91</td>\n",
       "      <td>14702.49</td>\n",
       "      <td>14756.47</td>\n",
       "      <td>9817.61</td>\n",
       "    </tr>\n",
       "    <tr>\n",
       "      <th>1</th>\n",
       "      <td>1001</td>\n",
       "      <td>41</td>\n",
       "      <td>NaN</td>\n",
       "      <td>Москва</td>\n",
       "      <td>Иван</td>\n",
       "      <td>Ежов</td>\n",
       "      <td>2018-11-01</td>\n",
       "      <td>smart</td>\n",
       "      <td>NaN</td>\n",
       "      <td>NaN</td>\n",
       "      <td>...</td>\n",
       "      <td>NaN</td>\n",
       "      <td>NaN</td>\n",
       "      <td>NaN</td>\n",
       "      <td>NaN</td>\n",
       "      <td>NaN</td>\n",
       "      <td>NaN</td>\n",
       "      <td>NaN</td>\n",
       "      <td>NaN</td>\n",
       "      <td>18429.34</td>\n",
       "      <td>14036.66</td>\n",
       "    </tr>\n",
       "    <tr>\n",
       "      <th>2</th>\n",
       "      <td>1002</td>\n",
       "      <td>59</td>\n",
       "      <td>NaN</td>\n",
       "      <td>Стерлитамак</td>\n",
       "      <td>Евгений</td>\n",
       "      <td>Абрамович</td>\n",
       "      <td>2018-06-17</td>\n",
       "      <td>smart</td>\n",
       "      <td>NaN</td>\n",
       "      <td>NaN</td>\n",
       "      <td>...</td>\n",
       "      <td>NaN</td>\n",
       "      <td>NaN</td>\n",
       "      <td>NaN</td>\n",
       "      <td>10856.82</td>\n",
       "      <td>17580.10</td>\n",
       "      <td>20319.26</td>\n",
       "      <td>16691.08</td>\n",
       "      <td>13888.25</td>\n",
       "      <td>18587.28</td>\n",
       "      <td>18113.73</td>\n",
       "    </tr>\n",
       "    <tr>\n",
       "      <th>3</th>\n",
       "      <td>1003</td>\n",
       "      <td>23</td>\n",
       "      <td>NaN</td>\n",
       "      <td>Москва</td>\n",
       "      <td>Белла</td>\n",
       "      <td>Белякова</td>\n",
       "      <td>2018-08-17</td>\n",
       "      <td>ultra</td>\n",
       "      <td>NaN</td>\n",
       "      <td>NaN</td>\n",
       "      <td>...</td>\n",
       "      <td>NaN</td>\n",
       "      <td>NaN</td>\n",
       "      <td>NaN</td>\n",
       "      <td>NaN</td>\n",
       "      <td>NaN</td>\n",
       "      <td>8565.21</td>\n",
       "      <td>12468.87</td>\n",
       "      <td>14768.14</td>\n",
       "      <td>11356.89</td>\n",
       "      <td>10121.53</td>\n",
       "    </tr>\n",
       "    <tr>\n",
       "      <th>4</th>\n",
       "      <td>1004</td>\n",
       "      <td>68</td>\n",
       "      <td>NaN</td>\n",
       "      <td>Новокузнецк</td>\n",
       "      <td>Татьяна</td>\n",
       "      <td>Авдеенко</td>\n",
       "      <td>2018-05-14</td>\n",
       "      <td>ultra</td>\n",
       "      <td>NaN</td>\n",
       "      <td>NaN</td>\n",
       "      <td>...</td>\n",
       "      <td>NaN</td>\n",
       "      <td>NaN</td>\n",
       "      <td>13403.98</td>\n",
       "      <td>17600.02</td>\n",
       "      <td>22229.58</td>\n",
       "      <td>28584.37</td>\n",
       "      <td>15109.03</td>\n",
       "      <td>18475.44</td>\n",
       "      <td>15616.02</td>\n",
       "      <td>18021.04</td>\n",
       "    </tr>\n",
       "    <tr>\n",
       "      <th>...</th>\n",
       "      <td>...</td>\n",
       "      <td>...</td>\n",
       "      <td>...</td>\n",
       "      <td>...</td>\n",
       "      <td>...</td>\n",
       "      <td>...</td>\n",
       "      <td>...</td>\n",
       "      <td>...</td>\n",
       "      <td>...</td>\n",
       "      <td>...</td>\n",
       "      <td>...</td>\n",
       "      <td>...</td>\n",
       "      <td>...</td>\n",
       "      <td>...</td>\n",
       "      <td>...</td>\n",
       "      <td>...</td>\n",
       "      <td>...</td>\n",
       "      <td>...</td>\n",
       "      <td>...</td>\n",
       "      <td>...</td>\n",
       "      <td>...</td>\n",
       "    </tr>\n",
       "    <tr>\n",
       "      <th>495</th>\n",
       "      <td>1495</td>\n",
       "      <td>65</td>\n",
       "      <td>NaN</td>\n",
       "      <td>Иркутск</td>\n",
       "      <td>Авксентий</td>\n",
       "      <td>Фокин</td>\n",
       "      <td>2018-08-28</td>\n",
       "      <td>ultra</td>\n",
       "      <td>NaN</td>\n",
       "      <td>NaN</td>\n",
       "      <td>...</td>\n",
       "      <td>NaN</td>\n",
       "      <td>NaN</td>\n",
       "      <td>NaN</td>\n",
       "      <td>NaN</td>\n",
       "      <td>NaN</td>\n",
       "      <td>2614.07</td>\n",
       "      <td>33067.62</td>\n",
       "      <td>29363.00</td>\n",
       "      <td>38939.11</td>\n",
       "      <td>23426.76</td>\n",
       "    </tr>\n",
       "    <tr>\n",
       "      <th>496</th>\n",
       "      <td>1496</td>\n",
       "      <td>36</td>\n",
       "      <td>NaN</td>\n",
       "      <td>Вологда</td>\n",
       "      <td>Трифон</td>\n",
       "      <td>Блохин</td>\n",
       "      <td>2018-01-27</td>\n",
       "      <td>smart</td>\n",
       "      <td>7.0</td>\n",
       "      <td>77.0</td>\n",
       "      <td>...</td>\n",
       "      <td>24959.0</td>\n",
       "      <td>21074.67</td>\n",
       "      <td>23709.75</td>\n",
       "      <td>20134.31</td>\n",
       "      <td>24364.76</td>\n",
       "      <td>23530.03</td>\n",
       "      <td>26934.65</td>\n",
       "      <td>28183.17</td>\n",
       "      <td>25063.40</td>\n",
       "      <td>20736.15</td>\n",
       "    </tr>\n",
       "    <tr>\n",
       "      <th>497</th>\n",
       "      <td>1497</td>\n",
       "      <td>32</td>\n",
       "      <td>NaN</td>\n",
       "      <td>Челябинск</td>\n",
       "      <td>Каролина</td>\n",
       "      <td>Агеева</td>\n",
       "      <td>2018-10-09</td>\n",
       "      <td>smart</td>\n",
       "      <td>NaN</td>\n",
       "      <td>NaN</td>\n",
       "      <td>...</td>\n",
       "      <td>NaN</td>\n",
       "      <td>NaN</td>\n",
       "      <td>NaN</td>\n",
       "      <td>NaN</td>\n",
       "      <td>NaN</td>\n",
       "      <td>NaN</td>\n",
       "      <td>NaN</td>\n",
       "      <td>11500.29</td>\n",
       "      <td>14156.08</td>\n",
       "      <td>19918.60</td>\n",
       "    </tr>\n",
       "    <tr>\n",
       "      <th>498</th>\n",
       "      <td>1498</td>\n",
       "      <td>68</td>\n",
       "      <td>2018-10-25</td>\n",
       "      <td>Владикавказ</td>\n",
       "      <td>Всеволод</td>\n",
       "      <td>Акимчин</td>\n",
       "      <td>2018-07-19</td>\n",
       "      <td>smart</td>\n",
       "      <td>NaN</td>\n",
       "      <td>NaN</td>\n",
       "      <td>...</td>\n",
       "      <td>NaN</td>\n",
       "      <td>NaN</td>\n",
       "      <td>NaN</td>\n",
       "      <td>NaN</td>\n",
       "      <td>7476.24</td>\n",
       "      <td>24235.21</td>\n",
       "      <td>22134.41</td>\n",
       "      <td>20579.36</td>\n",
       "      <td>NaN</td>\n",
       "      <td>NaN</td>\n",
       "    </tr>\n",
       "    <tr>\n",
       "      <th>499</th>\n",
       "      <td>1499</td>\n",
       "      <td>35</td>\n",
       "      <td>NaN</td>\n",
       "      <td>Пермь</td>\n",
       "      <td>Гектор</td>\n",
       "      <td>Корнилов</td>\n",
       "      <td>2018-09-27</td>\n",
       "      <td>smart</td>\n",
       "      <td>NaN</td>\n",
       "      <td>NaN</td>\n",
       "      <td>...</td>\n",
       "      <td>NaN</td>\n",
       "      <td>NaN</td>\n",
       "      <td>NaN</td>\n",
       "      <td>NaN</td>\n",
       "      <td>NaN</td>\n",
       "      <td>NaN</td>\n",
       "      <td>1845.75</td>\n",
       "      <td>17788.51</td>\n",
       "      <td>17963.31</td>\n",
       "      <td>13055.58</td>\n",
       "    </tr>\n",
       "  </tbody>\n",
       "</table>\n",
       "<p>500 rows × 44 columns</p>\n",
       "</div>"
      ],
      "text/plain": [
       "     user_id  age  churn_date         city first_name  last_name    reg_date  \\\n",
       "0       1000   52         NaN    Краснодар     Рафаил  Верещагин  2018-05-25   \n",
       "1       1001   41         NaN       Москва       Иван       Ежов  2018-11-01   \n",
       "2       1002   59         NaN  Стерлитамак    Евгений  Абрамович  2018-06-17   \n",
       "3       1003   23         NaN       Москва      Белла   Белякова  2018-08-17   \n",
       "4       1004   68         NaN  Новокузнецк    Татьяна   Авдеенко  2018-05-14   \n",
       "..       ...  ...         ...          ...        ...        ...         ...   \n",
       "495     1495   65         NaN      Иркутск  Авксентий      Фокин  2018-08-28   \n",
       "496     1496   36         NaN      Вологда     Трифон     Блохин  2018-01-27   \n",
       "497     1497   32         NaN    Челябинск   Каролина     Агеева  2018-10-09   \n",
       "498     1498   68  2018-10-25  Владикавказ   Всеволод    Акимчин  2018-07-19   \n",
       "499     1499   35         NaN        Пермь     Гектор   Корнилов  2018-09-27   \n",
       "\n",
       "    tariff  count_calls_month_1  count_calls_month_2  ...  gb_used_month_3  \\\n",
       "0    ultra                  NaN                  NaN  ...              NaN   \n",
       "1    smart                  NaN                  NaN  ...              NaN   \n",
       "2    smart                  NaN                  NaN  ...              NaN   \n",
       "3    ultra                  NaN                  NaN  ...              NaN   \n",
       "4    ultra                  NaN                  NaN  ...              NaN   \n",
       "..     ...                  ...                  ...  ...              ...   \n",
       "495  ultra                  NaN                  NaN  ...              NaN   \n",
       "496  smart                  7.0                 77.0  ...          24959.0   \n",
       "497  smart                  NaN                  NaN  ...              NaN   \n",
       "498  smart                  NaN                  NaN  ...              NaN   \n",
       "499  smart                  NaN                  NaN  ...              NaN   \n",
       "\n",
       "     gb_used_month_4  gb_used_month_5  gb_used_month_6  gb_used_month_7  \\\n",
       "0                NaN          2253.49         23233.77         14003.64   \n",
       "1                NaN              NaN              NaN              NaN   \n",
       "2                NaN              NaN         10856.82         17580.10   \n",
       "3                NaN              NaN              NaN              NaN   \n",
       "4                NaN         13403.98         17600.02         22229.58   \n",
       "..               ...              ...              ...              ...   \n",
       "495              NaN              NaN              NaN              NaN   \n",
       "496         21074.67         23709.75         20134.31         24364.76   \n",
       "497              NaN              NaN              NaN              NaN   \n",
       "498              NaN              NaN              NaN          7476.24   \n",
       "499              NaN              NaN              NaN              NaN   \n",
       "\n",
       "     gb_used_month_8  gb_used_month_9  gb_used_month_10  gb_used_month_11  \\\n",
       "0           14055.93         14568.91          14702.49          14756.47   \n",
       "1                NaN              NaN               NaN          18429.34   \n",
       "2           20319.26         16691.08          13888.25          18587.28   \n",
       "3            8565.21         12468.87          14768.14          11356.89   \n",
       "4           28584.37         15109.03          18475.44          15616.02   \n",
       "..               ...              ...               ...               ...   \n",
       "495          2614.07         33067.62          29363.00          38939.11   \n",
       "496         23530.03         26934.65          28183.17          25063.40   \n",
       "497              NaN              NaN          11500.29          14156.08   \n",
       "498         24235.21         22134.41          20579.36               NaN   \n",
       "499              NaN          1845.75          17788.51          17963.31   \n",
       "\n",
       "     gb_used_month_12  \n",
       "0             9817.61  \n",
       "1            14036.66  \n",
       "2            18113.73  \n",
       "3            10121.53  \n",
       "4            18021.04  \n",
       "..                ...  \n",
       "495          23426.76  \n",
       "496          20736.15  \n",
       "497          19918.60  \n",
       "498               NaN  \n",
       "499          13055.58  \n",
       "\n",
       "[500 rows x 44 columns]"
      ]
     },
     "execution_count": 169,
     "metadata": {},
     "output_type": "execute_result"
    }
   ],
   "source": [
    "users"
   ]
  },
  {
   "cell_type": "markdown",
   "metadata": {},
   "source": [
    "### Сообщения"
   ]
  },
  {
   "cell_type": "markdown",
   "metadata": {},
   "source": [
    "#### Поиск ошибок и преобразование типов данных"
   ]
  },
  {
   "cell_type": "code",
   "execution_count": 170,
   "metadata": {},
   "outputs": [
    {
     "data": {
      "text/html": [
       "<div>\n",
       "<style scoped>\n",
       "    .dataframe tbody tr th:only-of-type {\n",
       "        vertical-align: middle;\n",
       "    }\n",
       "\n",
       "    .dataframe tbody tr th {\n",
       "        vertical-align: top;\n",
       "    }\n",
       "\n",
       "    .dataframe thead th {\n",
       "        text-align: right;\n",
       "    }\n",
       "</style>\n",
       "<table border=\"1\" class=\"dataframe\">\n",
       "  <thead>\n",
       "    <tr style=\"text-align: right;\">\n",
       "      <th></th>\n",
       "      <th>id</th>\n",
       "      <th>message_date</th>\n",
       "      <th>user_id</th>\n",
       "    </tr>\n",
       "  </thead>\n",
       "  <tbody>\n",
       "    <tr>\n",
       "      <th>0</th>\n",
       "      <td>1000_0</td>\n",
       "      <td>2018-06-27</td>\n",
       "      <td>1000</td>\n",
       "    </tr>\n",
       "    <tr>\n",
       "      <th>1</th>\n",
       "      <td>1000_1</td>\n",
       "      <td>2018-10-08</td>\n",
       "      <td>1000</td>\n",
       "    </tr>\n",
       "    <tr>\n",
       "      <th>2</th>\n",
       "      <td>1000_2</td>\n",
       "      <td>2018-08-04</td>\n",
       "      <td>1000</td>\n",
       "    </tr>\n",
       "    <tr>\n",
       "      <th>3</th>\n",
       "      <td>1000_3</td>\n",
       "      <td>2018-06-16</td>\n",
       "      <td>1000</td>\n",
       "    </tr>\n",
       "    <tr>\n",
       "      <th>4</th>\n",
       "      <td>1000_4</td>\n",
       "      <td>2018-12-05</td>\n",
       "      <td>1000</td>\n",
       "    </tr>\n",
       "  </tbody>\n",
       "</table>\n",
       "</div>"
      ],
      "text/plain": [
       "       id message_date  user_id\n",
       "0  1000_0   2018-06-27     1000\n",
       "1  1000_1   2018-10-08     1000\n",
       "2  1000_2   2018-08-04     1000\n",
       "3  1000_3   2018-06-16     1000\n",
       "4  1000_4   2018-12-05     1000"
      ]
     },
     "execution_count": 170,
     "metadata": {},
     "output_type": "execute_result"
    }
   ],
   "source": [
    "messages.head(5)"
   ]
  },
  {
   "cell_type": "code",
   "execution_count": 171,
   "metadata": {
    "collapsed": true
   },
   "outputs": [],
   "source": [
    "messages['message_date'] = pd.to_datetime(messages['message_date'], format = '%Y-%m-%d') #переводим столбец в формат времени"
   ]
  },
  {
   "cell_type": "code",
   "execution_count": 172,
   "metadata": {},
   "outputs": [
    {
     "name": "stdout",
     "output_type": "stream",
     "text": [
      "<class 'pandas.core.frame.DataFrame'>\n",
      "RangeIndex: 123036 entries, 0 to 123035\n",
      "Data columns (total 3 columns):\n",
      " #   Column        Non-Null Count   Dtype         \n",
      "---  ------        --------------   -----         \n",
      " 0   id            123036 non-null  object        \n",
      " 1   message_date  123036 non-null  datetime64[ns]\n",
      " 2   user_id       123036 non-null  int64         \n",
      "dtypes: datetime64[ns](1), int64(1), object(1)\n",
      "memory usage: 2.8+ MB\n"
     ]
    }
   ],
   "source": [
    "messages.info()"
   ]
  },
  {
   "cell_type": "code",
   "execution_count": 173,
   "metadata": {
    "collapsed": true
   },
   "outputs": [],
   "source": [
    "messages['month'] = pd.DatetimeIndex(messages['message_date']).month"
   ]
  },
  {
   "cell_type": "code",
   "execution_count": 174,
   "metadata": {},
   "outputs": [
    {
     "data": {
      "text/html": [
       "<div>\n",
       "<style scoped>\n",
       "    .dataframe tbody tr th:only-of-type {\n",
       "        vertical-align: middle;\n",
       "    }\n",
       "\n",
       "    .dataframe tbody tr th {\n",
       "        vertical-align: top;\n",
       "    }\n",
       "\n",
       "    .dataframe thead th {\n",
       "        text-align: right;\n",
       "    }\n",
       "</style>\n",
       "<table border=\"1\" class=\"dataframe\">\n",
       "  <thead>\n",
       "    <tr style=\"text-align: right;\">\n",
       "      <th></th>\n",
       "      <th>id</th>\n",
       "      <th>message_date</th>\n",
       "      <th>user_id</th>\n",
       "      <th>month</th>\n",
       "    </tr>\n",
       "  </thead>\n",
       "  <tbody>\n",
       "    <tr>\n",
       "      <th>0</th>\n",
       "      <td>1000_0</td>\n",
       "      <td>2018-06-27</td>\n",
       "      <td>1000</td>\n",
       "      <td>6</td>\n",
       "    </tr>\n",
       "    <tr>\n",
       "      <th>1</th>\n",
       "      <td>1000_1</td>\n",
       "      <td>2018-10-08</td>\n",
       "      <td>1000</td>\n",
       "      <td>10</td>\n",
       "    </tr>\n",
       "    <tr>\n",
       "      <th>2</th>\n",
       "      <td>1000_2</td>\n",
       "      <td>2018-08-04</td>\n",
       "      <td>1000</td>\n",
       "      <td>8</td>\n",
       "    </tr>\n",
       "    <tr>\n",
       "      <th>3</th>\n",
       "      <td>1000_3</td>\n",
       "      <td>2018-06-16</td>\n",
       "      <td>1000</td>\n",
       "      <td>6</td>\n",
       "    </tr>\n",
       "    <tr>\n",
       "      <th>4</th>\n",
       "      <td>1000_4</td>\n",
       "      <td>2018-12-05</td>\n",
       "      <td>1000</td>\n",
       "      <td>12</td>\n",
       "    </tr>\n",
       "  </tbody>\n",
       "</table>\n",
       "</div>"
      ],
      "text/plain": [
       "       id message_date  user_id  month\n",
       "0  1000_0   2018-06-27     1000      6\n",
       "1  1000_1   2018-10-08     1000     10\n",
       "2  1000_2   2018-08-04     1000      8\n",
       "3  1000_3   2018-06-16     1000      6\n",
       "4  1000_4   2018-12-05     1000     12"
      ]
     },
     "execution_count": 174,
     "metadata": {},
     "output_type": "execute_result"
    }
   ],
   "source": [
    "messages.head(5)"
   ]
  },
  {
   "cell_type": "markdown",
   "metadata": {},
   "source": [
    "#### Количество сообщений по месяцам для каждого пользователя"
   ]
  },
  {
   "cell_type": "code",
   "execution_count": 175,
   "metadata": {
    "collapsed": true
   },
   "outputs": [],
   "source": [
    "messages_piv = messages.pivot_table(index='user_id', columns='month', values='message_date', aggfunc='count') #получаем сводную таблицу по каждому пользователю и месяцу"
   ]
  },
  {
   "cell_type": "code",
   "execution_count": 176,
   "metadata": {},
   "outputs": [
    {
     "data": {
      "text/html": [
       "<div>\n",
       "<style scoped>\n",
       "    .dataframe tbody tr th:only-of-type {\n",
       "        vertical-align: middle;\n",
       "    }\n",
       "\n",
       "    .dataframe tbody tr th {\n",
       "        vertical-align: top;\n",
       "    }\n",
       "\n",
       "    .dataframe thead th {\n",
       "        text-align: right;\n",
       "    }\n",
       "</style>\n",
       "<table border=\"1\" class=\"dataframe\">\n",
       "  <thead>\n",
       "    <tr style=\"text-align: right;\">\n",
       "      <th>month</th>\n",
       "      <th>1</th>\n",
       "      <th>2</th>\n",
       "      <th>3</th>\n",
       "      <th>4</th>\n",
       "      <th>5</th>\n",
       "      <th>6</th>\n",
       "      <th>7</th>\n",
       "      <th>8</th>\n",
       "      <th>9</th>\n",
       "      <th>10</th>\n",
       "      <th>11</th>\n",
       "      <th>12</th>\n",
       "    </tr>\n",
       "    <tr>\n",
       "      <th>user_id</th>\n",
       "      <th></th>\n",
       "      <th></th>\n",
       "      <th></th>\n",
       "      <th></th>\n",
       "      <th></th>\n",
       "      <th></th>\n",
       "      <th></th>\n",
       "      <th></th>\n",
       "      <th></th>\n",
       "      <th></th>\n",
       "      <th></th>\n",
       "      <th></th>\n",
       "    </tr>\n",
       "  </thead>\n",
       "  <tbody>\n",
       "    <tr>\n",
       "      <th>1000</th>\n",
       "      <td>NaN</td>\n",
       "      <td>NaN</td>\n",
       "      <td>NaN</td>\n",
       "      <td>NaN</td>\n",
       "      <td>22.0</td>\n",
       "      <td>60.0</td>\n",
       "      <td>75.0</td>\n",
       "      <td>81.0</td>\n",
       "      <td>57.0</td>\n",
       "      <td>73.0</td>\n",
       "      <td>58.0</td>\n",
       "      <td>70.0</td>\n",
       "    </tr>\n",
       "    <tr>\n",
       "      <th>1002</th>\n",
       "      <td>NaN</td>\n",
       "      <td>NaN</td>\n",
       "      <td>NaN</td>\n",
       "      <td>NaN</td>\n",
       "      <td>NaN</td>\n",
       "      <td>4.0</td>\n",
       "      <td>11.0</td>\n",
       "      <td>13.0</td>\n",
       "      <td>4.0</td>\n",
       "      <td>10.0</td>\n",
       "      <td>16.0</td>\n",
       "      <td>12.0</td>\n",
       "    </tr>\n",
       "    <tr>\n",
       "      <th>1003</th>\n",
       "      <td>NaN</td>\n",
       "      <td>NaN</td>\n",
       "      <td>NaN</td>\n",
       "      <td>NaN</td>\n",
       "      <td>NaN</td>\n",
       "      <td>NaN</td>\n",
       "      <td>NaN</td>\n",
       "      <td>37.0</td>\n",
       "      <td>91.0</td>\n",
       "      <td>83.0</td>\n",
       "      <td>94.0</td>\n",
       "      <td>75.0</td>\n",
       "    </tr>\n",
       "    <tr>\n",
       "      <th>1004</th>\n",
       "      <td>NaN</td>\n",
       "      <td>NaN</td>\n",
       "      <td>NaN</td>\n",
       "      <td>NaN</td>\n",
       "      <td>95.0</td>\n",
       "      <td>134.0</td>\n",
       "      <td>181.0</td>\n",
       "      <td>151.0</td>\n",
       "      <td>146.0</td>\n",
       "      <td>165.0</td>\n",
       "      <td>158.0</td>\n",
       "      <td>162.0</td>\n",
       "    </tr>\n",
       "    <tr>\n",
       "      <th>1005</th>\n",
       "      <td>7.0</td>\n",
       "      <td>38.0</td>\n",
       "      <td>56.0</td>\n",
       "      <td>41.0</td>\n",
       "      <td>42.0</td>\n",
       "      <td>47.0</td>\n",
       "      <td>56.0</td>\n",
       "      <td>64.0</td>\n",
       "      <td>52.0</td>\n",
       "      <td>44.0</td>\n",
       "      <td>51.0</td>\n",
       "      <td>54.0</td>\n",
       "    </tr>\n",
       "  </tbody>\n",
       "</table>\n",
       "</div>"
      ],
      "text/plain": [
       "month     1     2     3     4     5      6      7      8      9      10  \\\n",
       "user_id                                                                   \n",
       "1000     NaN   NaN   NaN   NaN  22.0   60.0   75.0   81.0   57.0   73.0   \n",
       "1002     NaN   NaN   NaN   NaN   NaN    4.0   11.0   13.0    4.0   10.0   \n",
       "1003     NaN   NaN   NaN   NaN   NaN    NaN    NaN   37.0   91.0   83.0   \n",
       "1004     NaN   NaN   NaN   NaN  95.0  134.0  181.0  151.0  146.0  165.0   \n",
       "1005     7.0  38.0  56.0  41.0  42.0   47.0   56.0   64.0   52.0   44.0   \n",
       "\n",
       "month       11     12  \n",
       "user_id                \n",
       "1000      58.0   70.0  \n",
       "1002      16.0   12.0  \n",
       "1003      94.0   75.0  \n",
       "1004     158.0  162.0  \n",
       "1005      51.0   54.0  "
      ]
     },
     "execution_count": 176,
     "metadata": {},
     "output_type": "execute_result"
    }
   ],
   "source": [
    "messages_piv.head(5)"
   ]
  },
  {
   "cell_type": "code",
   "execution_count": 177,
   "metadata": {
    "collapsed": true
   },
   "outputs": [],
   "source": [
    "messages_piv.columns = [f\"count_messages_month_{i}\" for i in range(1,13)] #изменяем названия столбцов"
   ]
  },
  {
   "cell_type": "code",
   "execution_count": 178,
   "metadata": {
    "collapsed": true
   },
   "outputs": [],
   "source": [
    "users = users.join(messages_piv, on='user_id')"
   ]
  },
  {
   "cell_type": "code",
   "execution_count": 179,
   "metadata": {},
   "outputs": [
    {
     "data": {
      "text/html": [
       "<div>\n",
       "<style scoped>\n",
       "    .dataframe tbody tr th:only-of-type {\n",
       "        vertical-align: middle;\n",
       "    }\n",
       "\n",
       "    .dataframe tbody tr th {\n",
       "        vertical-align: top;\n",
       "    }\n",
       "\n",
       "    .dataframe thead th {\n",
       "        text-align: right;\n",
       "    }\n",
       "</style>\n",
       "<table border=\"1\" class=\"dataframe\">\n",
       "  <thead>\n",
       "    <tr style=\"text-align: right;\">\n",
       "      <th></th>\n",
       "      <th>user_id</th>\n",
       "      <th>age</th>\n",
       "      <th>churn_date</th>\n",
       "      <th>city</th>\n",
       "      <th>first_name</th>\n",
       "      <th>last_name</th>\n",
       "      <th>reg_date</th>\n",
       "      <th>tariff</th>\n",
       "      <th>count_calls_month_1</th>\n",
       "      <th>count_calls_month_2</th>\n",
       "      <th>...</th>\n",
       "      <th>count_messages_month_3</th>\n",
       "      <th>count_messages_month_4</th>\n",
       "      <th>count_messages_month_5</th>\n",
       "      <th>count_messages_month_6</th>\n",
       "      <th>count_messages_month_7</th>\n",
       "      <th>count_messages_month_8</th>\n",
       "      <th>count_messages_month_9</th>\n",
       "      <th>count_messages_month_10</th>\n",
       "      <th>count_messages_month_11</th>\n",
       "      <th>count_messages_month_12</th>\n",
       "    </tr>\n",
       "  </thead>\n",
       "  <tbody>\n",
       "    <tr>\n",
       "      <th>0</th>\n",
       "      <td>1000</td>\n",
       "      <td>52</td>\n",
       "      <td>NaN</td>\n",
       "      <td>Краснодар</td>\n",
       "      <td>Рафаил</td>\n",
       "      <td>Верещагин</td>\n",
       "      <td>2018-05-25</td>\n",
       "      <td>ultra</td>\n",
       "      <td>NaN</td>\n",
       "      <td>NaN</td>\n",
       "      <td>...</td>\n",
       "      <td>NaN</td>\n",
       "      <td>NaN</td>\n",
       "      <td>22.0</td>\n",
       "      <td>60.0</td>\n",
       "      <td>75.0</td>\n",
       "      <td>81.0</td>\n",
       "      <td>57.0</td>\n",
       "      <td>73.0</td>\n",
       "      <td>58.0</td>\n",
       "      <td>70.0</td>\n",
       "    </tr>\n",
       "    <tr>\n",
       "      <th>1</th>\n",
       "      <td>1001</td>\n",
       "      <td>41</td>\n",
       "      <td>NaN</td>\n",
       "      <td>Москва</td>\n",
       "      <td>Иван</td>\n",
       "      <td>Ежов</td>\n",
       "      <td>2018-11-01</td>\n",
       "      <td>smart</td>\n",
       "      <td>NaN</td>\n",
       "      <td>NaN</td>\n",
       "      <td>...</td>\n",
       "      <td>NaN</td>\n",
       "      <td>NaN</td>\n",
       "      <td>NaN</td>\n",
       "      <td>NaN</td>\n",
       "      <td>NaN</td>\n",
       "      <td>NaN</td>\n",
       "      <td>NaN</td>\n",
       "      <td>NaN</td>\n",
       "      <td>NaN</td>\n",
       "      <td>NaN</td>\n",
       "    </tr>\n",
       "    <tr>\n",
       "      <th>2</th>\n",
       "      <td>1002</td>\n",
       "      <td>59</td>\n",
       "      <td>NaN</td>\n",
       "      <td>Стерлитамак</td>\n",
       "      <td>Евгений</td>\n",
       "      <td>Абрамович</td>\n",
       "      <td>2018-06-17</td>\n",
       "      <td>smart</td>\n",
       "      <td>NaN</td>\n",
       "      <td>NaN</td>\n",
       "      <td>...</td>\n",
       "      <td>NaN</td>\n",
       "      <td>NaN</td>\n",
       "      <td>NaN</td>\n",
       "      <td>4.0</td>\n",
       "      <td>11.0</td>\n",
       "      <td>13.0</td>\n",
       "      <td>4.0</td>\n",
       "      <td>10.0</td>\n",
       "      <td>16.0</td>\n",
       "      <td>12.0</td>\n",
       "    </tr>\n",
       "    <tr>\n",
       "      <th>3</th>\n",
       "      <td>1003</td>\n",
       "      <td>23</td>\n",
       "      <td>NaN</td>\n",
       "      <td>Москва</td>\n",
       "      <td>Белла</td>\n",
       "      <td>Белякова</td>\n",
       "      <td>2018-08-17</td>\n",
       "      <td>ultra</td>\n",
       "      <td>NaN</td>\n",
       "      <td>NaN</td>\n",
       "      <td>...</td>\n",
       "      <td>NaN</td>\n",
       "      <td>NaN</td>\n",
       "      <td>NaN</td>\n",
       "      <td>NaN</td>\n",
       "      <td>NaN</td>\n",
       "      <td>37.0</td>\n",
       "      <td>91.0</td>\n",
       "      <td>83.0</td>\n",
       "      <td>94.0</td>\n",
       "      <td>75.0</td>\n",
       "    </tr>\n",
       "    <tr>\n",
       "      <th>4</th>\n",
       "      <td>1004</td>\n",
       "      <td>68</td>\n",
       "      <td>NaN</td>\n",
       "      <td>Новокузнецк</td>\n",
       "      <td>Татьяна</td>\n",
       "      <td>Авдеенко</td>\n",
       "      <td>2018-05-14</td>\n",
       "      <td>ultra</td>\n",
       "      <td>NaN</td>\n",
       "      <td>NaN</td>\n",
       "      <td>...</td>\n",
       "      <td>NaN</td>\n",
       "      <td>NaN</td>\n",
       "      <td>95.0</td>\n",
       "      <td>134.0</td>\n",
       "      <td>181.0</td>\n",
       "      <td>151.0</td>\n",
       "      <td>146.0</td>\n",
       "      <td>165.0</td>\n",
       "      <td>158.0</td>\n",
       "      <td>162.0</td>\n",
       "    </tr>\n",
       "    <tr>\n",
       "      <th>...</th>\n",
       "      <td>...</td>\n",
       "      <td>...</td>\n",
       "      <td>...</td>\n",
       "      <td>...</td>\n",
       "      <td>...</td>\n",
       "      <td>...</td>\n",
       "      <td>...</td>\n",
       "      <td>...</td>\n",
       "      <td>...</td>\n",
       "      <td>...</td>\n",
       "      <td>...</td>\n",
       "      <td>...</td>\n",
       "      <td>...</td>\n",
       "      <td>...</td>\n",
       "      <td>...</td>\n",
       "      <td>...</td>\n",
       "      <td>...</td>\n",
       "      <td>...</td>\n",
       "      <td>...</td>\n",
       "      <td>...</td>\n",
       "      <td>...</td>\n",
       "    </tr>\n",
       "    <tr>\n",
       "      <th>495</th>\n",
       "      <td>1495</td>\n",
       "      <td>65</td>\n",
       "      <td>NaN</td>\n",
       "      <td>Иркутск</td>\n",
       "      <td>Авксентий</td>\n",
       "      <td>Фокин</td>\n",
       "      <td>2018-08-28</td>\n",
       "      <td>ultra</td>\n",
       "      <td>NaN</td>\n",
       "      <td>NaN</td>\n",
       "      <td>...</td>\n",
       "      <td>NaN</td>\n",
       "      <td>NaN</td>\n",
       "      <td>NaN</td>\n",
       "      <td>NaN</td>\n",
       "      <td>NaN</td>\n",
       "      <td>13.0</td>\n",
       "      <td>82.0</td>\n",
       "      <td>82.0</td>\n",
       "      <td>79.0</td>\n",
       "      <td>84.0</td>\n",
       "    </tr>\n",
       "    <tr>\n",
       "      <th>496</th>\n",
       "      <td>1496</td>\n",
       "      <td>36</td>\n",
       "      <td>NaN</td>\n",
       "      <td>Вологда</td>\n",
       "      <td>Трифон</td>\n",
       "      <td>Блохин</td>\n",
       "      <td>2018-01-27</td>\n",
       "      <td>smart</td>\n",
       "      <td>7.0</td>\n",
       "      <td>77.0</td>\n",
       "      <td>...</td>\n",
       "      <td>46.0</td>\n",
       "      <td>49.0</td>\n",
       "      <td>40.0</td>\n",
       "      <td>35.0</td>\n",
       "      <td>42.0</td>\n",
       "      <td>41.0</td>\n",
       "      <td>29.0</td>\n",
       "      <td>35.0</td>\n",
       "      <td>46.0</td>\n",
       "      <td>51.0</td>\n",
       "    </tr>\n",
       "    <tr>\n",
       "      <th>497</th>\n",
       "      <td>1497</td>\n",
       "      <td>32</td>\n",
       "      <td>NaN</td>\n",
       "      <td>Челябинск</td>\n",
       "      <td>Каролина</td>\n",
       "      <td>Агеева</td>\n",
       "      <td>2018-10-09</td>\n",
       "      <td>smart</td>\n",
       "      <td>NaN</td>\n",
       "      <td>NaN</td>\n",
       "      <td>...</td>\n",
       "      <td>NaN</td>\n",
       "      <td>NaN</td>\n",
       "      <td>NaN</td>\n",
       "      <td>NaN</td>\n",
       "      <td>NaN</td>\n",
       "      <td>NaN</td>\n",
       "      <td>NaN</td>\n",
       "      <td>20.0</td>\n",
       "      <td>14.0</td>\n",
       "      <td>17.0</td>\n",
       "    </tr>\n",
       "    <tr>\n",
       "      <th>498</th>\n",
       "      <td>1498</td>\n",
       "      <td>68</td>\n",
       "      <td>2018-10-25</td>\n",
       "      <td>Владикавказ</td>\n",
       "      <td>Всеволод</td>\n",
       "      <td>Акимчин</td>\n",
       "      <td>2018-07-19</td>\n",
       "      <td>smart</td>\n",
       "      <td>NaN</td>\n",
       "      <td>NaN</td>\n",
       "      <td>...</td>\n",
       "      <td>NaN</td>\n",
       "      <td>NaN</td>\n",
       "      <td>NaN</td>\n",
       "      <td>NaN</td>\n",
       "      <td>20.0</td>\n",
       "      <td>62.0</td>\n",
       "      <td>44.0</td>\n",
       "      <td>42.0</td>\n",
       "      <td>NaN</td>\n",
       "      <td>NaN</td>\n",
       "    </tr>\n",
       "    <tr>\n",
       "      <th>499</th>\n",
       "      <td>1499</td>\n",
       "      <td>35</td>\n",
       "      <td>NaN</td>\n",
       "      <td>Пермь</td>\n",
       "      <td>Гектор</td>\n",
       "      <td>Корнилов</td>\n",
       "      <td>2018-09-27</td>\n",
       "      <td>smart</td>\n",
       "      <td>NaN</td>\n",
       "      <td>NaN</td>\n",
       "      <td>...</td>\n",
       "      <td>NaN</td>\n",
       "      <td>NaN</td>\n",
       "      <td>NaN</td>\n",
       "      <td>NaN</td>\n",
       "      <td>NaN</td>\n",
       "      <td>NaN</td>\n",
       "      <td>11.0</td>\n",
       "      <td>48.0</td>\n",
       "      <td>59.0</td>\n",
       "      <td>66.0</td>\n",
       "    </tr>\n",
       "  </tbody>\n",
       "</table>\n",
       "<p>500 rows × 56 columns</p>\n",
       "</div>"
      ],
      "text/plain": [
       "     user_id  age  churn_date         city first_name  last_name    reg_date  \\\n",
       "0       1000   52         NaN    Краснодар     Рафаил  Верещагин  2018-05-25   \n",
       "1       1001   41         NaN       Москва       Иван       Ежов  2018-11-01   \n",
       "2       1002   59         NaN  Стерлитамак    Евгений  Абрамович  2018-06-17   \n",
       "3       1003   23         NaN       Москва      Белла   Белякова  2018-08-17   \n",
       "4       1004   68         NaN  Новокузнецк    Татьяна   Авдеенко  2018-05-14   \n",
       "..       ...  ...         ...          ...        ...        ...         ...   \n",
       "495     1495   65         NaN      Иркутск  Авксентий      Фокин  2018-08-28   \n",
       "496     1496   36         NaN      Вологда     Трифон     Блохин  2018-01-27   \n",
       "497     1497   32         NaN    Челябинск   Каролина     Агеева  2018-10-09   \n",
       "498     1498   68  2018-10-25  Владикавказ   Всеволод    Акимчин  2018-07-19   \n",
       "499     1499   35         NaN        Пермь     Гектор   Корнилов  2018-09-27   \n",
       "\n",
       "    tariff  count_calls_month_1  count_calls_month_2  ...  \\\n",
       "0    ultra                  NaN                  NaN  ...   \n",
       "1    smart                  NaN                  NaN  ...   \n",
       "2    smart                  NaN                  NaN  ...   \n",
       "3    ultra                  NaN                  NaN  ...   \n",
       "4    ultra                  NaN                  NaN  ...   \n",
       "..     ...                  ...                  ...  ...   \n",
       "495  ultra                  NaN                  NaN  ...   \n",
       "496  smart                  7.0                 77.0  ...   \n",
       "497  smart                  NaN                  NaN  ...   \n",
       "498  smart                  NaN                  NaN  ...   \n",
       "499  smart                  NaN                  NaN  ...   \n",
       "\n",
       "     count_messages_month_3  count_messages_month_4  count_messages_month_5  \\\n",
       "0                       NaN                     NaN                    22.0   \n",
       "1                       NaN                     NaN                     NaN   \n",
       "2                       NaN                     NaN                     NaN   \n",
       "3                       NaN                     NaN                     NaN   \n",
       "4                       NaN                     NaN                    95.0   \n",
       "..                      ...                     ...                     ...   \n",
       "495                     NaN                     NaN                     NaN   \n",
       "496                    46.0                    49.0                    40.0   \n",
       "497                     NaN                     NaN                     NaN   \n",
       "498                     NaN                     NaN                     NaN   \n",
       "499                     NaN                     NaN                     NaN   \n",
       "\n",
       "     count_messages_month_6  count_messages_month_7  count_messages_month_8  \\\n",
       "0                      60.0                    75.0                    81.0   \n",
       "1                       NaN                     NaN                     NaN   \n",
       "2                       4.0                    11.0                    13.0   \n",
       "3                       NaN                     NaN                    37.0   \n",
       "4                     134.0                   181.0                   151.0   \n",
       "..                      ...                     ...                     ...   \n",
       "495                     NaN                     NaN                    13.0   \n",
       "496                    35.0                    42.0                    41.0   \n",
       "497                     NaN                     NaN                     NaN   \n",
       "498                     NaN                    20.0                    62.0   \n",
       "499                     NaN                     NaN                     NaN   \n",
       "\n",
       "     count_messages_month_9  count_messages_month_10  count_messages_month_11  \\\n",
       "0                      57.0                     73.0                     58.0   \n",
       "1                       NaN                      NaN                      NaN   \n",
       "2                       4.0                     10.0                     16.0   \n",
       "3                      91.0                     83.0                     94.0   \n",
       "4                     146.0                    165.0                    158.0   \n",
       "..                      ...                      ...                      ...   \n",
       "495                    82.0                     82.0                     79.0   \n",
       "496                    29.0                     35.0                     46.0   \n",
       "497                     NaN                     20.0                     14.0   \n",
       "498                    44.0                     42.0                      NaN   \n",
       "499                    11.0                     48.0                     59.0   \n",
       "\n",
       "     count_messages_month_12  \n",
       "0                       70.0  \n",
       "1                        NaN  \n",
       "2                       12.0  \n",
       "3                       75.0  \n",
       "4                      162.0  \n",
       "..                       ...  \n",
       "495                     84.0  \n",
       "496                     51.0  \n",
       "497                     17.0  \n",
       "498                      NaN  \n",
       "499                     66.0  \n",
       "\n",
       "[500 rows x 56 columns]"
      ]
     },
     "execution_count": 179,
     "metadata": {},
     "output_type": "execute_result"
    }
   ],
   "source": [
    "users"
   ]
  },
  {
   "cell_type": "markdown",
   "metadata": {},
   "source": [
    "### Тарифы"
   ]
  },
  {
   "cell_type": "code",
   "execution_count": 180,
   "metadata": {},
   "outputs": [
    {
     "data": {
      "text/html": [
       "<div>\n",
       "<style scoped>\n",
       "    .dataframe tbody tr th:only-of-type {\n",
       "        vertical-align: middle;\n",
       "    }\n",
       "\n",
       "    .dataframe tbody tr th {\n",
       "        vertical-align: top;\n",
       "    }\n",
       "\n",
       "    .dataframe thead th {\n",
       "        text-align: right;\n",
       "    }\n",
       "</style>\n",
       "<table border=\"1\" class=\"dataframe\">\n",
       "  <thead>\n",
       "    <tr style=\"text-align: right;\">\n",
       "      <th></th>\n",
       "      <th>messages_included</th>\n",
       "      <th>mb_per_month_included</th>\n",
       "      <th>minutes_included</th>\n",
       "      <th>rub_monthly_fee</th>\n",
       "      <th>rub_per_gb</th>\n",
       "      <th>rub_per_message</th>\n",
       "      <th>rub_per_minute</th>\n",
       "      <th>tariff_name</th>\n",
       "    </tr>\n",
       "  </thead>\n",
       "  <tbody>\n",
       "    <tr>\n",
       "      <th>0</th>\n",
       "      <td>50</td>\n",
       "      <td>15360</td>\n",
       "      <td>500</td>\n",
       "      <td>550</td>\n",
       "      <td>200</td>\n",
       "      <td>3</td>\n",
       "      <td>3</td>\n",
       "      <td>smart</td>\n",
       "    </tr>\n",
       "    <tr>\n",
       "      <th>1</th>\n",
       "      <td>1000</td>\n",
       "      <td>30720</td>\n",
       "      <td>3000</td>\n",
       "      <td>1950</td>\n",
       "      <td>150</td>\n",
       "      <td>1</td>\n",
       "      <td>1</td>\n",
       "      <td>ultra</td>\n",
       "    </tr>\n",
       "  </tbody>\n",
       "</table>\n",
       "</div>"
      ],
      "text/plain": [
       "   messages_included  mb_per_month_included  minutes_included  \\\n",
       "0                 50                  15360               500   \n",
       "1               1000                  30720              3000   \n",
       "\n",
       "   rub_monthly_fee  rub_per_gb  rub_per_message  rub_per_minute tariff_name  \n",
       "0              550         200                3               3       smart  \n",
       "1             1950         150                1               1       ultra  "
      ]
     },
     "execution_count": 180,
     "metadata": {},
     "output_type": "execute_result"
    }
   ],
   "source": [
    "tariffs.head(5)"
   ]
  },
  {
   "cell_type": "code",
   "execution_count": 181,
   "metadata": {},
   "outputs": [
    {
     "name": "stdout",
     "output_type": "stream",
     "text": [
      "<class 'pandas.core.frame.DataFrame'>\n",
      "RangeIndex: 2 entries, 0 to 1\n",
      "Data columns (total 8 columns):\n",
      " #   Column                 Non-Null Count  Dtype \n",
      "---  ------                 --------------  ----- \n",
      " 0   messages_included      2 non-null      int64 \n",
      " 1   mb_per_month_included  2 non-null      int64 \n",
      " 2   minutes_included       2 non-null      int64 \n",
      " 3   rub_monthly_fee        2 non-null      int64 \n",
      " 4   rub_per_gb             2 non-null      int64 \n",
      " 5   rub_per_message        2 non-null      int64 \n",
      " 6   rub_per_minute         2 non-null      int64 \n",
      " 7   tariff_name            2 non-null      object\n",
      "dtypes: int64(7), object(1)\n",
      "memory usage: 256.0+ bytes\n"
     ]
    }
   ],
   "source": [
    "tariffs.info()"
   ]
  },
  {
   "cell_type": "code",
   "execution_count": 182,
   "metadata": {
    "collapsed": true
   },
   "outputs": [],
   "source": [
    "tariffs['mb_per_month_included'] = tariffs['mb_per_month_included']/1024\n",
    "tariffs.rename(columns={'mb_per_month_included': 'gb_per_month_included'}, inplace=True)"
   ]
  },
  {
   "cell_type": "code",
   "execution_count": 183,
   "metadata": {},
   "outputs": [
    {
     "data": {
      "text/html": [
       "<div>\n",
       "<style scoped>\n",
       "    .dataframe tbody tr th:only-of-type {\n",
       "        vertical-align: middle;\n",
       "    }\n",
       "\n",
       "    .dataframe tbody tr th {\n",
       "        vertical-align: top;\n",
       "    }\n",
       "\n",
       "    .dataframe thead th {\n",
       "        text-align: right;\n",
       "    }\n",
       "</style>\n",
       "<table border=\"1\" class=\"dataframe\">\n",
       "  <thead>\n",
       "    <tr style=\"text-align: right;\">\n",
       "      <th></th>\n",
       "      <th>messages_included</th>\n",
       "      <th>gb_per_month_included</th>\n",
       "      <th>minutes_included</th>\n",
       "      <th>rub_monthly_fee</th>\n",
       "      <th>rub_per_gb</th>\n",
       "      <th>rub_per_message</th>\n",
       "      <th>rub_per_minute</th>\n",
       "      <th>tariff_name</th>\n",
       "    </tr>\n",
       "  </thead>\n",
       "  <tbody>\n",
       "    <tr>\n",
       "      <th>0</th>\n",
       "      <td>50</td>\n",
       "      <td>15.0</td>\n",
       "      <td>500</td>\n",
       "      <td>550</td>\n",
       "      <td>200</td>\n",
       "      <td>3</td>\n",
       "      <td>3</td>\n",
       "      <td>smart</td>\n",
       "    </tr>\n",
       "    <tr>\n",
       "      <th>1</th>\n",
       "      <td>1000</td>\n",
       "      <td>30.0</td>\n",
       "      <td>3000</td>\n",
       "      <td>1950</td>\n",
       "      <td>150</td>\n",
       "      <td>1</td>\n",
       "      <td>1</td>\n",
       "      <td>ultra</td>\n",
       "    </tr>\n",
       "  </tbody>\n",
       "</table>\n",
       "</div>"
      ],
      "text/plain": [
       "   messages_included  gb_per_month_included  minutes_included  \\\n",
       "0                 50                   15.0               500   \n",
       "1               1000                   30.0              3000   \n",
       "\n",
       "   rub_monthly_fee  rub_per_gb  rub_per_message  rub_per_minute tariff_name  \n",
       "0              550         200                3               3       smart  \n",
       "1             1950         150                1               1       ultra  "
      ]
     },
     "execution_count": 183,
     "metadata": {},
     "output_type": "execute_result"
    }
   ],
   "source": [
    "tariffs"
   ]
  },
  {
   "cell_type": "markdown",
   "metadata": {},
   "source": [
    "### Пользователи"
   ]
  },
  {
   "cell_type": "code",
   "execution_count": 184,
   "metadata": {},
   "outputs": [
    {
     "data": {
      "text/html": [
       "<div>\n",
       "<style scoped>\n",
       "    .dataframe tbody tr th:only-of-type {\n",
       "        vertical-align: middle;\n",
       "    }\n",
       "\n",
       "    .dataframe tbody tr th {\n",
       "        vertical-align: top;\n",
       "    }\n",
       "\n",
       "    .dataframe thead th {\n",
       "        text-align: right;\n",
       "    }\n",
       "</style>\n",
       "<table border=\"1\" class=\"dataframe\">\n",
       "  <thead>\n",
       "    <tr style=\"text-align: right;\">\n",
       "      <th></th>\n",
       "      <th>user_id</th>\n",
       "      <th>age</th>\n",
       "      <th>churn_date</th>\n",
       "      <th>city</th>\n",
       "      <th>first_name</th>\n",
       "      <th>last_name</th>\n",
       "      <th>reg_date</th>\n",
       "      <th>tariff</th>\n",
       "      <th>count_calls_month_1</th>\n",
       "      <th>count_calls_month_2</th>\n",
       "      <th>...</th>\n",
       "      <th>count_messages_month_3</th>\n",
       "      <th>count_messages_month_4</th>\n",
       "      <th>count_messages_month_5</th>\n",
       "      <th>count_messages_month_6</th>\n",
       "      <th>count_messages_month_7</th>\n",
       "      <th>count_messages_month_8</th>\n",
       "      <th>count_messages_month_9</th>\n",
       "      <th>count_messages_month_10</th>\n",
       "      <th>count_messages_month_11</th>\n",
       "      <th>count_messages_month_12</th>\n",
       "    </tr>\n",
       "  </thead>\n",
       "  <tbody>\n",
       "    <tr>\n",
       "      <th>0</th>\n",
       "      <td>1000</td>\n",
       "      <td>52</td>\n",
       "      <td>NaN</td>\n",
       "      <td>Краснодар</td>\n",
       "      <td>Рафаил</td>\n",
       "      <td>Верещагин</td>\n",
       "      <td>2018-05-25</td>\n",
       "      <td>ultra</td>\n",
       "      <td>NaN</td>\n",
       "      <td>NaN</td>\n",
       "      <td>...</td>\n",
       "      <td>NaN</td>\n",
       "      <td>NaN</td>\n",
       "      <td>22.0</td>\n",
       "      <td>60.0</td>\n",
       "      <td>75.0</td>\n",
       "      <td>81.0</td>\n",
       "      <td>57.0</td>\n",
       "      <td>73.0</td>\n",
       "      <td>58.0</td>\n",
       "      <td>70.0</td>\n",
       "    </tr>\n",
       "    <tr>\n",
       "      <th>1</th>\n",
       "      <td>1001</td>\n",
       "      <td>41</td>\n",
       "      <td>NaN</td>\n",
       "      <td>Москва</td>\n",
       "      <td>Иван</td>\n",
       "      <td>Ежов</td>\n",
       "      <td>2018-11-01</td>\n",
       "      <td>smart</td>\n",
       "      <td>NaN</td>\n",
       "      <td>NaN</td>\n",
       "      <td>...</td>\n",
       "      <td>NaN</td>\n",
       "      <td>NaN</td>\n",
       "      <td>NaN</td>\n",
       "      <td>NaN</td>\n",
       "      <td>NaN</td>\n",
       "      <td>NaN</td>\n",
       "      <td>NaN</td>\n",
       "      <td>NaN</td>\n",
       "      <td>NaN</td>\n",
       "      <td>NaN</td>\n",
       "    </tr>\n",
       "    <tr>\n",
       "      <th>2</th>\n",
       "      <td>1002</td>\n",
       "      <td>59</td>\n",
       "      <td>NaN</td>\n",
       "      <td>Стерлитамак</td>\n",
       "      <td>Евгений</td>\n",
       "      <td>Абрамович</td>\n",
       "      <td>2018-06-17</td>\n",
       "      <td>smart</td>\n",
       "      <td>NaN</td>\n",
       "      <td>NaN</td>\n",
       "      <td>...</td>\n",
       "      <td>NaN</td>\n",
       "      <td>NaN</td>\n",
       "      <td>NaN</td>\n",
       "      <td>4.0</td>\n",
       "      <td>11.0</td>\n",
       "      <td>13.0</td>\n",
       "      <td>4.0</td>\n",
       "      <td>10.0</td>\n",
       "      <td>16.0</td>\n",
       "      <td>12.0</td>\n",
       "    </tr>\n",
       "    <tr>\n",
       "      <th>3</th>\n",
       "      <td>1003</td>\n",
       "      <td>23</td>\n",
       "      <td>NaN</td>\n",
       "      <td>Москва</td>\n",
       "      <td>Белла</td>\n",
       "      <td>Белякова</td>\n",
       "      <td>2018-08-17</td>\n",
       "      <td>ultra</td>\n",
       "      <td>NaN</td>\n",
       "      <td>NaN</td>\n",
       "      <td>...</td>\n",
       "      <td>NaN</td>\n",
       "      <td>NaN</td>\n",
       "      <td>NaN</td>\n",
       "      <td>NaN</td>\n",
       "      <td>NaN</td>\n",
       "      <td>37.0</td>\n",
       "      <td>91.0</td>\n",
       "      <td>83.0</td>\n",
       "      <td>94.0</td>\n",
       "      <td>75.0</td>\n",
       "    </tr>\n",
       "    <tr>\n",
       "      <th>4</th>\n",
       "      <td>1004</td>\n",
       "      <td>68</td>\n",
       "      <td>NaN</td>\n",
       "      <td>Новокузнецк</td>\n",
       "      <td>Татьяна</td>\n",
       "      <td>Авдеенко</td>\n",
       "      <td>2018-05-14</td>\n",
       "      <td>ultra</td>\n",
       "      <td>NaN</td>\n",
       "      <td>NaN</td>\n",
       "      <td>...</td>\n",
       "      <td>NaN</td>\n",
       "      <td>NaN</td>\n",
       "      <td>95.0</td>\n",
       "      <td>134.0</td>\n",
       "      <td>181.0</td>\n",
       "      <td>151.0</td>\n",
       "      <td>146.0</td>\n",
       "      <td>165.0</td>\n",
       "      <td>158.0</td>\n",
       "      <td>162.0</td>\n",
       "    </tr>\n",
       "  </tbody>\n",
       "</table>\n",
       "<p>5 rows × 56 columns</p>\n",
       "</div>"
      ],
      "text/plain": [
       "   user_id  age churn_date         city first_name  last_name    reg_date  \\\n",
       "0     1000   52        NaN    Краснодар     Рафаил  Верещагин  2018-05-25   \n",
       "1     1001   41        NaN       Москва       Иван       Ежов  2018-11-01   \n",
       "2     1002   59        NaN  Стерлитамак    Евгений  Абрамович  2018-06-17   \n",
       "3     1003   23        NaN       Москва      Белла   Белякова  2018-08-17   \n",
       "4     1004   68        NaN  Новокузнецк    Татьяна   Авдеенко  2018-05-14   \n",
       "\n",
       "  tariff  count_calls_month_1  count_calls_month_2  ...  \\\n",
       "0  ultra                  NaN                  NaN  ...   \n",
       "1  smart                  NaN                  NaN  ...   \n",
       "2  smart                  NaN                  NaN  ...   \n",
       "3  ultra                  NaN                  NaN  ...   \n",
       "4  ultra                  NaN                  NaN  ...   \n",
       "\n",
       "   count_messages_month_3  count_messages_month_4  count_messages_month_5  \\\n",
       "0                     NaN                     NaN                    22.0   \n",
       "1                     NaN                     NaN                     NaN   \n",
       "2                     NaN                     NaN                     NaN   \n",
       "3                     NaN                     NaN                     NaN   \n",
       "4                     NaN                     NaN                    95.0   \n",
       "\n",
       "   count_messages_month_6  count_messages_month_7  count_messages_month_8  \\\n",
       "0                    60.0                    75.0                    81.0   \n",
       "1                     NaN                     NaN                     NaN   \n",
       "2                     4.0                    11.0                    13.0   \n",
       "3                     NaN                     NaN                    37.0   \n",
       "4                   134.0                   181.0                   151.0   \n",
       "\n",
       "   count_messages_month_9  count_messages_month_10  count_messages_month_11  \\\n",
       "0                    57.0                     73.0                     58.0   \n",
       "1                     NaN                      NaN                      NaN   \n",
       "2                     4.0                     10.0                     16.0   \n",
       "3                    91.0                     83.0                     94.0   \n",
       "4                   146.0                    165.0                    158.0   \n",
       "\n",
       "   count_messages_month_12  \n",
       "0                     70.0  \n",
       "1                      NaN  \n",
       "2                     12.0  \n",
       "3                     75.0  \n",
       "4                    162.0  \n",
       "\n",
       "[5 rows x 56 columns]"
      ]
     },
     "execution_count": 184,
     "metadata": {},
     "output_type": "execute_result"
    }
   ],
   "source": [
    "users.head(5)"
   ]
  },
  {
   "cell_type": "code",
   "execution_count": 185,
   "metadata": {
    "collapsed": true
   },
   "outputs": [],
   "source": [
    "for i in range(1,13):\n",
    "    users[f'gb_used_month_{i}'] = users[f'gb_used_month_{i}']/1024"
   ]
  },
  {
   "cell_type": "code",
   "execution_count": 186,
   "metadata": {
    "collapsed": true
   },
   "outputs": [],
   "source": [
    "for i in range(1,13):\n",
    "    users[f'gb_used_month_{i}'] = users[f'gb_used_month_{i}'].apply(rounding)"
   ]
  },
  {
   "cell_type": "code",
   "execution_count": 187,
   "metadata": {
    "collapsed": true
   },
   "outputs": [],
   "source": [
    "users['churn_date'] = users['churn_date'].fillna('2018-12-31') #лучше так заменить, чтобы отслеживать сколько месяцев пользователь использует тариф"
   ]
  },
  {
   "cell_type": "code",
   "execution_count": 188,
   "metadata": {
    "collapsed": true
   },
   "outputs": [],
   "source": [
    "users['reg_date'] = pd.to_datetime(users['reg_date'], format = '%Y-%m-%d') #переводим столбец в формат времени"
   ]
  },
  {
   "cell_type": "code",
   "execution_count": 189,
   "metadata": {
    "collapsed": true
   },
   "outputs": [],
   "source": [
    "users['churn_date'] = pd.to_datetime(users['churn_date'], format = '%Y-%m-%d') #переводим столбец в формат времени"
   ]
  },
  {
   "cell_type": "code",
   "execution_count": 190,
   "metadata": {
    "collapsed": true
   },
   "outputs": [],
   "source": [
    "users['reg_month'] = pd.DatetimeIndex(users['reg_date']).month\n",
    "users['churn_month'] = pd.DatetimeIndex(users['churn_date']).month"
   ]
  },
  {
   "cell_type": "code",
   "execution_count": 191,
   "metadata": {},
   "outputs": [
    {
     "name": "stdout",
     "output_type": "stream",
     "text": [
      "<class 'pandas.core.frame.DataFrame'>\n",
      "RangeIndex: 500 entries, 0 to 499\n",
      "Data columns (total 58 columns):\n",
      " #   Column                   Non-Null Count  Dtype         \n",
      "---  ------                   --------------  -----         \n",
      " 0   user_id                  500 non-null    int64         \n",
      " 1   age                      500 non-null    int64         \n",
      " 2   churn_date               500 non-null    datetime64[ns]\n",
      " 3   city                     500 non-null    object        \n",
      " 4   first_name               500 non-null    object        \n",
      " 5   last_name                500 non-null    object        \n",
      " 6   reg_date                 500 non-null    datetime64[ns]\n",
      " 7   tariff                   500 non-null    object        \n",
      " 8   count_calls_month_1      43 non-null     float64       \n",
      " 9   count_calls_month_2      82 non-null     float64       \n",
      " 10  count_calls_month_3      114 non-null    float64       \n",
      " 11  count_calls_month_4      165 non-null    float64       \n",
      " 12  count_calls_month_5      205 non-null    float64       \n",
      " 13  count_calls_month_6      244 non-null    float64       \n",
      " 14  count_calls_month_7      289 non-null    float64       \n",
      " 15  count_calls_month_8      337 non-null    float64       \n",
      " 16  count_calls_month_9      370 non-null    float64       \n",
      " 17  count_calls_month_10     411 non-null    float64       \n",
      " 18  count_calls_month_11     444 non-null    float64       \n",
      " 19  count_calls_month_12     470 non-null    float64       \n",
      " 20  sum_calls_month_1        43 non-null     float64       \n",
      " 21  sum_calls_month_2        82 non-null     float64       \n",
      " 22  sum_calls_month_3        114 non-null    float64       \n",
      " 23  sum_calls_month_4        165 non-null    float64       \n",
      " 24  sum_calls_month_5        205 non-null    float64       \n",
      " 25  sum_calls_month_6        244 non-null    float64       \n",
      " 26  sum_calls_month_7        289 non-null    float64       \n",
      " 27  sum_calls_month_8        337 non-null    float64       \n",
      " 28  sum_calls_month_9        370 non-null    float64       \n",
      " 29  sum_calls_month_10       411 non-null    float64       \n",
      " 30  sum_calls_month_11       444 non-null    float64       \n",
      " 31  sum_calls_month_12       470 non-null    float64       \n",
      " 32  gb_used_month_1          500 non-null    float64       \n",
      " 33  gb_used_month_2          500 non-null    float64       \n",
      " 34  gb_used_month_3          500 non-null    float64       \n",
      " 35  gb_used_month_4          500 non-null    float64       \n",
      " 36  gb_used_month_5          500 non-null    float64       \n",
      " 37  gb_used_month_6          500 non-null    float64       \n",
      " 38  gb_used_month_7          500 non-null    float64       \n",
      " 39  gb_used_month_8          500 non-null    float64       \n",
      " 40  gb_used_month_9          500 non-null    float64       \n",
      " 41  gb_used_month_10         500 non-null    float64       \n",
      " 42  gb_used_month_11         500 non-null    float64       \n",
      " 43  gb_used_month_12         500 non-null    float64       \n",
      " 44  count_messages_month_1   38 non-null     float64       \n",
      " 45  count_messages_month_2   66 non-null     float64       \n",
      " 46  count_messages_month_3   94 non-null     float64       \n",
      " 47  count_messages_month_4   135 non-null    float64       \n",
      " 48  count_messages_month_5   174 non-null    float64       \n",
      " 49  count_messages_month_6   209 non-null    float64       \n",
      " 50  count_messages_month_7   247 non-null    float64       \n",
      " 51  count_messages_month_8   292 non-null    float64       \n",
      " 52  count_messages_month_9   318 non-null    float64       \n",
      " 53  count_messages_month_10  357 non-null    float64       \n",
      " 54  count_messages_month_11  383 non-null    float64       \n",
      " 55  count_messages_month_12  404 non-null    float64       \n",
      " 56  reg_month                500 non-null    int64         \n",
      " 57  churn_month              500 non-null    int64         \n",
      "dtypes: datetime64[ns](2), float64(48), int64(4), object(4)\n",
      "memory usage: 226.7+ KB\n"
     ]
    }
   ],
   "source": [
    "users.info()"
   ]
  },
  {
   "cell_type": "code",
   "execution_count": 192,
   "metadata": {},
   "outputs": [
    {
     "data": {
      "text/plain": [
       "array(['Архангельск', 'Астрахань', 'Балашиха', 'Барнаул', 'Белгород',\n",
       "       'Брянск', 'Владивосток', 'Владикавказ', 'Владимир', 'Волгоград',\n",
       "       'Волжский', 'Вологда', 'Воронеж', 'Грозный', 'Екатеринбург',\n",
       "       'Иваново', 'Ижевск', 'Иркутск', 'Казань', 'Калининград', 'Калуга',\n",
       "       'Кемерово', 'Киров', 'Кострома', 'Краснодар', 'Красноярск',\n",
       "       'Курган', 'Курск', 'Липецк', 'Магнитогорск', 'Махачкала', 'Москва',\n",
       "       'Мурманск', 'Набережные Челны', 'Нижневартовск', 'Нижний Новгород',\n",
       "       'Нижний Тагил', 'Новокузнецк', 'Новороссийск', 'Новосибирск',\n",
       "       'Омск', 'Оренбург', 'Орёл', 'Пенза', 'Пермь', 'Петрозаводск',\n",
       "       'Подольск', 'Ростов-на-Дону', 'Рязань', 'Самара',\n",
       "       'Санкт-Петербург', 'Саранск', 'Саратов', 'Севастополь', 'Смоленск',\n",
       "       'Сочи', 'Ставрополь', 'Стерлитамак', 'Сургут', 'Тамбов', 'Тверь',\n",
       "       'Тольятти', 'Томск', 'Тула', 'Тюмень', 'Улан-Удэ', 'Ульяновск',\n",
       "       'Уфа', 'Хабаровск', 'Химки', 'Чебоксары', 'Челябинск', 'Череповец',\n",
       "       'Чита', 'Якутск', 'Ярославль'], dtype=object)"
      ]
     },
     "execution_count": 192,
     "metadata": {},
     "output_type": "execute_result"
    }
   ],
   "source": [
    "users['city'].sort_values().unique() #нет неявных дубликатов"
   ]
  },
  {
   "cell_type": "code",
   "execution_count": 193,
   "metadata": {},
   "outputs": [
    {
     "data": {
      "text/plain": [
       "smart    351\n",
       "ultra    149\n",
       "Name: tariff, dtype: int64"
      ]
     },
     "execution_count": 193,
     "metadata": {},
     "output_type": "execute_result"
    }
   ],
   "source": [
    "users['tariff'].value_counts() # нет ошибок в столбце. Есть два тарифа"
   ]
  },
  {
   "cell_type": "code",
   "execution_count": 194,
   "metadata": {
    "collapsed": true
   },
   "outputs": [],
   "source": [
    "check_users = pd.DataFrame(data = list(zip(users['age'], users['first_name'], users['last_name'])), columns = ['age', 'first_name', 'last_name'])"
   ]
  },
  {
   "cell_type": "code",
   "execution_count": 195,
   "metadata": {},
   "outputs": [
    {
     "data": {
      "text/html": [
       "<div>\n",
       "<style scoped>\n",
       "    .dataframe tbody tr th:only-of-type {\n",
       "        vertical-align: middle;\n",
       "    }\n",
       "\n",
       "    .dataframe tbody tr th {\n",
       "        vertical-align: top;\n",
       "    }\n",
       "\n",
       "    .dataframe thead th {\n",
       "        text-align: right;\n",
       "    }\n",
       "</style>\n",
       "<table border=\"1\" class=\"dataframe\">\n",
       "  <thead>\n",
       "    <tr style=\"text-align: right;\">\n",
       "      <th></th>\n",
       "      <th>age</th>\n",
       "      <th>first_name</th>\n",
       "      <th>last_name</th>\n",
       "    </tr>\n",
       "  </thead>\n",
       "  <tbody>\n",
       "    <tr>\n",
       "      <th>0</th>\n",
       "      <td>52</td>\n",
       "      <td>Рафаил</td>\n",
       "      <td>Верещагин</td>\n",
       "    </tr>\n",
       "    <tr>\n",
       "      <th>1</th>\n",
       "      <td>41</td>\n",
       "      <td>Иван</td>\n",
       "      <td>Ежов</td>\n",
       "    </tr>\n",
       "    <tr>\n",
       "      <th>2</th>\n",
       "      <td>59</td>\n",
       "      <td>Евгений</td>\n",
       "      <td>Абрамович</td>\n",
       "    </tr>\n",
       "    <tr>\n",
       "      <th>3</th>\n",
       "      <td>23</td>\n",
       "      <td>Белла</td>\n",
       "      <td>Белякова</td>\n",
       "    </tr>\n",
       "    <tr>\n",
       "      <th>4</th>\n",
       "      <td>68</td>\n",
       "      <td>Татьяна</td>\n",
       "      <td>Авдеенко</td>\n",
       "    </tr>\n",
       "    <tr>\n",
       "      <th>...</th>\n",
       "      <td>...</td>\n",
       "      <td>...</td>\n",
       "      <td>...</td>\n",
       "    </tr>\n",
       "    <tr>\n",
       "      <th>495</th>\n",
       "      <td>65</td>\n",
       "      <td>Авксентий</td>\n",
       "      <td>Фокин</td>\n",
       "    </tr>\n",
       "    <tr>\n",
       "      <th>496</th>\n",
       "      <td>36</td>\n",
       "      <td>Трифон</td>\n",
       "      <td>Блохин</td>\n",
       "    </tr>\n",
       "    <tr>\n",
       "      <th>497</th>\n",
       "      <td>32</td>\n",
       "      <td>Каролина</td>\n",
       "      <td>Агеева</td>\n",
       "    </tr>\n",
       "    <tr>\n",
       "      <th>498</th>\n",
       "      <td>68</td>\n",
       "      <td>Всеволод</td>\n",
       "      <td>Акимчин</td>\n",
       "    </tr>\n",
       "    <tr>\n",
       "      <th>499</th>\n",
       "      <td>35</td>\n",
       "      <td>Гектор</td>\n",
       "      <td>Корнилов</td>\n",
       "    </tr>\n",
       "  </tbody>\n",
       "</table>\n",
       "<p>500 rows × 3 columns</p>\n",
       "</div>"
      ],
      "text/plain": [
       "     age first_name  last_name\n",
       "0     52     Рафаил  Верещагин\n",
       "1     41       Иван       Ежов\n",
       "2     59    Евгений  Абрамович\n",
       "3     23      Белла   Белякова\n",
       "4     68    Татьяна   Авдеенко\n",
       "..   ...        ...        ...\n",
       "495   65  Авксентий      Фокин\n",
       "496   36     Трифон     Блохин\n",
       "497   32   Каролина     Агеева\n",
       "498   68   Всеволод    Акимчин\n",
       "499   35     Гектор   Корнилов\n",
       "\n",
       "[500 rows x 3 columns]"
      ]
     },
     "execution_count": 195,
     "metadata": {},
     "output_type": "execute_result"
    }
   ],
   "source": [
    "check_users #проверка дубликатов на пользователей с учетом фамилии, имени и возраста"
   ]
  },
  {
   "cell_type": "code",
   "execution_count": 196,
   "metadata": {
    "collapsed": true
   },
   "outputs": [],
   "source": [
    "check_users = check_users.drop_duplicates()"
   ]
  },
  {
   "cell_type": "code",
   "execution_count": 197,
   "metadata": {
    "scrolled": true
   },
   "outputs": [
    {
     "data": {
      "text/html": [
       "<div>\n",
       "<style scoped>\n",
       "    .dataframe tbody tr th:only-of-type {\n",
       "        vertical-align: middle;\n",
       "    }\n",
       "\n",
       "    .dataframe tbody tr th {\n",
       "        vertical-align: top;\n",
       "    }\n",
       "\n",
       "    .dataframe thead th {\n",
       "        text-align: right;\n",
       "    }\n",
       "</style>\n",
       "<table border=\"1\" class=\"dataframe\">\n",
       "  <thead>\n",
       "    <tr style=\"text-align: right;\">\n",
       "      <th></th>\n",
       "      <th>age</th>\n",
       "      <th>first_name</th>\n",
       "      <th>last_name</th>\n",
       "    </tr>\n",
       "  </thead>\n",
       "  <tbody>\n",
       "    <tr>\n",
       "      <th>0</th>\n",
       "      <td>52</td>\n",
       "      <td>Рафаил</td>\n",
       "      <td>Верещагин</td>\n",
       "    </tr>\n",
       "    <tr>\n",
       "      <th>1</th>\n",
       "      <td>41</td>\n",
       "      <td>Иван</td>\n",
       "      <td>Ежов</td>\n",
       "    </tr>\n",
       "    <tr>\n",
       "      <th>2</th>\n",
       "      <td>59</td>\n",
       "      <td>Евгений</td>\n",
       "      <td>Абрамович</td>\n",
       "    </tr>\n",
       "    <tr>\n",
       "      <th>3</th>\n",
       "      <td>23</td>\n",
       "      <td>Белла</td>\n",
       "      <td>Белякова</td>\n",
       "    </tr>\n",
       "    <tr>\n",
       "      <th>4</th>\n",
       "      <td>68</td>\n",
       "      <td>Татьяна</td>\n",
       "      <td>Авдеенко</td>\n",
       "    </tr>\n",
       "    <tr>\n",
       "      <th>...</th>\n",
       "      <td>...</td>\n",
       "      <td>...</td>\n",
       "      <td>...</td>\n",
       "    </tr>\n",
       "    <tr>\n",
       "      <th>495</th>\n",
       "      <td>65</td>\n",
       "      <td>Авксентий</td>\n",
       "      <td>Фокин</td>\n",
       "    </tr>\n",
       "    <tr>\n",
       "      <th>496</th>\n",
       "      <td>36</td>\n",
       "      <td>Трифон</td>\n",
       "      <td>Блохин</td>\n",
       "    </tr>\n",
       "    <tr>\n",
       "      <th>497</th>\n",
       "      <td>32</td>\n",
       "      <td>Каролина</td>\n",
       "      <td>Агеева</td>\n",
       "    </tr>\n",
       "    <tr>\n",
       "      <th>498</th>\n",
       "      <td>68</td>\n",
       "      <td>Всеволод</td>\n",
       "      <td>Акимчин</td>\n",
       "    </tr>\n",
       "    <tr>\n",
       "      <th>499</th>\n",
       "      <td>35</td>\n",
       "      <td>Гектор</td>\n",
       "      <td>Корнилов</td>\n",
       "    </tr>\n",
       "  </tbody>\n",
       "</table>\n",
       "<p>500 rows × 3 columns</p>\n",
       "</div>"
      ],
      "text/plain": [
       "     age first_name  last_name\n",
       "0     52     Рафаил  Верещагин\n",
       "1     41       Иван       Ежов\n",
       "2     59    Евгений  Абрамович\n",
       "3     23      Белла   Белякова\n",
       "4     68    Татьяна   Авдеенко\n",
       "..   ...        ...        ...\n",
       "495   65  Авксентий      Фокин\n",
       "496   36     Трифон     Блохин\n",
       "497   32   Каролина     Агеева\n",
       "498   68   Всеволод    Акимчин\n",
       "499   35     Гектор   Корнилов\n",
       "\n",
       "[500 rows x 3 columns]"
      ]
     },
     "execution_count": 197,
     "metadata": {},
     "output_type": "execute_result"
    }
   ],
   "source": [
    "check_users"
   ]
  },
  {
   "cell_type": "code",
   "execution_count": 198,
   "metadata": {},
   "outputs": [
    {
     "name": "stdout",
     "output_type": "stream",
     "text": [
      "<class 'pandas.core.frame.DataFrame'>\n",
      "RangeIndex: 500 entries, 0 to 499\n",
      "Data columns (total 58 columns):\n",
      " #   Column                   Non-Null Count  Dtype         \n",
      "---  ------                   --------------  -----         \n",
      " 0   user_id                  500 non-null    int64         \n",
      " 1   age                      500 non-null    int64         \n",
      " 2   churn_date               500 non-null    datetime64[ns]\n",
      " 3   city                     500 non-null    object        \n",
      " 4   first_name               500 non-null    object        \n",
      " 5   last_name                500 non-null    object        \n",
      " 6   reg_date                 500 non-null    datetime64[ns]\n",
      " 7   tariff                   500 non-null    object        \n",
      " 8   count_calls_month_1      43 non-null     float64       \n",
      " 9   count_calls_month_2      82 non-null     float64       \n",
      " 10  count_calls_month_3      114 non-null    float64       \n",
      " 11  count_calls_month_4      165 non-null    float64       \n",
      " 12  count_calls_month_5      205 non-null    float64       \n",
      " 13  count_calls_month_6      244 non-null    float64       \n",
      " 14  count_calls_month_7      289 non-null    float64       \n",
      " 15  count_calls_month_8      337 non-null    float64       \n",
      " 16  count_calls_month_9      370 non-null    float64       \n",
      " 17  count_calls_month_10     411 non-null    float64       \n",
      " 18  count_calls_month_11     444 non-null    float64       \n",
      " 19  count_calls_month_12     470 non-null    float64       \n",
      " 20  sum_calls_month_1        43 non-null     float64       \n",
      " 21  sum_calls_month_2        82 non-null     float64       \n",
      " 22  sum_calls_month_3        114 non-null    float64       \n",
      " 23  sum_calls_month_4        165 non-null    float64       \n",
      " 24  sum_calls_month_5        205 non-null    float64       \n",
      " 25  sum_calls_month_6        244 non-null    float64       \n",
      " 26  sum_calls_month_7        289 non-null    float64       \n",
      " 27  sum_calls_month_8        337 non-null    float64       \n",
      " 28  sum_calls_month_9        370 non-null    float64       \n",
      " 29  sum_calls_month_10       411 non-null    float64       \n",
      " 30  sum_calls_month_11       444 non-null    float64       \n",
      " 31  sum_calls_month_12       470 non-null    float64       \n",
      " 32  gb_used_month_1          500 non-null    float64       \n",
      " 33  gb_used_month_2          500 non-null    float64       \n",
      " 34  gb_used_month_3          500 non-null    float64       \n",
      " 35  gb_used_month_4          500 non-null    float64       \n",
      " 36  gb_used_month_5          500 non-null    float64       \n",
      " 37  gb_used_month_6          500 non-null    float64       \n",
      " 38  gb_used_month_7          500 non-null    float64       \n",
      " 39  gb_used_month_8          500 non-null    float64       \n",
      " 40  gb_used_month_9          500 non-null    float64       \n",
      " 41  gb_used_month_10         500 non-null    float64       \n",
      " 42  gb_used_month_11         500 non-null    float64       \n",
      " 43  gb_used_month_12         500 non-null    float64       \n",
      " 44  count_messages_month_1   38 non-null     float64       \n",
      " 45  count_messages_month_2   66 non-null     float64       \n",
      " 46  count_messages_month_3   94 non-null     float64       \n",
      " 47  count_messages_month_4   135 non-null    float64       \n",
      " 48  count_messages_month_5   174 non-null    float64       \n",
      " 49  count_messages_month_6   209 non-null    float64       \n",
      " 50  count_messages_month_7   247 non-null    float64       \n",
      " 51  count_messages_month_8   292 non-null    float64       \n",
      " 52  count_messages_month_9   318 non-null    float64       \n",
      " 53  count_messages_month_10  357 non-null    float64       \n",
      " 54  count_messages_month_11  383 non-null    float64       \n",
      " 55  count_messages_month_12  404 non-null    float64       \n",
      " 56  reg_month                500 non-null    int64         \n",
      " 57  churn_month              500 non-null    int64         \n",
      "dtypes: datetime64[ns](2), float64(48), int64(4), object(4)\n",
      "memory usage: 226.7+ KB\n"
     ]
    }
   ],
   "source": [
    "users.info()"
   ]
  },
  {
   "cell_type": "code",
   "execution_count": 199,
   "metadata": {},
   "outputs": [
    {
     "data": {
      "text/html": [
       "<div>\n",
       "<style scoped>\n",
       "    .dataframe tbody tr th:only-of-type {\n",
       "        vertical-align: middle;\n",
       "    }\n",
       "\n",
       "    .dataframe tbody tr th {\n",
       "        vertical-align: top;\n",
       "    }\n",
       "\n",
       "    .dataframe thead th {\n",
       "        text-align: right;\n",
       "    }\n",
       "</style>\n",
       "<table border=\"1\" class=\"dataframe\">\n",
       "  <thead>\n",
       "    <tr style=\"text-align: right;\">\n",
       "      <th></th>\n",
       "      <th>messages_included</th>\n",
       "      <th>gb_per_month_included</th>\n",
       "      <th>minutes_included</th>\n",
       "      <th>rub_monthly_fee</th>\n",
       "      <th>rub_per_gb</th>\n",
       "      <th>rub_per_message</th>\n",
       "      <th>rub_per_minute</th>\n",
       "      <th>tariff_name</th>\n",
       "    </tr>\n",
       "  </thead>\n",
       "  <tbody>\n",
       "    <tr>\n",
       "      <th>0</th>\n",
       "      <td>50</td>\n",
       "      <td>15.0</td>\n",
       "      <td>500</td>\n",
       "      <td>550</td>\n",
       "      <td>200</td>\n",
       "      <td>3</td>\n",
       "      <td>3</td>\n",
       "      <td>smart</td>\n",
       "    </tr>\n",
       "    <tr>\n",
       "      <th>1</th>\n",
       "      <td>1000</td>\n",
       "      <td>30.0</td>\n",
       "      <td>3000</td>\n",
       "      <td>1950</td>\n",
       "      <td>150</td>\n",
       "      <td>1</td>\n",
       "      <td>1</td>\n",
       "      <td>ultra</td>\n",
       "    </tr>\n",
       "  </tbody>\n",
       "</table>\n",
       "</div>"
      ],
      "text/plain": [
       "   messages_included  gb_per_month_included  minutes_included  \\\n",
       "0                 50                   15.0               500   \n",
       "1               1000                   30.0              3000   \n",
       "\n",
       "   rub_monthly_fee  rub_per_gb  rub_per_message  rub_per_minute tariff_name  \n",
       "0              550         200                3               3       smart  \n",
       "1             1950         150                1               1       ultra  "
      ]
     },
     "execution_count": 199,
     "metadata": {},
     "output_type": "execute_result"
    }
   ],
   "source": [
    "tariffs.head(5)"
   ]
  },
  {
   "cell_type": "markdown",
   "metadata": {},
   "source": [
    "Дубликатов нет"
   ]
  },
  {
   "cell_type": "code",
   "execution_count": 200,
   "metadata": {
    "collapsed": true
   },
   "outputs": [],
   "source": [
    "def revenue(tariff, message, gb, minute): #функция по подсчету задолжности с округлением минут и гб в большую сторону\n",
    "    if tariff == 'smart':\n",
    "        sun = 0\n",
    "        mess = 50-message\n",
    "        if mess<0:\n",
    "            sun += (-3*mess)\n",
    "        gb_u = 15.0-gb\n",
    "        if gb_u<0:\n",
    "            sun += (-200*(ceil(gb_u)))\n",
    "        minu = 500-minute\n",
    "        if minu<0:\n",
    "            sun += (-3*(ceil(minu)))\n",
    "    else:\n",
    "        sun = 0\n",
    "        mess = 1000-message\n",
    "        if mess<0:\n",
    "            sun += (-1*mess)\n",
    "        gb_u = 30.0-gb\n",
    "        if gb_u<0:\n",
    "            sun += (-150*(ceil(gb_u)))\n",
    "        minu = 3000-minute\n",
    "        if minu<0:\n",
    "            sun += (-1*(ceil(minu)))\n",
    "    return sun"
   ]
  },
  {
   "cell_type": "code",
   "execution_count": 202,
   "metadata": {
    "collapsed": true
   },
   "outputs": [],
   "source": [
    "for i in range(1,13):\n",
    "    users[f'revenue_month_{i}'] = users.apply(lambda row: revenue(row['tariff'], row[f\"count_messages_month_{i}\"],row[f\"gb_used_month_{i}\"],row[f\"sum_calls_month_{i}\"]), axis=1)"
   ]
  },
  {
   "cell_type": "code",
   "execution_count": 203,
   "metadata": {},
   "outputs": [
    {
     "data": {
      "text/html": [
       "<div>\n",
       "<style scoped>\n",
       "    .dataframe tbody tr th:only-of-type {\n",
       "        vertical-align: middle;\n",
       "    }\n",
       "\n",
       "    .dataframe tbody tr th {\n",
       "        vertical-align: top;\n",
       "    }\n",
       "\n",
       "    .dataframe thead th {\n",
       "        text-align: right;\n",
       "    }\n",
       "</style>\n",
       "<table border=\"1\" class=\"dataframe\">\n",
       "  <thead>\n",
       "    <tr style=\"text-align: right;\">\n",
       "      <th></th>\n",
       "      <th>user_id</th>\n",
       "      <th>age</th>\n",
       "      <th>churn_date</th>\n",
       "      <th>city</th>\n",
       "      <th>first_name</th>\n",
       "      <th>last_name</th>\n",
       "      <th>reg_date</th>\n",
       "      <th>tariff</th>\n",
       "      <th>count_calls_month_1</th>\n",
       "      <th>count_calls_month_2</th>\n",
       "      <th>...</th>\n",
       "      <th>revenue_month_3</th>\n",
       "      <th>revenue_month_4</th>\n",
       "      <th>revenue_month_5</th>\n",
       "      <th>revenue_month_6</th>\n",
       "      <th>revenue_month_7</th>\n",
       "      <th>revenue_month_8</th>\n",
       "      <th>revenue_month_9</th>\n",
       "      <th>revenue_month_10</th>\n",
       "      <th>revenue_month_11</th>\n",
       "      <th>revenue_month_12</th>\n",
       "    </tr>\n",
       "  </thead>\n",
       "  <tbody>\n",
       "    <tr>\n",
       "      <th>0</th>\n",
       "      <td>1000</td>\n",
       "      <td>52</td>\n",
       "      <td>2018-12-31</td>\n",
       "      <td>Краснодар</td>\n",
       "      <td>Рафаил</td>\n",
       "      <td>Верещагин</td>\n",
       "      <td>2018-05-25</td>\n",
       "      <td>ultra</td>\n",
       "      <td>NaN</td>\n",
       "      <td>NaN</td>\n",
       "      <td>...</td>\n",
       "      <td>0.0</td>\n",
       "      <td>0.0</td>\n",
       "      <td>0.0</td>\n",
       "      <td>0.0</td>\n",
       "      <td>0.0</td>\n",
       "      <td>0.0</td>\n",
       "      <td>0.0</td>\n",
       "      <td>0.0</td>\n",
       "      <td>0.0</td>\n",
       "      <td>0.0</td>\n",
       "    </tr>\n",
       "    <tr>\n",
       "      <th>1</th>\n",
       "      <td>1001</td>\n",
       "      <td>41</td>\n",
       "      <td>2018-12-31</td>\n",
       "      <td>Москва</td>\n",
       "      <td>Иван</td>\n",
       "      <td>Ежов</td>\n",
       "      <td>2018-11-01</td>\n",
       "      <td>smart</td>\n",
       "      <td>NaN</td>\n",
       "      <td>NaN</td>\n",
       "      <td>...</td>\n",
       "      <td>0.0</td>\n",
       "      <td>0.0</td>\n",
       "      <td>0.0</td>\n",
       "      <td>0.0</td>\n",
       "      <td>0.0</td>\n",
       "      <td>0.0</td>\n",
       "      <td>0.0</td>\n",
       "      <td>0.0</td>\n",
       "      <td>600.0</td>\n",
       "      <td>0.0</td>\n",
       "    </tr>\n",
       "    <tr>\n",
       "      <th>2</th>\n",
       "      <td>1002</td>\n",
       "      <td>59</td>\n",
       "      <td>2018-12-31</td>\n",
       "      <td>Стерлитамак</td>\n",
       "      <td>Евгений</td>\n",
       "      <td>Абрамович</td>\n",
       "      <td>2018-06-17</td>\n",
       "      <td>smart</td>\n",
       "      <td>NaN</td>\n",
       "      <td>NaN</td>\n",
       "      <td>...</td>\n",
       "      <td>0.0</td>\n",
       "      <td>0.0</td>\n",
       "      <td>0.0</td>\n",
       "      <td>0.0</td>\n",
       "      <td>600.0</td>\n",
       "      <td>1000.0</td>\n",
       "      <td>400.0</td>\n",
       "      <td>0.0</td>\n",
       "      <td>800.0</td>\n",
       "      <td>600.0</td>\n",
       "    </tr>\n",
       "    <tr>\n",
       "      <th>3</th>\n",
       "      <td>1003</td>\n",
       "      <td>23</td>\n",
       "      <td>2018-12-31</td>\n",
       "      <td>Москва</td>\n",
       "      <td>Белла</td>\n",
       "      <td>Белякова</td>\n",
       "      <td>2018-08-17</td>\n",
       "      <td>ultra</td>\n",
       "      <td>NaN</td>\n",
       "      <td>NaN</td>\n",
       "      <td>...</td>\n",
       "      <td>0.0</td>\n",
       "      <td>0.0</td>\n",
       "      <td>0.0</td>\n",
       "      <td>0.0</td>\n",
       "      <td>0.0</td>\n",
       "      <td>0.0</td>\n",
       "      <td>0.0</td>\n",
       "      <td>0.0</td>\n",
       "      <td>0.0</td>\n",
       "      <td>0.0</td>\n",
       "    </tr>\n",
       "    <tr>\n",
       "      <th>4</th>\n",
       "      <td>1004</td>\n",
       "      <td>68</td>\n",
       "      <td>2018-12-31</td>\n",
       "      <td>Новокузнецк</td>\n",
       "      <td>Татьяна</td>\n",
       "      <td>Авдеенко</td>\n",
       "      <td>2018-05-14</td>\n",
       "      <td>ultra</td>\n",
       "      <td>NaN</td>\n",
       "      <td>NaN</td>\n",
       "      <td>...</td>\n",
       "      <td>0.0</td>\n",
       "      <td>0.0</td>\n",
       "      <td>0.0</td>\n",
       "      <td>0.0</td>\n",
       "      <td>0.0</td>\n",
       "      <td>0.0</td>\n",
       "      <td>0.0</td>\n",
       "      <td>0.0</td>\n",
       "      <td>0.0</td>\n",
       "      <td>0.0</td>\n",
       "    </tr>\n",
       "  </tbody>\n",
       "</table>\n",
       "<p>5 rows × 70 columns</p>\n",
       "</div>"
      ],
      "text/plain": [
       "   user_id  age churn_date         city first_name  last_name   reg_date  \\\n",
       "0     1000   52 2018-12-31    Краснодар     Рафаил  Верещагин 2018-05-25   \n",
       "1     1001   41 2018-12-31       Москва       Иван       Ежов 2018-11-01   \n",
       "2     1002   59 2018-12-31  Стерлитамак    Евгений  Абрамович 2018-06-17   \n",
       "3     1003   23 2018-12-31       Москва      Белла   Белякова 2018-08-17   \n",
       "4     1004   68 2018-12-31  Новокузнецк    Татьяна   Авдеенко 2018-05-14   \n",
       "\n",
       "  tariff  count_calls_month_1  count_calls_month_2  ...  revenue_month_3  \\\n",
       "0  ultra                  NaN                  NaN  ...              0.0   \n",
       "1  smart                  NaN                  NaN  ...              0.0   \n",
       "2  smart                  NaN                  NaN  ...              0.0   \n",
       "3  ultra                  NaN                  NaN  ...              0.0   \n",
       "4  ultra                  NaN                  NaN  ...              0.0   \n",
       "\n",
       "   revenue_month_4  revenue_month_5  revenue_month_6  revenue_month_7  \\\n",
       "0              0.0              0.0              0.0              0.0   \n",
       "1              0.0              0.0              0.0              0.0   \n",
       "2              0.0              0.0              0.0            600.0   \n",
       "3              0.0              0.0              0.0              0.0   \n",
       "4              0.0              0.0              0.0              0.0   \n",
       "\n",
       "   revenue_month_8  revenue_month_9  revenue_month_10  revenue_month_11  \\\n",
       "0              0.0              0.0               0.0               0.0   \n",
       "1              0.0              0.0               0.0             600.0   \n",
       "2           1000.0            400.0               0.0             800.0   \n",
       "3              0.0              0.0               0.0               0.0   \n",
       "4              0.0              0.0               0.0               0.0   \n",
       "\n",
       "   revenue_month_12  \n",
       "0               0.0  \n",
       "1               0.0  \n",
       "2             600.0  \n",
       "3               0.0  \n",
       "4               0.0  \n",
       "\n",
       "[5 rows x 70 columns]"
      ]
     },
     "execution_count": 203,
     "metadata": {},
     "output_type": "execute_result"
    }
   ],
   "source": [
    "users.head(5)"
   ]
  },
  {
   "cell_type": "code",
   "execution_count": 204,
   "metadata": {
    "collapsed": true
   },
   "outputs": [],
   "source": [
    "def online(reg, churn, tariff, reven, i): #учет месяца регистрации и месяца отказа при начислении стоимости за пользвание тарифа\n",
    "    if i >=reg and i <= churn:\n",
    "        if tariff == 'smart':\n",
    "            reven += 550\n",
    "        else:\n",
    "            reven += 1950\n",
    "    else:\n",
    "        reven += 0\n",
    "    return reven"
   ]
  },
  {
   "cell_type": "code",
   "execution_count": 205,
   "metadata": {
    "collapsed": true
   },
   "outputs": [],
   "source": [
    "for i in range(1,13): #выполнение функции по окончательносу начислению стоиомсти\n",
    "    users[f'revenue_month_{i}'] = users.apply(lambda row: online(row['reg_month'], row['churn_month'], row['tariff'], row[f'revenue_month_{i}'], i), axis=1)"
   ]
  },
  {
   "cell_type": "code",
   "execution_count": 206,
   "metadata": {},
   "outputs": [
    {
     "data": {
      "text/html": [
       "<div>\n",
       "<style scoped>\n",
       "    .dataframe tbody tr th:only-of-type {\n",
       "        vertical-align: middle;\n",
       "    }\n",
       "\n",
       "    .dataframe tbody tr th {\n",
       "        vertical-align: top;\n",
       "    }\n",
       "\n",
       "    .dataframe thead th {\n",
       "        text-align: right;\n",
       "    }\n",
       "</style>\n",
       "<table border=\"1\" class=\"dataframe\">\n",
       "  <thead>\n",
       "    <tr style=\"text-align: right;\">\n",
       "      <th></th>\n",
       "      <th>user_id</th>\n",
       "      <th>age</th>\n",
       "      <th>churn_date</th>\n",
       "      <th>city</th>\n",
       "      <th>first_name</th>\n",
       "      <th>last_name</th>\n",
       "      <th>reg_date</th>\n",
       "      <th>tariff</th>\n",
       "      <th>count_calls_month_1</th>\n",
       "      <th>count_calls_month_2</th>\n",
       "      <th>...</th>\n",
       "      <th>revenue_month_3</th>\n",
       "      <th>revenue_month_4</th>\n",
       "      <th>revenue_month_5</th>\n",
       "      <th>revenue_month_6</th>\n",
       "      <th>revenue_month_7</th>\n",
       "      <th>revenue_month_8</th>\n",
       "      <th>revenue_month_9</th>\n",
       "      <th>revenue_month_10</th>\n",
       "      <th>revenue_month_11</th>\n",
       "      <th>revenue_month_12</th>\n",
       "    </tr>\n",
       "  </thead>\n",
       "  <tbody>\n",
       "    <tr>\n",
       "      <th>0</th>\n",
       "      <td>1000</td>\n",
       "      <td>52</td>\n",
       "      <td>2018-12-31</td>\n",
       "      <td>Краснодар</td>\n",
       "      <td>Рафаил</td>\n",
       "      <td>Верещагин</td>\n",
       "      <td>2018-05-25</td>\n",
       "      <td>ultra</td>\n",
       "      <td>NaN</td>\n",
       "      <td>NaN</td>\n",
       "      <td>...</td>\n",
       "      <td>0.0</td>\n",
       "      <td>0.0</td>\n",
       "      <td>1950.0</td>\n",
       "      <td>1950.0</td>\n",
       "      <td>1950.0</td>\n",
       "      <td>1950.0</td>\n",
       "      <td>1950.0</td>\n",
       "      <td>1950.0</td>\n",
       "      <td>1950.0</td>\n",
       "      <td>1950.0</td>\n",
       "    </tr>\n",
       "    <tr>\n",
       "      <th>1</th>\n",
       "      <td>1001</td>\n",
       "      <td>41</td>\n",
       "      <td>2018-12-31</td>\n",
       "      <td>Москва</td>\n",
       "      <td>Иван</td>\n",
       "      <td>Ежов</td>\n",
       "      <td>2018-11-01</td>\n",
       "      <td>smart</td>\n",
       "      <td>NaN</td>\n",
       "      <td>NaN</td>\n",
       "      <td>...</td>\n",
       "      <td>0.0</td>\n",
       "      <td>0.0</td>\n",
       "      <td>0.0</td>\n",
       "      <td>0.0</td>\n",
       "      <td>0.0</td>\n",
       "      <td>0.0</td>\n",
       "      <td>0.0</td>\n",
       "      <td>0.0</td>\n",
       "      <td>1150.0</td>\n",
       "      <td>550.0</td>\n",
       "    </tr>\n",
       "    <tr>\n",
       "      <th>2</th>\n",
       "      <td>1002</td>\n",
       "      <td>59</td>\n",
       "      <td>2018-12-31</td>\n",
       "      <td>Стерлитамак</td>\n",
       "      <td>Евгений</td>\n",
       "      <td>Абрамович</td>\n",
       "      <td>2018-06-17</td>\n",
       "      <td>smart</td>\n",
       "      <td>NaN</td>\n",
       "      <td>NaN</td>\n",
       "      <td>...</td>\n",
       "      <td>0.0</td>\n",
       "      <td>0.0</td>\n",
       "      <td>0.0</td>\n",
       "      <td>550.0</td>\n",
       "      <td>1150.0</td>\n",
       "      <td>1550.0</td>\n",
       "      <td>950.0</td>\n",
       "      <td>550.0</td>\n",
       "      <td>1350.0</td>\n",
       "      <td>1150.0</td>\n",
       "    </tr>\n",
       "    <tr>\n",
       "      <th>3</th>\n",
       "      <td>1003</td>\n",
       "      <td>23</td>\n",
       "      <td>2018-12-31</td>\n",
       "      <td>Москва</td>\n",
       "      <td>Белла</td>\n",
       "      <td>Белякова</td>\n",
       "      <td>2018-08-17</td>\n",
       "      <td>ultra</td>\n",
       "      <td>NaN</td>\n",
       "      <td>NaN</td>\n",
       "      <td>...</td>\n",
       "      <td>0.0</td>\n",
       "      <td>0.0</td>\n",
       "      <td>0.0</td>\n",
       "      <td>0.0</td>\n",
       "      <td>0.0</td>\n",
       "      <td>1950.0</td>\n",
       "      <td>1950.0</td>\n",
       "      <td>1950.0</td>\n",
       "      <td>1950.0</td>\n",
       "      <td>1950.0</td>\n",
       "    </tr>\n",
       "    <tr>\n",
       "      <th>4</th>\n",
       "      <td>1004</td>\n",
       "      <td>68</td>\n",
       "      <td>2018-12-31</td>\n",
       "      <td>Новокузнецк</td>\n",
       "      <td>Татьяна</td>\n",
       "      <td>Авдеенко</td>\n",
       "      <td>2018-05-14</td>\n",
       "      <td>ultra</td>\n",
       "      <td>NaN</td>\n",
       "      <td>NaN</td>\n",
       "      <td>...</td>\n",
       "      <td>0.0</td>\n",
       "      <td>0.0</td>\n",
       "      <td>1950.0</td>\n",
       "      <td>1950.0</td>\n",
       "      <td>1950.0</td>\n",
       "      <td>1950.0</td>\n",
       "      <td>1950.0</td>\n",
       "      <td>1950.0</td>\n",
       "      <td>1950.0</td>\n",
       "      <td>1950.0</td>\n",
       "    </tr>\n",
       "    <tr>\n",
       "      <th>5</th>\n",
       "      <td>1005</td>\n",
       "      <td>67</td>\n",
       "      <td>2018-12-31</td>\n",
       "      <td>Набережные Челны</td>\n",
       "      <td>Афанасий</td>\n",
       "      <td>Горлов</td>\n",
       "      <td>2018-01-25</td>\n",
       "      <td>smart</td>\n",
       "      <td>15.0</td>\n",
       "      <td>69.0</td>\n",
       "      <td>...</td>\n",
       "      <td>886.0</td>\n",
       "      <td>1186.0</td>\n",
       "      <td>835.0</td>\n",
       "      <td>886.0</td>\n",
       "      <td>775.0</td>\n",
       "      <td>949.0</td>\n",
       "      <td>556.0</td>\n",
       "      <td>1219.0</td>\n",
       "      <td>694.0</td>\n",
       "      <td>838.0</td>\n",
       "    </tr>\n",
       "    <tr>\n",
       "      <th>6</th>\n",
       "      <td>1006</td>\n",
       "      <td>21</td>\n",
       "      <td>2018-12-31</td>\n",
       "      <td>Ульяновск</td>\n",
       "      <td>Леонид</td>\n",
       "      <td>Ермолаев</td>\n",
       "      <td>2018-02-26</td>\n",
       "      <td>smart</td>\n",
       "      <td>NaN</td>\n",
       "      <td>3.0</td>\n",
       "      <td>...</td>\n",
       "      <td>950.0</td>\n",
       "      <td>550.0</td>\n",
       "      <td>550.0</td>\n",
       "      <td>550.0</td>\n",
       "      <td>1550.0</td>\n",
       "      <td>1350.0</td>\n",
       "      <td>750.0</td>\n",
       "      <td>1550.0</td>\n",
       "      <td>550.0</td>\n",
       "      <td>1350.0</td>\n",
       "    </tr>\n",
       "    <tr>\n",
       "      <th>7</th>\n",
       "      <td>1007</td>\n",
       "      <td>65</td>\n",
       "      <td>2018-12-31</td>\n",
       "      <td>Москва</td>\n",
       "      <td>Юна</td>\n",
       "      <td>Березина</td>\n",
       "      <td>2018-04-19</td>\n",
       "      <td>smart</td>\n",
       "      <td>NaN</td>\n",
       "      <td>NaN</td>\n",
       "      <td>...</td>\n",
       "      <td>0.0</td>\n",
       "      <td>550.0</td>\n",
       "      <td>1150.0</td>\n",
       "      <td>685.0</td>\n",
       "      <td>981.0</td>\n",
       "      <td>1750.0</td>\n",
       "      <td>1015.0</td>\n",
       "      <td>550.0</td>\n",
       "      <td>990.0</td>\n",
       "      <td>550.0</td>\n",
       "    </tr>\n",
       "    <tr>\n",
       "      <th>8</th>\n",
       "      <td>1008</td>\n",
       "      <td>63</td>\n",
       "      <td>2018-12-31</td>\n",
       "      <td>Челябинск</td>\n",
       "      <td>Рустэм</td>\n",
       "      <td>Пономарёв</td>\n",
       "      <td>2018-12-19</td>\n",
       "      <td>smart</td>\n",
       "      <td>NaN</td>\n",
       "      <td>NaN</td>\n",
       "      <td>...</td>\n",
       "      <td>0.0</td>\n",
       "      <td>0.0</td>\n",
       "      <td>0.0</td>\n",
       "      <td>0.0</td>\n",
       "      <td>0.0</td>\n",
       "      <td>0.0</td>\n",
       "      <td>0.0</td>\n",
       "      <td>0.0</td>\n",
       "      <td>0.0</td>\n",
       "      <td>568.0</td>\n",
       "    </tr>\n",
       "    <tr>\n",
       "      <th>9</th>\n",
       "      <td>1009</td>\n",
       "      <td>24</td>\n",
       "      <td>2018-12-31</td>\n",
       "      <td>Пермь</td>\n",
       "      <td>Василиса</td>\n",
       "      <td>Блинова</td>\n",
       "      <td>2018-03-22</td>\n",
       "      <td>smart</td>\n",
       "      <td>NaN</td>\n",
       "      <td>NaN</td>\n",
       "      <td>...</td>\n",
       "      <td>550.0</td>\n",
       "      <td>550.0</td>\n",
       "      <td>550.0</td>\n",
       "      <td>750.0</td>\n",
       "      <td>2550.0</td>\n",
       "      <td>2350.0</td>\n",
       "      <td>1950.0</td>\n",
       "      <td>1550.0</td>\n",
       "      <td>950.0</td>\n",
       "      <td>1350.0</td>\n",
       "    </tr>\n",
       "  </tbody>\n",
       "</table>\n",
       "<p>10 rows × 70 columns</p>\n",
       "</div>"
      ],
      "text/plain": [
       "   user_id  age churn_date              city first_name  last_name   reg_date  \\\n",
       "0     1000   52 2018-12-31         Краснодар     Рафаил  Верещагин 2018-05-25   \n",
       "1     1001   41 2018-12-31            Москва       Иван       Ежов 2018-11-01   \n",
       "2     1002   59 2018-12-31       Стерлитамак    Евгений  Абрамович 2018-06-17   \n",
       "3     1003   23 2018-12-31            Москва      Белла   Белякова 2018-08-17   \n",
       "4     1004   68 2018-12-31       Новокузнецк    Татьяна   Авдеенко 2018-05-14   \n",
       "5     1005   67 2018-12-31  Набережные Челны   Афанасий     Горлов 2018-01-25   \n",
       "6     1006   21 2018-12-31         Ульяновск     Леонид   Ермолаев 2018-02-26   \n",
       "7     1007   65 2018-12-31            Москва        Юна   Березина 2018-04-19   \n",
       "8     1008   63 2018-12-31         Челябинск     Рустэм  Пономарёв 2018-12-19   \n",
       "9     1009   24 2018-12-31             Пермь   Василиса    Блинова 2018-03-22   \n",
       "\n",
       "  tariff  count_calls_month_1  count_calls_month_2  ...  revenue_month_3  \\\n",
       "0  ultra                  NaN                  NaN  ...              0.0   \n",
       "1  smart                  NaN                  NaN  ...              0.0   \n",
       "2  smart                  NaN                  NaN  ...              0.0   \n",
       "3  ultra                  NaN                  NaN  ...              0.0   \n",
       "4  ultra                  NaN                  NaN  ...              0.0   \n",
       "5  smart                 15.0                 69.0  ...            886.0   \n",
       "6  smart                  NaN                  3.0  ...            950.0   \n",
       "7  smart                  NaN                  NaN  ...              0.0   \n",
       "8  smart                  NaN                  NaN  ...              0.0   \n",
       "9  smart                  NaN                  NaN  ...            550.0   \n",
       "\n",
       "   revenue_month_4  revenue_month_5  revenue_month_6  revenue_month_7  \\\n",
       "0              0.0           1950.0           1950.0           1950.0   \n",
       "1              0.0              0.0              0.0              0.0   \n",
       "2              0.0              0.0            550.0           1150.0   \n",
       "3              0.0              0.0              0.0              0.0   \n",
       "4              0.0           1950.0           1950.0           1950.0   \n",
       "5           1186.0            835.0            886.0            775.0   \n",
       "6            550.0            550.0            550.0           1550.0   \n",
       "7            550.0           1150.0            685.0            981.0   \n",
       "8              0.0              0.0              0.0              0.0   \n",
       "9            550.0            550.0            750.0           2550.0   \n",
       "\n",
       "   revenue_month_8  revenue_month_9  revenue_month_10  revenue_month_11  \\\n",
       "0           1950.0           1950.0            1950.0            1950.0   \n",
       "1              0.0              0.0               0.0            1150.0   \n",
       "2           1550.0            950.0             550.0            1350.0   \n",
       "3           1950.0           1950.0            1950.0            1950.0   \n",
       "4           1950.0           1950.0            1950.0            1950.0   \n",
       "5            949.0            556.0            1219.0             694.0   \n",
       "6           1350.0            750.0            1550.0             550.0   \n",
       "7           1750.0           1015.0             550.0             990.0   \n",
       "8              0.0              0.0               0.0               0.0   \n",
       "9           2350.0           1950.0            1550.0             950.0   \n",
       "\n",
       "   revenue_month_12  \n",
       "0            1950.0  \n",
       "1             550.0  \n",
       "2            1150.0  \n",
       "3            1950.0  \n",
       "4            1950.0  \n",
       "5             838.0  \n",
       "6            1350.0  \n",
       "7             550.0  \n",
       "8             568.0  \n",
       "9            1350.0  \n",
       "\n",
       "[10 rows x 70 columns]"
      ]
     },
     "execution_count": 206,
     "metadata": {},
     "output_type": "execute_result"
    }
   ],
   "source": [
    "users.head(10)"
   ]
  },
  {
   "cell_type": "markdown",
   "metadata": {},
   "source": [
    "## Анализ данных"
   ]
  },
  {
   "cell_type": "markdown",
   "metadata": {},
   "source": [
    "### Тариф smart"
   ]
  },
  {
   "cell_type": "code",
   "execution_count": 207,
   "metadata": {
    "collapsed": true
   },
   "outputs": [],
   "source": [
    "smart_calls = users.query(\"tariff == 'smart'\").iloc[:,20:32]\n",
    "ultra_calls = users.query(\"tariff == 'ultra'\").iloc[:,20:32]\n",
    "smart_gb = users.query(\"tariff == 'smart'\").iloc[:,32:44]\n",
    "ultra_gb = users.query(\"tariff == 'ultra'\").iloc[:,32:44]\n",
    "smart_mess = users.query(\"tariff == 'smart'\").iloc[:,44:56]\n",
    "ultra_mess = users.query(\"tariff == 'ultra'\").iloc[:,44:56]"
   ]
  },
  {
   "cell_type": "code",
   "execution_count": 208,
   "metadata": {},
   "outputs": [
    {
     "data": {
      "text/plain": [
       "(351, 149)"
      ]
     },
     "execution_count": 208,
     "metadata": {},
     "output_type": "execute_result"
    }
   ],
   "source": [
    "len(smart_gb), len(ultra_calls)"
   ]
  },
  {
   "cell_type": "code",
   "execution_count": 209,
   "metadata": {
    "scrolled": true
   },
   "outputs": [
    {
     "name": "stdout",
     "output_type": "stream",
     "text": [
      "Среднее: sum_calls_month_1     203.852941\n",
      "sum_calls_month_2     298.689655\n",
      "sum_calls_month_3     390.051948\n",
      "sum_calls_month_4     367.133929\n",
      "sum_calls_month_5     387.361702\n",
      "sum_calls_month_6     398.067485\n",
      "sum_calls_month_7     408.353234\n",
      "sum_calls_month_8     423.269231\n",
      "sum_calls_month_9     430.266409\n",
      "sum_calls_month_10    427.590444\n",
      "sum_calls_month_11    436.647619\n",
      "sum_calls_month_12    479.985119\n",
      "dtype: float64\n",
      "Дисперсия: sum_calls_month_1     23787.341355\n",
      "sum_calls_month_2     36412.287961\n",
      "sum_calls_month_3     36823.155161\n",
      "sum_calls_month_4     34778.207127\n",
      "sum_calls_month_5     34820.061094\n",
      "sum_calls_month_6     29960.520109\n",
      "sum_calls_month_7     32250.269602\n",
      "sum_calls_month_8     34177.270551\n",
      "sum_calls_month_9     32950.529526\n",
      "sum_calls_month_10    34889.530319\n",
      "sum_calls_month_11    31100.611101\n",
      "sum_calls_month_12    39131.447539\n",
      "dtype: float64\n",
      "Стандартное отклонение: sum_calls_month_1     154.231454\n",
      "sum_calls_month_2     190.820041\n",
      "sum_calls_month_3     191.893604\n",
      "sum_calls_month_4     186.489161\n",
      "sum_calls_month_5     186.601343\n",
      "sum_calls_month_6     173.091075\n",
      "sum_calls_month_7     179.583601\n",
      "sum_calls_month_8     184.870956\n",
      "sum_calls_month_9     181.522807\n",
      "sum_calls_month_10    186.787393\n",
      "sum_calls_month_11    176.353653\n",
      "sum_calls_month_12    197.816702\n",
      "dtype: float64\n"
     ]
    }
   ],
   "source": [
    "print('Среднее:', smart_calls.mean())\n",
    "print('Дисперсия:', smart_calls.var(ddof=1))\n",
    "print('Стандартное отклонение:', smart_calls.std(ddof=1))"
   ]
  },
  {
   "cell_type": "code",
   "execution_count": 210,
   "metadata": {},
   "outputs": [
    {
     "data": {
      "image/png": "[encoded data removed]",
      "text/plain": [
       "<Figure size 1080x1080 with 12 Axes>"
      ]
     },
     "metadata": {
      "needs_background": "light"
     },
     "output_type": "display_data"
    }
   ],
   "source": [
    "smart_calls.hist(bins=15, figsize=(15,15));"
   ]
  },
  {
   "cell_type": "markdown",
   "metadata": {},
   "source": [
    "Количество минут разговора в первом месяце близко к распределению Пуассона. В остальные месяцы распределение близко к нормальному."
   ]
  },
  {
   "cell_type": "code",
   "execution_count": 211,
   "metadata": {},
   "outputs": [
    {
     "name": "stdout",
     "output_type": "stream",
     "text": [
      "Среднее: gb_used_month_1      0.846154\n",
      "gb_used_month_2      1.957265\n",
      "gb_used_month_3      3.341880\n",
      "gb_used_month_4      4.347578\n",
      "gb_used_month_5      6.390313\n",
      "gb_used_month_6      7.452991\n",
      "gb_used_month_7      9.091168\n",
      "gb_used_month_8     11.205128\n",
      "gb_used_month_9     12.142450\n",
      "gb_used_month_10    14.139601\n",
      "gb_used_month_11    15.304843\n",
      "gb_used_month_12    17.475783\n",
      "dtype: float64\n",
      "Дисперсия: gb_used_month_1     10.410549\n",
      "gb_used_month_2     25.458168\n",
      "gb_used_month_3     46.922784\n",
      "gb_used_month_4     50.375987\n",
      "gb_used_month_5     74.741506\n",
      "gb_used_month_6     78.379927\n",
      "gb_used_month_7     80.951665\n",
      "gb_used_month_8     82.237802\n",
      "gb_used_month_9     70.905364\n",
      "gb_used_month_10    66.411884\n",
      "gb_used_month_11    50.481091\n",
      "gb_used_month_12    41.318698\n",
      "dtype: float64\n",
      "Стандартное отклонение: gb_used_month_1     3.226538\n",
      "gb_used_month_2     5.045609\n",
      "gb_used_month_3     6.850021\n",
      "gb_used_month_4     7.097604\n",
      "gb_used_month_5     8.645317\n",
      "gb_used_month_6     8.853244\n",
      "gb_used_month_7     8.997314\n",
      "gb_used_month_8     9.068506\n",
      "gb_used_month_9     8.420532\n",
      "gb_used_month_10    8.149349\n",
      "gb_used_month_11    7.105005\n",
      "gb_used_month_12    6.427962\n",
      "dtype: float64\n"
     ]
    }
   ],
   "source": [
    "print('Среднее:', smart_gb.mean())\n",
    "print('Дисперсия:', smart_gb.var(ddof=1))\n",
    "print('Стандартное отклонение:', smart_gb.std(ddof=1))"
   ]
  },
  {
   "cell_type": "code",
   "execution_count": 212,
   "metadata": {},
   "outputs": [
    {
     "data": {
      "image/png": "[encoded data removed]",
      "text/plain": [
       "<Figure size 1080x1080 with 12 Axes>"
      ]
     },
     "metadata": {
      "needs_background": "light"
     },
     "output_type": "display_data"
    }
   ],
   "source": [
    "smart_gb.hist(bins=15, figsize=(15,15));"
   ]
  },
  {
   "cell_type": "markdown",
   "metadata": {},
   "source": [
    "Распределение количества минут в первых трех месяцах сильно отличается от нормального. В остальных близко к нормальному распределению."
   ]
  },
  {
   "cell_type": "code",
   "execution_count": 213,
   "metadata": {},
   "outputs": [
    {
     "name": "stdout",
     "output_type": "stream",
     "text": [
      "Среднее: count_messages_month_1     20.000000\n",
      "count_messages_month_2     27.940000\n",
      "count_messages_month_3     35.550725\n",
      "count_messages_month_4     35.864583\n",
      "count_messages_month_5     39.032787\n",
      "count_messages_month_6     38.577465\n",
      "count_messages_month_7     38.988506\n",
      "count_messages_month_8     38.750000\n",
      "count_messages_month_9     39.219731\n",
      "count_messages_month_10    39.082677\n",
      "count_messages_month_11    39.881481\n",
      "count_messages_month_12    42.264808\n",
      "dtype: float64\n",
      "Дисперсия: count_messages_month_1     252.133333\n",
      "count_messages_month_2     440.465714\n",
      "count_messages_month_3     669.780477\n",
      "count_messages_month_4     517.865680\n",
      "count_messages_month_5     638.775776\n",
      "count_messages_month_6     731.635801\n",
      "count_messages_month_7     719.352468\n",
      "count_messages_month_8     767.213054\n",
      "count_messages_month_9     702.505555\n",
      "count_messages_month_10    736.503019\n",
      "count_messages_month_11    711.361366\n",
      "count_messages_month_12    832.447114\n",
      "dtype: float64\n",
      "Стандартное отклонение: count_messages_month_1     15.878707\n",
      "count_messages_month_2     20.987275\n",
      "count_messages_month_3     25.880117\n",
      "count_messages_month_4     22.756662\n",
      "count_messages_month_5     25.274014\n",
      "count_messages_month_6     27.048767\n",
      "count_messages_month_7     26.820747\n",
      "count_messages_month_8     27.698611\n",
      "count_messages_month_9     26.504821\n",
      "count_messages_month_10    27.138589\n",
      "count_messages_month_11    26.671359\n",
      "count_messages_month_12    28.852160\n",
      "dtype: float64\n"
     ]
    }
   ],
   "source": [
    "print('Среднее:', smart_mess.mean())\n",
    "print('Дисперсия:', smart_mess.var(ddof=1))\n",
    "print('Стандартное отклонение:', smart_mess.std(ddof=1))"
   ]
  },
  {
   "cell_type": "code",
   "execution_count": 214,
   "metadata": {},
   "outputs": [
    {
     "data": {
      "image/png": "[encoded data removed]",
      "text/plain": [
       "<Figure size 1080x1080 with 12 Axes>"
      ]
     },
     "metadata": {
      "needs_background": "light"
     },
     "output_type": "display_data"
    }
   ],
   "source": [
    "smart_mess.hist(bins=15, figsize=(15,15));"
   ]
  },
  {
   "cell_type": "markdown",
   "metadata": {},
   "source": [
    "В каждом месяце распределение количества сообщений близко к распределению Пуассона."
   ]
  },
  {
   "cell_type": "markdown",
   "metadata": {},
   "source": [
    "Среднее количество минут разговора, объем трафика и количество сообщений от начала 2018 года до его конца увеличивается. Минимальное количество минут, трафика и сообщений было в первых двух месяцах."
   ]
  },
  {
   "cell_type": "markdown",
   "metadata": {},
   "source": [
    "### Тариф ultra"
   ]
  },
  {
   "cell_type": "code",
   "execution_count": 215,
   "metadata": {},
   "outputs": [
    {
     "name": "stdout",
     "output_type": "stream",
     "text": [
      "Среднее: sum_calls_month_1     428.111111\n",
      "sum_calls_month_2     297.125000\n",
      "sum_calls_month_3     489.648649\n",
      "sum_calls_month_4     475.301887\n",
      "sum_calls_month_5     534.250000\n",
      "sum_calls_month_6     497.469136\n",
      "sum_calls_month_7     564.397727\n",
      "sum_calls_month_8     530.611650\n",
      "sum_calls_month_9     558.882883\n",
      "sum_calls_month_10    581.728814\n",
      "sum_calls_month_11    562.364341\n",
      "sum_calls_month_12    614.925373\n",
      "dtype: float64\n",
      "Дисперсия: sum_calls_month_1      72769.361111\n",
      "sum_calls_month_2      87919.679348\n",
      "sum_calls_month_3     111384.900901\n",
      "sum_calls_month_4      66036.830189\n",
      "sum_calls_month_5      74881.015873\n",
      "sum_calls_month_6      86019.652160\n",
      "sum_calls_month_7      86952.587121\n",
      "sum_calls_month_8      91169.553588\n",
      "sum_calls_month_9      98597.904341\n",
      "sum_calls_month_10     97140.336086\n",
      "sum_calls_month_11     88449.624031\n",
      "sum_calls_month_12    107981.031983\n",
      "dtype: float64\n",
      "Стандартное отклонение: sum_calls_month_1     269.757968\n",
      "sum_calls_month_2     296.512528\n",
      "sum_calls_month_3     333.743765\n",
      "sum_calls_month_4     256.976322\n",
      "sum_calls_month_5     273.643958\n",
      "sum_calls_month_6     293.291071\n",
      "sum_calls_month_7     294.877241\n",
      "sum_calls_month_8     301.942964\n",
      "sum_calls_month_9     314.003032\n",
      "sum_calls_month_10    311.673445\n",
      "sum_calls_month_11    297.404815\n",
      "sum_calls_month_12    328.604674\n",
      "dtype: float64\n"
     ]
    }
   ],
   "source": [
    "print('Среднее:', ultra_calls.mean())\n",
    "print('Дисперсия:', ultra_calls.var(ddof=1))\n",
    "print('Стандартное отклонение:', ultra_calls.std(ddof=1))"
   ]
  },
  {
   "cell_type": "code",
   "execution_count": 216,
   "metadata": {},
   "outputs": [
    {
     "data": {
      "image/png": "[encoded data removed]",
      "text/plain": [
       "<Figure size 1080x1080 with 12 Axes>"
      ]
     },
     "metadata": {
      "needs_background": "light"
     },
     "output_type": "display_data"
    }
   ],
   "source": [
    "ultra_calls.hist(bins=8, figsize=(15,15));"
   ]
  },
  {
   "cell_type": "markdown",
   "metadata": {},
   "source": [
    "В первые три месяца распределение количества минут близко к распределению Пуассона. В остальных случаях близко к нормальному."
   ]
  },
  {
   "cell_type": "code",
   "execution_count": 217,
   "metadata": {},
   "outputs": [
    {
     "name": "stdout",
     "output_type": "stream",
     "text": [
      "Среднее: gb_used_month_1      0.798658\n",
      "gb_used_month_2      1.932886\n",
      "gb_used_month_3      4.382550\n",
      "gb_used_month_4      6.261745\n",
      "gb_used_month_5      8.711409\n",
      "gb_used_month_6     10.677852\n",
      "gb_used_month_7     12.523490\n",
      "gb_used_month_8     14.073826\n",
      "gb_used_month_9     14.852349\n",
      "gb_used_month_10    16.563758\n",
      "gb_used_month_11    17.812081\n",
      "gb_used_month_12    20.281879\n",
      "dtype: float64\n",
      "Дисперсия: gb_used_month_1      12.391620\n",
      "gb_used_month_2      36.549519\n",
      "gb_used_month_3      86.345910\n",
      "gb_used_month_4     100.099946\n",
      "gb_used_month_5     136.152639\n",
      "gb_used_month_6     135.030655\n",
      "gb_used_month_7     159.278161\n",
      "gb_used_month_8     153.582351\n",
      "gb_used_month_9     132.099673\n",
      "gb_used_month_10    133.612461\n",
      "gb_used_month_11    120.045529\n",
      "gb_used_month_12    126.055142\n",
      "dtype: float64\n",
      "Стандартное отклонение: gb_used_month_1      3.520173\n",
      "gb_used_month_2      6.045620\n",
      "gb_used_month_3      9.292250\n",
      "gb_used_month_4     10.004996\n",
      "gb_used_month_5     11.668446\n",
      "gb_used_month_6     11.620269\n",
      "gb_used_month_7     12.620545\n",
      "gb_used_month_8     12.392835\n",
      "gb_used_month_9     11.493462\n",
      "gb_used_month_10    11.559086\n",
      "gb_used_month_11    10.956529\n",
      "gb_used_month_12    11.227428\n",
      "dtype: float64\n"
     ]
    }
   ],
   "source": [
    "print('Среднее:', ultra_gb.mean())\n",
    "print('Дисперсия:', ultra_gb.var(ddof=1))\n",
    "print('Стандартное отклонение:', ultra_gb.std(ddof=1))"
   ]
  },
  {
   "cell_type": "code",
   "execution_count": 218,
   "metadata": {},
   "outputs": [
    {
     "data": {
      "image/png": "[encoded data removed]",
      "text/plain": [
       "<Figure size 1080x1080 with 12 Axes>"
      ]
     },
     "metadata": {
      "needs_background": "light"
     },
     "output_type": "display_data"
    }
   ],
   "source": [
    "ultra_gb.hist(bins=10, figsize=(15,15));"
   ]
  },
  {
   "cell_type": "markdown",
   "metadata": {},
   "source": [
    "В первые три месяца распределение количества GB близко к распределению Пуассона. В остальных случаях близко к нормальному."
   ]
  },
  {
   "cell_type": "code",
   "execution_count": 219,
   "metadata": {
    "scrolled": false
   },
   "outputs": [
    {
     "name": "stdout",
     "output_type": "stream",
     "text": [
      "Среднее: count_messages_month_1     43.428571\n",
      "count_messages_month_2     32.937500\n",
      "count_messages_month_3     47.800000\n",
      "count_messages_month_4     44.512821\n",
      "count_messages_month_5     48.769231\n",
      "count_messages_month_6     52.313433\n",
      "count_messages_month_7     62.136986\n",
      "count_messages_month_8     58.897727\n",
      "count_messages_month_9     63.294737\n",
      "count_messages_month_10    69.776699\n",
      "count_messages_month_11    66.159292\n",
      "count_messages_month_12    72.008547\n",
      "dtype: float64\n",
      "Дисперсия: count_messages_month_1      765.285714\n",
      "count_messages_month_2      713.395833\n",
      "count_messages_month_3     1826.666667\n",
      "count_messages_month_4     1408.256410\n",
      "count_messages_month_5     1559.553544\n",
      "count_messages_month_6     1935.672999\n",
      "count_messages_month_7     2190.730974\n",
      "count_messages_month_8     2022.966432\n",
      "count_messages_month_9     1906.763270\n",
      "count_messages_month_10    2426.606511\n",
      "count_messages_month_11    2249.295828\n",
      "count_messages_month_12    2362.870616\n",
      "dtype: float64\n",
      "Стандартное отклонение: count_messages_month_1     27.663798\n",
      "count_messages_month_2     26.709471\n",
      "count_messages_month_3     42.739521\n",
      "count_messages_month_4     37.526743\n",
      "count_messages_month_5     39.491183\n",
      "count_messages_month_6     43.996284\n",
      "count_messages_month_7     46.805245\n",
      "count_messages_month_8     44.977399\n",
      "count_messages_month_9     43.666501\n",
      "count_messages_month_10    49.260598\n",
      "count_messages_month_11    47.426742\n",
      "count_messages_month_12    48.609368\n",
      "dtype: float64\n"
     ]
    }
   ],
   "source": [
    "print('Среднее:', ultra_mess.mean())\n",
    "print('Дисперсия:', ultra_mess.var(ddof=1))\n",
    "print('Стандартное отклонение:', ultra_mess.std(ddof=1))"
   ]
  },
  {
   "cell_type": "code",
   "execution_count": 220,
   "metadata": {},
   "outputs": [
    {
     "data": {
      "image/png": "[encoded data removed]",
      "text/plain": [
       "<Figure size 1080x1080 with 12 Axes>"
      ]
     },
     "metadata": {
      "needs_background": "light"
     },
     "output_type": "display_data"
    }
   ],
   "source": [
    "ultra_mess.hist(bins=10, figsize=(15,15));"
   ]
  },
  {
   "cell_type": "markdown",
   "metadata": {},
   "source": [
    "В каждом месяце распределение количества сообщений близко к распределению Пуассона."
   ]
  },
  {
   "cell_type": "markdown",
   "metadata": {},
   "source": [
    "Среднее количество минут разговора, объем трафика и количество сообщений от начала 2018 года до его конца увеличивается. Минимальное количество минут, трафика и сообщений было в первых двух месяцах."
   ]
  },
  {
   "cell_type": "markdown",
   "metadata": {},
   "source": [
    "## Проверка гипотез"
   ]
  },
  {
   "cell_type": "markdown",
   "metadata": {},
   "source": [
    "### Гипотеза: средняя выручка пользователей тарифов «Ультра» и «Смарт» различаются"
   ]
  },
  {
   "cell_type": "code",
   "execution_count": 221,
   "metadata": {
    "collapsed": true
   },
   "outputs": [],
   "source": [
    "smart_revenue = users.query(\"tariff == 'smart'\").iloc[:,58:].values\n",
    "ultra_revenue = users.query(\"tariff == 'ultra'\").iloc[:,58:].values"
   ]
  },
  {
   "cell_type": "code",
   "execution_count": 222,
   "metadata": {
    "collapsed": true
   },
   "outputs": [],
   "source": [
    "res_smart = smart_revenue.flatten()\n",
    "res_ultra = ultra_revenue.flatten()"
   ]
  },
  {
   "cell_type": "code",
   "execution_count": 223,
   "metadata": {},
   "outputs": [
    {
     "data": {
      "text/plain": [
       "(682.7875118708452, 1141.5268456375838)"
      ]
     },
     "execution_count": 223,
     "metadata": {},
     "output_type": "execute_result"
    }
   ],
   "source": [
    "res_smart.mean(), res_ultra.mean()"
   ]
  },
  {
   "cell_type": "markdown",
   "metadata": {},
   "source": [
    "H0: средняя выручка пользователей тарифов \"Ультра\" и \"Смарт\" не различаются. <br>\n",
    "H1: средняя выручка пользователей тарифов «Ультра» и «Смарт» различаются"
   ]
  },
  {
   "cell_type": "code",
   "execution_count": 224,
   "metadata": {},
   "outputs": [
    {
     "name": "stdout",
     "output_type": "stream",
     "text": [
      "p-значение: 2.003739070365922e-55\n",
      "Отвергаем нулевую гипотезу\n"
     ]
    }
   ],
   "source": [
    "alpha = 0.05\n",
    "\n",
    "results = st.ttest_ind(\n",
    "    res_smart, \n",
    "    res_ultra, equal_var = False)\n",
    "\n",
    "print('p-значение:', results.pvalue)\n",
    "\n",
    "if results.pvalue < alpha:\n",
    "    print(\"Отвергаем нулевую гипотезу\")\n",
    "else:\n",
    "    print(\"Не получилось отвергнуть нулевую гипотезу\") "
   ]
  },
  {
   "cell_type": "markdown",
   "metadata": {},
   "source": [
    "Так как значение p намного меньше 0.05, следовательно, мы отвергаем нулевую гипотезу, что средняя выручка пользователей тарифов \"Смарт\" и \"Ультра\" отличаются."
   ]
  },
  {
   "cell_type": "markdown",
   "metadata": {},
   "source": [
    "Я проверял гипотезу о равенстве средних в двух выборках. Использовал t-тест. Так как размеры выборок сильно отличаются, то я использовал параметр equal_var = False"
   ]
  },
  {
   "cell_type": "markdown",
   "metadata": {},
   "source": [
    "### Гипотеза: средняя выручка пользователей из Москвы отличается от выручки пользователей из других регионов"
   ]
  },
  {
   "cell_type": "code",
   "execution_count": 225,
   "metadata": {
    "collapsed": true
   },
   "outputs": [],
   "source": [
    "moscow_revenue = users.query(\"city == 'Москва'\").iloc[:,58:].values\n",
    "other_revenue = users.query(\"city != 'Москва'\").iloc[:,58:].values"
   ]
  },
  {
   "cell_type": "code",
   "execution_count": 226,
   "metadata": {
    "collapsed": true
   },
   "outputs": [],
   "source": [
    "res_moscow = moscow_revenue.flatten()\n",
    "res_other = other_revenue.flatten()"
   ]
  },
  {
   "cell_type": "code",
   "execution_count": 227,
   "metadata": {},
   "outputs": [
    {
     "name": "stdout",
     "output_type": "stream",
     "text": [
      "795.489898989899 825.417497921862\n"
     ]
    }
   ],
   "source": [
    "print(res_moscow.mean(), res_other.mean())"
   ]
  },
  {
   "cell_type": "markdown",
   "metadata": {},
   "source": [
    "H0: средняя выручка пользователей из Москвы и других городов не различаются. <br>\n",
    "H1: средняя выручка пользователей из Москвы и других городов других городов различаются."
   ]
  },
  {
   "cell_type": "code",
   "execution_count": 228,
   "metadata": {},
   "outputs": [
    {
     "name": "stdout",
     "output_type": "stream",
     "text": [
      "p-значение: 0.3363033067088109\n",
      "Не получилось отвергнуть нулевую гипотезу\n"
     ]
    }
   ],
   "source": [
    "alpha = 0.05\n",
    "\n",
    "results = st.ttest_ind(\n",
    "    res_moscow, \n",
    "    res_other)\n",
    "\n",
    "print('p-значение:', results.pvalue)\n",
    "\n",
    "if results.pvalue < alpha:\n",
    "    print(\"Отвергаем нулевую гипотезу\")\n",
    "else:\n",
    "    print(\"Не получилось отвергнуть нулевую гипотезу\") "
   ]
  },
  {
   "cell_type": "markdown",
   "metadata": {},
   "source": [
    "Так как значение p больше 0.05, то не получилось отвергнуть нулевую гипотезу, что нет различий между средней выручкой среди пользователей из Москвы и других городов. Но если мы пример alpha 0.01, то все равно не получилось отвергнуть нулевую гипотезу."
   ]
  },
  {
   "cell_type": "markdown",
   "metadata": {},
   "source": [
    "## Общий вывод:"
   ]
  },
  {
   "cell_type": "markdown",
   "metadata": {},
   "source": [
    "Таким образом, был проведен статистический анализ данных по использованию двух тарифов компании \"Мегалайн\": ультра и смарт. \n",
    "1. Среднее значение выручки пользователей по тарифам \"Ультра\" и \"Смарт\" отличаются. Среднее значение выручки в месяц с пользователя по тарифу \"Ультра\" составило 1142 рубля, а по тарифу \"Смарт\" 682 рублей.\n",
    "2. Среднее значение выручки пользователей в Москве и других городах не различаются.\n",
    "3. В течение 2018 года в обоих тарифах наблюдался рост числа минут разговора, количества сообщений и интернет-трафика.\n",
    "4. За 2018 год 38 человек отказались от своего тарифа.\n",
    "5. Число пользователей, которые используют тариф \"Смарт\" составило 351 человек, а \"Ультра\" 149 человек.\n",
    "6. Наибольшую прибыль приносит тариф \"Ультра\" 1142 рубля в месяц с пользователя."
   ]
  }
 ],
 "metadata": {
  "ExecuteTimeLog": [
   {
    "duration": 75,
    "start_time": "2022-05-01T19:05:52.867Z"
   },
   {
    "duration": 1135,
    "start_time": "2022-05-01T19:06:14.705Z"
   },
   {
    "duration": 468,
    "start_time": "2022-05-01T19:06:16.769Z"
   },
   {
    "duration": 39,
    "start_time": "2022-05-01T19:08:50.742Z"
   },
   {
    "duration": 43,
    "start_time": "2022-05-01T19:09:06.911Z"
   },
   {
    "duration": 38,
    "start_time": "2022-05-01T19:09:18.165Z"
   },
   {
    "duration": 18,
    "start_time": "2022-05-01T19:09:39.889Z"
   },
   {
    "duration": 15,
    "start_time": "2022-05-01T19:09:57.830Z"
   },
   {
    "duration": 80,
    "start_time": "2022-05-01T19:10:20.801Z"
   },
   {
    "duration": 13,
    "start_time": "2022-05-01T19:10:25.976Z"
   },
   {
    "duration": 5,
    "start_time": "2022-05-01T19:10:37.134Z"
   },
   {
    "duration": 5,
    "start_time": "2022-05-01T19:10:51.902Z"
   },
   {
    "duration": 5,
    "start_time": "2022-05-01T19:11:04.737Z"
   },
   {
    "duration": 5,
    "start_time": "2022-05-01T19:11:18.319Z"
   },
   {
    "duration": 14,
    "start_time": "2022-05-01T19:11:32.017Z"
   },
   {
    "duration": 13,
    "start_time": "2022-05-01T19:11:53.594Z"
   },
   {
    "duration": 10,
    "start_time": "2022-05-01T19:12:12.333Z"
   },
   {
    "duration": 11,
    "start_time": "2022-05-01T19:12:28.825Z"
   },
   {
    "duration": 18,
    "start_time": "2022-05-01T19:12:46.045Z"
   },
   {
    "duration": 13,
    "start_time": "2022-05-01T19:16:43.220Z"
   },
   {
    "duration": 18,
    "start_time": "2022-05-01T19:18:37.047Z"
   },
   {
    "duration": 54,
    "start_time": "2022-05-01T19:21:35.355Z"
   },
   {
    "duration": 25,
    "start_time": "2022-05-01T19:21:47.848Z"
   },
   {
    "duration": 993,
    "start_time": "2022-05-01T19:22:50.967Z"
   },
   {
    "duration": 27,
    "start_time": "2022-05-01T19:23:41.654Z"
   },
   {
    "duration": 11,
    "start_time": "2022-05-01T19:23:51.534Z"
   },
   {
    "duration": 22,
    "start_time": "2022-05-01T19:24:18.030Z"
   },
   {
    "duration": 153,
    "start_time": "2022-05-01T19:25:26.932Z"
   },
   {
    "duration": 12,
    "start_time": "2022-05-01T19:26:56.842Z"
   },
   {
    "duration": 40,
    "start_time": "2022-05-01T19:27:31.057Z"
   },
   {
    "duration": 23,
    "start_time": "2022-05-01T19:27:45.185Z"
   },
   {
    "duration": 10,
    "start_time": "2022-05-01T19:29:10.715Z"
   },
   {
    "duration": 11,
    "start_time": "2022-05-01T19:29:20.441Z"
   },
   {
    "duration": 11,
    "start_time": "2022-05-01T19:29:24.144Z"
   },
   {
    "duration": 12,
    "start_time": "2022-05-01T19:29:38.891Z"
   },
   {
    "duration": 15,
    "start_time": "2022-05-01T19:29:46.453Z"
   },
   {
    "duration": 32,
    "start_time": "2022-05-01T19:30:27.821Z"
   },
   {
    "duration": 21,
    "start_time": "2022-05-01T19:30:34.558Z"
   },
   {
    "duration": 15,
    "start_time": "2022-05-01T19:30:48.337Z"
   },
   {
    "duration": 6,
    "start_time": "2022-05-01T19:31:25.691Z"
   },
   {
    "duration": 16,
    "start_time": "2022-05-01T19:31:32.933Z"
   },
   {
    "duration": 10,
    "start_time": "2022-05-01T19:32:39.455Z"
   },
   {
    "duration": 18,
    "start_time": "2022-05-01T19:33:12.227Z"
   },
   {
    "duration": 6,
    "start_time": "2022-05-01T19:41:52.020Z"
   },
   {
    "duration": 8,
    "start_time": "2022-05-01T19:42:03.646Z"
   },
   {
    "duration": 8,
    "start_time": "2022-05-01T19:42:11.851Z"
   },
   {
    "duration": 9,
    "start_time": "2022-05-01T19:42:25.603Z"
   },
   {
    "duration": 7,
    "start_time": "2022-05-01T19:43:01.646Z"
   },
   {
    "duration": 7,
    "start_time": "2022-05-01T19:43:24.944Z"
   },
   {
    "duration": 7,
    "start_time": "2022-05-01T19:44:35.507Z"
   },
   {
    "duration": 9,
    "start_time": "2022-05-01T19:46:34.965Z"
   },
   {
    "duration": 5,
    "start_time": "2022-05-01T19:48:02.168Z"
   },
   {
    "duration": 11,
    "start_time": "2022-05-01T19:48:06.530Z"
   },
   {
    "duration": 4,
    "start_time": "2022-05-01T19:48:15.029Z"
   },
   {
    "duration": 10,
    "start_time": "2022-05-01T19:48:16.071Z"
   },
   {
    "duration": 1302,
    "start_time": "2022-05-01T19:48:26.958Z"
   },
   {
    "duration": 50,
    "start_time": "2022-05-01T19:49:03.728Z"
   },
   {
    "duration": 29,
    "start_time": "2022-05-01T19:49:05.831Z"
   },
   {
    "duration": 6,
    "start_time": "2022-05-01T19:49:44.522Z"
   },
   {
    "duration": 10,
    "start_time": "2022-05-01T19:49:45.594Z"
   },
   {
    "duration": 48,
    "start_time": "2022-05-01T19:49:51.987Z"
   },
   {
    "duration": 29,
    "start_time": "2022-05-01T19:49:53.416Z"
   },
   {
    "duration": 157,
    "start_time": "2022-05-01T19:51:25.510Z"
   },
   {
    "duration": 6,
    "start_time": "2022-05-01T19:51:29.603Z"
   },
   {
    "duration": 14,
    "start_time": "2022-05-01T19:51:30.495Z"
   },
   {
    "duration": 7,
    "start_time": "2022-05-01T19:51:57.521Z"
   },
   {
    "duration": 15,
    "start_time": "2022-05-01T19:51:58.316Z"
   },
   {
    "duration": 15,
    "start_time": "2022-05-01T19:52:14.832Z"
   },
   {
    "duration": 6,
    "start_time": "2022-05-01T19:52:39.516Z"
   },
   {
    "duration": 15,
    "start_time": "2022-05-01T19:52:42.948Z"
   },
   {
    "duration": 7,
    "start_time": "2022-05-01T19:53:51.380Z"
   },
   {
    "duration": 18,
    "start_time": "2022-05-01T19:53:55.668Z"
   },
   {
    "duration": 800,
    "start_time": "2022-05-02T17:14:16.922Z"
   },
   {
    "duration": 2157,
    "start_time": "2022-05-02T17:14:17.724Z"
   },
   {
    "duration": 32,
    "start_time": "2022-05-02T17:14:19.883Z"
   },
   {
    "duration": 24,
    "start_time": "2022-05-02T17:14:21.482Z"
   },
   {
    "duration": 22,
    "start_time": "2022-05-02T17:14:22.521Z"
   },
   {
    "duration": 13,
    "start_time": "2022-05-02T17:14:23.003Z"
   },
   {
    "duration": 11,
    "start_time": "2022-05-02T17:14:23.748Z"
   },
   {
    "duration": 15,
    "start_time": "2022-05-02T17:14:27.567Z"
   },
   {
    "duration": 36,
    "start_time": "2022-05-02T17:14:28.546Z"
   },
   {
    "duration": 21,
    "start_time": "2022-05-02T17:14:28.849Z"
   },
   {
    "duration": 695,
    "start_time": "2022-05-02T17:14:29.194Z"
   },
   {
    "duration": 19,
    "start_time": "2022-05-02T17:14:29.892Z"
   },
   {
    "duration": 23,
    "start_time": "2022-05-02T17:14:29.920Z"
   },
   {
    "duration": 16,
    "start_time": "2022-05-02T17:14:30.622Z"
   },
   {
    "duration": 6,
    "start_time": "2022-05-02T17:14:34.707Z"
   },
   {
    "duration": 66,
    "start_time": "2022-05-02T17:14:36.722Z"
   },
   {
    "duration": 40,
    "start_time": "2022-05-02T17:14:37.170Z"
   },
   {
    "duration": 36,
    "start_time": "2022-05-02T17:14:38.099Z"
   },
   {
    "duration": 13,
    "start_time": "2022-05-02T17:14:38.910Z"
   },
   {
    "duration": 10,
    "start_time": "2022-05-02T17:14:42.249Z"
   },
   {
    "duration": 42,
    "start_time": "2022-05-02T17:14:44.457Z"
   },
   {
    "duration": 18,
    "start_time": "2022-05-02T17:14:44.739Z"
   },
   {
    "duration": 232,
    "start_time": "2022-05-02T17:14:45.337Z"
   },
   {
    "duration": 20,
    "start_time": "2022-05-02T17:14:48.690Z"
   },
   {
    "duration": 19,
    "start_time": "2022-05-02T17:17:31.777Z"
   },
   {
    "duration": 10,
    "start_time": "2022-05-02T17:17:40.410Z"
   },
   {
    "duration": 849,
    "start_time": "2022-05-03T11:16:53.795Z"
   },
   {
    "duration": 420,
    "start_time": "2022-05-03T11:16:54.646Z"
   },
   {
    "duration": 27,
    "start_time": "2022-05-03T11:16:55.067Z"
   },
   {
    "duration": 23,
    "start_time": "2022-05-03T11:16:55.883Z"
   },
   {
    "duration": 30,
    "start_time": "2022-05-03T11:16:56.698Z"
   },
   {
    "duration": 14,
    "start_time": "2022-05-03T11:16:57.425Z"
   },
   {
    "duration": 10,
    "start_time": "2022-05-03T11:16:58.186Z"
   },
   {
    "duration": 16,
    "start_time": "2022-05-03T11:17:00.853Z"
   },
   {
    "duration": 56,
    "start_time": "2022-05-03T11:17:01.795Z"
   },
   {
    "duration": 31,
    "start_time": "2022-05-03T11:17:02.266Z"
   },
   {
    "duration": 1120,
    "start_time": "2022-05-03T11:17:03.084Z"
   },
   {
    "duration": 22,
    "start_time": "2022-05-03T11:17:04.206Z"
   },
   {
    "duration": 25,
    "start_time": "2022-05-03T11:17:04.553Z"
   },
   {
    "duration": 15,
    "start_time": "2022-05-03T11:17:05.769Z"
   },
   {
    "duration": 5,
    "start_time": "2022-05-03T11:17:06.345Z"
   },
   {
    "duration": 64,
    "start_time": "2022-05-03T11:17:28.202Z"
   },
   {
    "duration": 48,
    "start_time": "2022-05-03T11:17:28.987Z"
   },
   {
    "duration": 45,
    "start_time": "2022-05-03T11:17:31.995Z"
   },
   {
    "duration": 56,
    "start_time": "2022-05-03T11:18:03.140Z"
   },
   {
    "duration": 29,
    "start_time": "2022-05-03T11:18:07.239Z"
   },
   {
    "duration": 20,
    "start_time": "2022-05-03T11:18:16.767Z"
   },
   {
    "duration": 3,
    "start_time": "2022-05-03T11:19:08.523Z"
   },
   {
    "duration": 9,
    "start_time": "2022-05-03T11:19:27.164Z"
   },
   {
    "duration": 29,
    "start_time": "2022-05-03T11:19:29.647Z"
   },
   {
    "duration": 9,
    "start_time": "2022-05-03T11:19:56.642Z"
   },
   {
    "duration": 31,
    "start_time": "2022-05-03T11:19:57.160Z"
   },
   {
    "duration": 18,
    "start_time": "2022-05-03T11:19:57.809Z"
   },
   {
    "duration": 212,
    "start_time": "2022-05-03T11:20:00.274Z"
   },
   {
    "duration": 13,
    "start_time": "2022-05-03T11:20:01.361Z"
   },
   {
    "duration": 18,
    "start_time": "2022-05-03T11:20:02.929Z"
   },
   {
    "duration": 9,
    "start_time": "2022-05-03T11:20:03.474Z"
   },
   {
    "duration": 103,
    "start_time": "2022-05-03T11:20:05.563Z"
   },
   {
    "duration": 27,
    "start_time": "2022-05-03T11:20:15.188Z"
   },
   {
    "duration": 29,
    "start_time": "2022-05-03T11:20:22.723Z"
   },
   {
    "duration": 4,
    "start_time": "2022-05-03T11:21:10.161Z"
   },
   {
    "duration": 8,
    "start_time": "2022-05-03T11:21:32.136Z"
   },
   {
    "duration": 40,
    "start_time": "2022-05-03T11:21:38.368Z"
   },
   {
    "duration": 8,
    "start_time": "2022-05-03T11:22:12.135Z"
   },
   {
    "duration": 24,
    "start_time": "2022-05-03T11:22:12.960Z"
   },
   {
    "duration": 19,
    "start_time": "2022-05-03T11:22:16.569Z"
   },
   {
    "duration": 15,
    "start_time": "2022-05-03T11:22:45.042Z"
   },
   {
    "duration": 8,
    "start_time": "2022-05-03T11:22:51.959Z"
   },
   {
    "duration": 22,
    "start_time": "2022-05-03T11:24:05.332Z"
   },
   {
    "duration": 23,
    "start_time": "2022-05-03T11:24:24.520Z"
   },
   {
    "duration": 20,
    "start_time": "2022-05-03T11:24:28.468Z"
   },
   {
    "duration": 19,
    "start_time": "2022-05-03T11:24:36.274Z"
   },
   {
    "duration": 5,
    "start_time": "2022-05-03T11:25:02.638Z"
   },
   {
    "duration": 6,
    "start_time": "2022-05-03T11:25:22.000Z"
   },
   {
    "duration": 21,
    "start_time": "2022-05-03T11:25:22.649Z"
   },
   {
    "duration": 836,
    "start_time": "2022-05-03T11:28:33.370Z"
   },
   {
    "duration": 411,
    "start_time": "2022-05-03T11:28:34.208Z"
   },
   {
    "duration": 28,
    "start_time": "2022-05-03T11:28:34.621Z"
   },
   {
    "duration": 22,
    "start_time": "2022-05-03T11:28:34.994Z"
   },
   {
    "duration": 20,
    "start_time": "2022-05-03T11:28:35.345Z"
   },
   {
    "duration": 10,
    "start_time": "2022-05-03T11:28:35.706Z"
   },
   {
    "duration": 11,
    "start_time": "2022-05-03T11:28:36.089Z"
   },
   {
    "duration": 16,
    "start_time": "2022-05-03T11:28:37.391Z"
   },
   {
    "duration": 36,
    "start_time": "2022-05-03T11:28:37.928Z"
   },
   {
    "duration": 18,
    "start_time": "2022-05-03T11:28:38.185Z"
   },
   {
    "duration": 577,
    "start_time": "2022-05-03T11:28:38.817Z"
   },
   {
    "duration": 27,
    "start_time": "2022-05-03T11:28:39.396Z"
   },
   {
    "duration": 25,
    "start_time": "2022-05-03T11:28:39.994Z"
   },
   {
    "duration": 14,
    "start_time": "2022-05-03T11:28:40.536Z"
   },
   {
    "duration": 84,
    "start_time": "2022-05-03T11:28:41.424Z"
   },
   {
    "duration": 34,
    "start_time": "2022-05-03T11:28:42.753Z"
   },
   {
    "duration": 19,
    "start_time": "2022-05-03T11:28:43.433Z"
   },
   {
    "duration": 3,
    "start_time": "2022-05-03T11:28:46.841Z"
   },
   {
    "duration": 7,
    "start_time": "2022-05-03T11:28:47.400Z"
   },
   {
    "duration": 26,
    "start_time": "2022-05-03T11:28:48.784Z"
   },
   {
    "duration": 10,
    "start_time": "2022-05-03T11:28:53.631Z"
   },
   {
    "duration": 43,
    "start_time": "2022-05-03T11:28:53.961Z"
   },
   {
    "duration": 29,
    "start_time": "2022-05-03T11:28:54.307Z"
   },
   {
    "duration": 367,
    "start_time": "2022-05-03T11:28:54.577Z"
   },
   {
    "duration": 18,
    "start_time": "2022-05-03T11:28:54.946Z"
   },
   {
    "duration": 18,
    "start_time": "2022-05-03T11:28:55.564Z"
   },
   {
    "duration": 10,
    "start_time": "2022-05-03T11:28:56.329Z"
   },
   {
    "duration": 31,
    "start_time": "2022-05-03T11:28:57.383Z"
   },
   {
    "duration": 3,
    "start_time": "2022-05-03T11:28:57.952Z"
   },
   {
    "duration": 6,
    "start_time": "2022-05-03T11:29:08.793Z"
   },
   {
    "duration": 44,
    "start_time": "2022-05-03T11:29:09.898Z"
   },
   {
    "duration": 173,
    "start_time": "2022-05-03T11:29:33.449Z"
   },
   {
    "duration": 1219,
    "start_time": "2022-05-03T11:30:01.673Z"
   },
   {
    "duration": 505,
    "start_time": "2022-05-03T11:30:02.895Z"
   },
   {
    "duration": 31,
    "start_time": "2022-05-03T11:30:03.402Z"
   },
   {
    "duration": 24,
    "start_time": "2022-05-03T11:30:03.436Z"
   },
   {
    "duration": 22,
    "start_time": "2022-05-03T11:30:03.462Z"
   },
   {
    "duration": 40,
    "start_time": "2022-05-03T11:30:03.486Z"
   },
   {
    "duration": 12,
    "start_time": "2022-05-03T11:30:03.576Z"
   },
   {
    "duration": 17,
    "start_time": "2022-05-03T11:30:04.664Z"
   },
   {
    "duration": 38,
    "start_time": "2022-05-03T11:30:05.040Z"
   },
   {
    "duration": 24,
    "start_time": "2022-05-03T11:30:05.223Z"
   },
   {
    "duration": 632,
    "start_time": "2022-05-03T11:30:05.399Z"
   },
   {
    "duration": 18,
    "start_time": "2022-05-03T11:30:06.033Z"
   },
   {
    "duration": 30,
    "start_time": "2022-05-03T11:30:06.054Z"
   },
   {
    "duration": 46,
    "start_time": "2022-05-03T11:30:06.087Z"
   },
   {
    "duration": 68,
    "start_time": "2022-05-03T11:30:06.439Z"
   },
   {
    "duration": 22,
    "start_time": "2022-05-03T11:30:07.345Z"
   },
   {
    "duration": 26,
    "start_time": "2022-05-03T11:30:07.784Z"
   },
   {
    "duration": 5,
    "start_time": "2022-05-03T11:30:08.128Z"
   },
   {
    "duration": 9,
    "start_time": "2022-05-03T11:30:08.457Z"
   },
   {
    "duration": 44,
    "start_time": "2022-05-03T11:30:08.755Z"
   },
   {
    "duration": 9,
    "start_time": "2022-05-03T11:30:10.904Z"
   },
   {
    "duration": 29,
    "start_time": "2022-05-03T11:30:11.089Z"
   },
   {
    "duration": 21,
    "start_time": "2022-05-03T11:30:11.279Z"
   },
   {
    "duration": 252,
    "start_time": "2022-05-03T11:30:11.473Z"
   },
   {
    "duration": 18,
    "start_time": "2022-05-03T11:30:11.728Z"
   },
   {
    "duration": 24,
    "start_time": "2022-05-03T11:30:11.857Z"
   },
   {
    "duration": 14,
    "start_time": "2022-05-03T11:30:12.056Z"
   },
   {
    "duration": 33,
    "start_time": "2022-05-03T11:30:12.656Z"
   },
   {
    "duration": 4,
    "start_time": "2022-05-03T11:30:13.072Z"
   },
   {
    "duration": 7,
    "start_time": "2022-05-03T11:30:14.042Z"
   },
   {
    "duration": 32,
    "start_time": "2022-05-03T11:30:39.047Z"
   },
   {
    "duration": 11,
    "start_time": "2022-05-03T11:30:42.497Z"
   },
   {
    "duration": 25,
    "start_time": "2022-05-03T11:30:42.810Z"
   },
   {
    "duration": 17,
    "start_time": "2022-05-03T11:30:43.234Z"
   },
   {
    "duration": 16,
    "start_time": "2022-05-03T11:30:43.575Z"
   },
   {
    "duration": 9,
    "start_time": "2022-05-03T11:30:43.930Z"
   },
   {
    "duration": 23,
    "start_time": "2022-05-03T11:30:44.848Z"
   },
   {
    "duration": 15,
    "start_time": "2022-05-03T11:30:45.888Z"
   },
   {
    "duration": 4,
    "start_time": "2022-05-03T11:30:47.015Z"
   },
   {
    "duration": 5,
    "start_time": "2022-05-03T11:30:51.125Z"
   },
   {
    "duration": 21,
    "start_time": "2022-05-03T11:30:51.346Z"
   },
   {
    "duration": 29,
    "start_time": "2022-05-03T11:31:02.170Z"
   },
   {
    "duration": 9,
    "start_time": "2022-05-03T11:31:05.311Z"
   },
   {
    "duration": 10,
    "start_time": "2022-05-03T11:31:06.800Z"
   },
   {
    "duration": 22,
    "start_time": "2022-05-03T11:31:10.224Z"
   },
   {
    "duration": 5,
    "start_time": "2022-05-03T11:31:12.720Z"
   },
   {
    "duration": 4,
    "start_time": "2022-05-03T11:31:13.455Z"
   },
   {
    "duration": 6,
    "start_time": "2022-05-03T11:31:14.416Z"
   },
   {
    "duration": 4,
    "start_time": "2022-05-03T11:31:21.465Z"
   },
   {
    "duration": 4,
    "start_time": "2022-05-03T11:31:23.216Z"
   },
   {
    "duration": 5,
    "start_time": "2022-05-03T11:31:23.802Z"
   },
   {
    "duration": 13,
    "start_time": "2022-05-03T11:31:24.688Z"
   },
   {
    "duration": 6,
    "start_time": "2022-05-03T11:31:31.760Z"
   },
   {
    "duration": 6,
    "start_time": "2022-05-03T11:31:32.455Z"
   },
   {
    "duration": 4,
    "start_time": "2022-05-03T11:31:33.049Z"
   },
   {
    "duration": 10,
    "start_time": "2022-05-03T11:31:44.609Z"
   },
   {
    "duration": 5,
    "start_time": "2022-05-03T11:31:45.312Z"
   },
   {
    "duration": 10,
    "start_time": "2022-05-03T11:31:46.048Z"
   },
   {
    "duration": 22,
    "start_time": "2022-05-03T11:32:35.237Z"
   },
   {
    "duration": 9,
    "start_time": "2022-05-03T11:32:44.115Z"
   },
   {
    "duration": 13,
    "start_time": "2022-05-03T11:38:06.303Z"
   },
   {
    "duration": 8,
    "start_time": "2022-05-03T11:47:31.573Z"
   },
   {
    "duration": 108,
    "start_time": "2022-05-03T11:54:54.367Z"
   },
   {
    "duration": 20,
    "start_time": "2022-05-03T11:55:05.009Z"
   },
   {
    "duration": 889,
    "start_time": "2022-05-03T11:55:12.506Z"
   },
   {
    "duration": 33,
    "start_time": "2022-05-03T11:55:19.256Z"
   },
   {
    "duration": 3191,
    "start_time": "2022-05-03T11:55:57.790Z"
   },
   {
    "duration": 5,
    "start_time": "2022-05-03T11:56:08.445Z"
   },
   {
    "duration": 5,
    "start_time": "2022-05-03T11:56:39.406Z"
   },
   {
    "duration": 7,
    "start_time": "2022-05-03T11:56:59.325Z"
   },
   {
    "duration": 5,
    "start_time": "2022-05-03T11:58:09.199Z"
   },
   {
    "duration": 24,
    "start_time": "2022-05-03T11:58:19.698Z"
   },
   {
    "duration": 17,
    "start_time": "2022-05-03T12:03:58.914Z"
   },
   {
    "duration": 167,
    "start_time": "2022-05-03T12:04:11.819Z"
   },
   {
    "duration": 5,
    "start_time": "2022-05-03T12:05:23.928Z"
   },
   {
    "duration": 5,
    "start_time": "2022-05-03T12:07:03.273Z"
   },
   {
    "duration": 17,
    "start_time": "2022-05-03T12:07:03.879Z"
   },
   {
    "duration": 27,
    "start_time": "2022-05-03T12:07:46.334Z"
   },
   {
    "duration": 19,
    "start_time": "2022-05-03T12:07:49.311Z"
   },
   {
    "duration": 27,
    "start_time": "2022-05-03T12:08:35.081Z"
   },
   {
    "duration": 7,
    "start_time": "2022-05-03T12:08:36.536Z"
   },
   {
    "duration": 142,
    "start_time": "2022-05-03T12:08:36.840Z"
   },
   {
    "duration": 38,
    "start_time": "2022-05-03T12:08:38.345Z"
   },
   {
    "duration": 54,
    "start_time": "2022-05-03T12:09:12.153Z"
   },
   {
    "duration": 3,
    "start_time": "2022-05-03T12:11:04.893Z"
   },
   {
    "duration": 1149,
    "start_time": "2022-05-03T12:17:32.792Z"
   },
   {
    "duration": 565,
    "start_time": "2022-05-03T12:17:33.944Z"
   },
   {
    "duration": 29,
    "start_time": "2022-05-03T12:17:34.511Z"
   },
   {
    "duration": 23,
    "start_time": "2022-05-03T12:17:34.543Z"
   },
   {
    "duration": 21,
    "start_time": "2022-05-03T12:17:34.568Z"
   },
   {
    "duration": 40,
    "start_time": "2022-05-03T12:17:34.591Z"
   },
   {
    "duration": 14,
    "start_time": "2022-05-03T12:17:34.819Z"
   },
   {
    "duration": 19,
    "start_time": "2022-05-03T12:17:36.073Z"
   },
   {
    "duration": 36,
    "start_time": "2022-05-03T12:17:36.576Z"
   },
   {
    "duration": 19,
    "start_time": "2022-05-03T12:17:36.819Z"
   },
   {
    "duration": 886,
    "start_time": "2022-05-03T12:17:37.331Z"
   },
   {
    "duration": 22,
    "start_time": "2022-05-03T12:17:38.219Z"
   },
   {
    "duration": 23,
    "start_time": "2022-05-03T12:17:38.243Z"
   },
   {
    "duration": 15,
    "start_time": "2022-05-03T12:17:38.489Z"
   },
   {
    "duration": 68,
    "start_time": "2022-05-03T12:17:39.690Z"
   },
   {
    "duration": 20,
    "start_time": "2022-05-03T12:17:40.538Z"
   },
   {
    "duration": 21,
    "start_time": "2022-05-03T12:17:40.928Z"
   },
   {
    "duration": 4,
    "start_time": "2022-05-03T12:17:41.497Z"
   },
   {
    "duration": 8,
    "start_time": "2022-05-03T12:17:42.000Z"
   },
   {
    "duration": 41,
    "start_time": "2022-05-03T12:17:43.115Z"
   },
   {
    "duration": 14,
    "start_time": "2022-05-03T12:17:44.842Z"
   },
   {
    "duration": 41,
    "start_time": "2022-05-03T12:17:45.296Z"
   },
   {
    "duration": 6,
    "start_time": "2022-05-03T12:17:45.737Z"
   },
   {
    "duration": 30,
    "start_time": "2022-05-03T12:17:46.361Z"
   },
   {
    "duration": 362,
    "start_time": "2022-05-03T12:17:47.625Z"
   },
   {
    "duration": 16,
    "start_time": "2022-05-03T12:17:49.538Z"
   },
   {
    "duration": 18,
    "start_time": "2022-05-03T12:17:52.055Z"
   },
   {
    "duration": 10,
    "start_time": "2022-05-03T12:17:52.584Z"
   },
   {
    "duration": 30,
    "start_time": "2022-05-03T12:17:54.784Z"
   },
   {
    "duration": 3,
    "start_time": "2022-05-03T12:17:56.056Z"
   },
   {
    "duration": 6,
    "start_time": "2022-05-03T12:17:57.247Z"
   },
   {
    "duration": 41,
    "start_time": "2022-05-03T12:17:58.401Z"
   },
   {
    "duration": 8,
    "start_time": "2022-05-03T12:18:05.984Z"
   },
   {
    "duration": 24,
    "start_time": "2022-05-03T12:18:06.280Z"
   },
   {
    "duration": 15,
    "start_time": "2022-05-03T12:18:06.554Z"
   },
   {
    "duration": 15,
    "start_time": "2022-05-03T12:18:06.945Z"
   },
   {
    "duration": 9,
    "start_time": "2022-05-03T12:18:07.257Z"
   },
   {
    "duration": 25,
    "start_time": "2022-05-03T12:18:07.816Z"
   },
   {
    "duration": 17,
    "start_time": "2022-05-03T12:18:08.168Z"
   },
   {
    "duration": 3,
    "start_time": "2022-05-03T12:18:08.529Z"
   },
   {
    "duration": 6,
    "start_time": "2022-05-03T12:18:08.881Z"
   },
   {
    "duration": 30,
    "start_time": "2022-05-03T12:18:09.177Z"
   },
   {
    "duration": 9,
    "start_time": "2022-05-03T12:18:10.272Z"
   },
   {
    "duration": 12,
    "start_time": "2022-05-03T12:18:10.641Z"
   },
   {
    "duration": 8,
    "start_time": "2022-05-03T12:18:11.992Z"
   },
   {
    "duration": 10,
    "start_time": "2022-05-03T12:18:21.434Z"
   },
   {
    "duration": 33,
    "start_time": "2022-05-03T12:18:26.313Z"
   },
   {
    "duration": 4,
    "start_time": "2022-05-03T12:18:28.833Z"
   },
   {
    "duration": 4,
    "start_time": "2022-05-03T12:18:29.105Z"
   },
   {
    "duration": 5,
    "start_time": "2022-05-03T12:18:29.433Z"
   },
   {
    "duration": 15,
    "start_time": "2022-05-03T12:18:29.770Z"
   },
   {
    "duration": 6,
    "start_time": "2022-05-03T12:18:30.488Z"
   },
   {
    "duration": 7,
    "start_time": "2022-05-03T12:18:33.242Z"
   },
   {
    "duration": 6,
    "start_time": "2022-05-03T12:18:34.791Z"
   },
   {
    "duration": 10,
    "start_time": "2022-05-03T12:18:35.176Z"
   },
   {
    "duration": 7,
    "start_time": "2022-05-03T12:18:36.423Z"
   },
   {
    "duration": 13,
    "start_time": "2022-05-03T12:18:38.392Z"
   },
   {
    "duration": 17,
    "start_time": "2022-05-03T12:18:39.129Z"
   },
   {
    "duration": 13,
    "start_time": "2022-05-03T12:18:43.080Z"
   },
   {
    "duration": 169,
    "start_time": "2022-05-03T12:18:58.880Z"
   },
   {
    "duration": 6,
    "start_time": "2022-05-03T12:19:24.176Z"
   },
   {
    "duration": 244,
    "start_time": "2022-05-03T12:19:34.332Z"
   },
   {
    "duration": 41,
    "start_time": "2022-05-03T12:19:39.426Z"
   },
   {
    "duration": 107,
    "start_time": "2022-05-03T12:23:39.932Z"
   },
   {
    "duration": 2689,
    "start_time": "2022-05-03T12:23:56.448Z"
   },
   {
    "duration": 2919,
    "start_time": "2022-05-03T12:24:09.850Z"
   },
   {
    "duration": 33,
    "start_time": "2022-05-03T12:25:33.928Z"
   },
   {
    "duration": 2716,
    "start_time": "2022-05-03T12:25:57.756Z"
   },
   {
    "duration": 9,
    "start_time": "2022-05-03T12:26:10.004Z"
   },
   {
    "duration": 12,
    "start_time": "2022-05-03T12:26:14.058Z"
   },
   {
    "duration": 11,
    "start_time": "2022-05-03T12:26:26.565Z"
   },
   {
    "duration": 3126,
    "start_time": "2022-05-03T12:26:32.240Z"
   },
   {
    "duration": 5,
    "start_time": "2022-05-03T12:26:42.081Z"
   },
   {
    "duration": 9,
    "start_time": "2022-05-03T12:26:47.972Z"
   },
   {
    "duration": 9,
    "start_time": "2022-05-03T12:26:59.882Z"
   },
   {
    "duration": 16,
    "start_time": "2022-05-03T12:27:12.512Z"
   },
   {
    "duration": 2723,
    "start_time": "2022-05-03T12:27:15.842Z"
   },
   {
    "duration": 2887,
    "start_time": "2022-05-03T12:27:28.175Z"
   },
   {
    "duration": 8,
    "start_time": "2022-05-03T12:28:13.062Z"
   },
   {
    "duration": 9,
    "start_time": "2022-05-03T12:33:06.331Z"
   },
   {
    "duration": 184,
    "start_time": "2022-05-03T12:33:09.192Z"
   },
   {
    "duration": 43,
    "start_time": "2022-05-03T12:33:12.791Z"
   },
   {
    "duration": 5,
    "start_time": "2022-05-03T12:35:29.016Z"
   },
   {
    "duration": 1152,
    "start_time": "2022-05-03T12:35:39.717Z"
   },
   {
    "duration": 569,
    "start_time": "2022-05-03T12:35:40.872Z"
   },
   {
    "duration": 36,
    "start_time": "2022-05-03T12:35:41.443Z"
   },
   {
    "duration": 43,
    "start_time": "2022-05-03T12:35:41.711Z"
   },
   {
    "duration": 49,
    "start_time": "2022-05-03T12:35:42.416Z"
   },
   {
    "duration": 11,
    "start_time": "2022-05-03T12:35:43.004Z"
   },
   {
    "duration": 16,
    "start_time": "2022-05-03T12:35:43.645Z"
   },
   {
    "duration": 15,
    "start_time": "2022-05-03T12:35:45.565Z"
   },
   {
    "duration": 35,
    "start_time": "2022-05-03T12:35:46.164Z"
   },
   {
    "duration": 20,
    "start_time": "2022-05-03T12:35:46.461Z"
   },
   {
    "duration": 768,
    "start_time": "2022-05-03T12:35:46.741Z"
   },
   {
    "duration": 27,
    "start_time": "2022-05-03T12:35:47.511Z"
   },
   {
    "duration": 33,
    "start_time": "2022-05-03T12:35:47.540Z"
   },
   {
    "duration": 18,
    "start_time": "2022-05-03T12:35:47.659Z"
   },
   {
    "duration": 82,
    "start_time": "2022-05-03T12:35:48.312Z"
   },
   {
    "duration": 42,
    "start_time": "2022-05-03T12:35:48.621Z"
   },
   {
    "duration": 20,
    "start_time": "2022-05-03T12:35:48.958Z"
   },
   {
    "duration": 3,
    "start_time": "2022-05-03T12:35:49.300Z"
   },
   {
    "duration": 10,
    "start_time": "2022-05-03T12:35:49.638Z"
   },
   {
    "duration": 25,
    "start_time": "2022-05-03T12:35:49.980Z"
   },
   {
    "duration": 9,
    "start_time": "2022-05-03T12:35:51.069Z"
   },
   {
    "duration": 29,
    "start_time": "2022-05-03T12:35:51.262Z"
   },
   {
    "duration": 5,
    "start_time": "2022-05-03T12:35:51.486Z"
   },
   {
    "duration": 22,
    "start_time": "2022-05-03T12:35:51.700Z"
   },
   {
    "duration": 286,
    "start_time": "2022-05-03T12:35:51.908Z"
   },
   {
    "duration": 28,
    "start_time": "2022-05-03T12:35:52.197Z"
   },
   {
    "duration": 38,
    "start_time": "2022-05-03T12:35:52.316Z"
   },
   {
    "duration": 23,
    "start_time": "2022-05-03T12:35:52.526Z"
   },
   {
    "duration": 42,
    "start_time": "2022-05-03T12:35:52.966Z"
   },
   {
    "duration": 4,
    "start_time": "2022-05-03T12:35:53.197Z"
   },
   {
    "duration": 6,
    "start_time": "2022-05-03T12:35:53.469Z"
   },
   {
    "duration": 27,
    "start_time": "2022-05-03T12:35:53.844Z"
   },
   {
    "duration": 8,
    "start_time": "2022-05-03T12:35:54.705Z"
   },
   {
    "duration": 20,
    "start_time": "2022-05-03T12:35:54.989Z"
   },
   {
    "duration": 16,
    "start_time": "2022-05-03T12:35:55.276Z"
   },
   {
    "duration": 21,
    "start_time": "2022-05-03T12:35:55.620Z"
   },
   {
    "duration": 11,
    "start_time": "2022-05-03T12:35:55.909Z"
   },
   {
    "duration": 36,
    "start_time": "2022-05-03T12:35:56.597Z"
   },
   {
    "duration": 22,
    "start_time": "2022-05-03T12:35:56.950Z"
   },
   {
    "duration": 4,
    "start_time": "2022-05-03T12:35:57.572Z"
   },
   {
    "duration": 9,
    "start_time": "2022-05-03T12:35:57.949Z"
   },
   {
    "duration": 40,
    "start_time": "2022-05-03T12:35:58.228Z"
   },
   {
    "duration": 9,
    "start_time": "2022-05-03T12:35:59.276Z"
   },
   {
    "duration": 14,
    "start_time": "2022-05-03T12:35:59.604Z"
   },
   {
    "duration": 5,
    "start_time": "2022-05-03T12:36:00.092Z"
   },
   {
    "duration": 9,
    "start_time": "2022-05-03T12:36:00.496Z"
   },
   {
    "duration": 27,
    "start_time": "2022-05-03T12:36:01.308Z"
   },
   {
    "duration": 6,
    "start_time": "2022-05-03T12:36:01.758Z"
   },
   {
    "duration": 4,
    "start_time": "2022-05-03T12:36:02.172Z"
   },
   {
    "duration": 5,
    "start_time": "2022-05-03T12:36:02.501Z"
   },
   {
    "duration": 20,
    "start_time": "2022-05-03T12:36:03.060Z"
   },
   {
    "duration": 7,
    "start_time": "2022-05-03T12:36:03.645Z"
   },
   {
    "duration": 6,
    "start_time": "2022-05-03T12:36:04.381Z"
   },
   {
    "duration": 5,
    "start_time": "2022-05-03T12:36:04.774Z"
   },
   {
    "duration": 13,
    "start_time": "2022-05-03T12:36:05.260Z"
   },
   {
    "duration": 7,
    "start_time": "2022-05-03T12:36:05.572Z"
   },
   {
    "duration": 12,
    "start_time": "2022-05-03T12:36:06.610Z"
   },
   {
    "duration": 13,
    "start_time": "2022-05-03T12:36:08.574Z"
   },
   {
    "duration": 10,
    "start_time": "2022-05-03T12:36:14.692Z"
   },
   {
    "duration": 7,
    "start_time": "2022-05-03T12:36:18.493Z"
   },
   {
    "duration": 205,
    "start_time": "2022-05-03T12:36:18.893Z"
   },
   {
    "duration": 60,
    "start_time": "2022-05-03T12:36:19.495Z"
   },
   {
    "duration": 6,
    "start_time": "2022-05-03T12:39:28.893Z"
   },
   {
    "duration": 855,
    "start_time": "2022-05-03T12:41:00.535Z"
   },
   {
    "duration": 608,
    "start_time": "2022-05-03T12:41:01.392Z"
   },
   {
    "duration": 44,
    "start_time": "2022-05-03T12:41:02.002Z"
   },
   {
    "duration": 32,
    "start_time": "2022-05-03T12:41:02.049Z"
   },
   {
    "duration": 49,
    "start_time": "2022-05-03T12:41:02.083Z"
   },
   {
    "duration": 13,
    "start_time": "2022-05-03T12:41:02.135Z"
   },
   {
    "duration": 14,
    "start_time": "2022-05-03T12:41:02.461Z"
   },
   {
    "duration": 22,
    "start_time": "2022-05-03T12:41:03.557Z"
   },
   {
    "duration": 44,
    "start_time": "2022-05-03T12:41:03.925Z"
   },
   {
    "duration": 30,
    "start_time": "2022-05-03T12:41:04.119Z"
   },
   {
    "duration": 893,
    "start_time": "2022-05-03T12:41:04.301Z"
   },
   {
    "duration": 33,
    "start_time": "2022-05-03T12:41:05.196Z"
   },
   {
    "duration": 35,
    "start_time": "2022-05-03T12:41:05.235Z"
   },
   {
    "duration": 20,
    "start_time": "2022-05-03T12:41:05.272Z"
   },
   {
    "duration": 118,
    "start_time": "2022-05-03T12:41:05.294Z"
   },
   {
    "duration": 29,
    "start_time": "2022-05-03T12:41:05.460Z"
   },
   {
    "duration": 32,
    "start_time": "2022-05-03T12:41:05.670Z"
   },
   {
    "duration": 5,
    "start_time": "2022-05-03T12:41:05.899Z"
   },
   {
    "duration": 9,
    "start_time": "2022-05-03T12:41:06.083Z"
   },
   {
    "duration": 44,
    "start_time": "2022-05-03T12:41:06.285Z"
   },
   {
    "duration": 11,
    "start_time": "2022-05-03T12:41:06.844Z"
   },
   {
    "duration": 47,
    "start_time": "2022-05-03T12:41:07.060Z"
   },
   {
    "duration": 6,
    "start_time": "2022-05-03T12:41:07.269Z"
   },
   {
    "duration": 33,
    "start_time": "2022-05-03T12:41:07.493Z"
   },
   {
    "duration": 354,
    "start_time": "2022-05-03T12:41:07.692Z"
   },
   {
    "duration": 18,
    "start_time": "2022-05-03T12:41:08.049Z"
   },
   {
    "duration": 23,
    "start_time": "2022-05-03T12:41:08.092Z"
   },
   {
    "duration": 12,
    "start_time": "2022-05-03T12:41:08.318Z"
   },
   {
    "duration": 46,
    "start_time": "2022-05-03T12:41:08.774Z"
   },
   {
    "duration": 6,
    "start_time": "2022-05-03T12:41:09.004Z"
   },
   {
    "duration": 11,
    "start_time": "2022-05-03T12:41:09.228Z"
   },
   {
    "duration": 28,
    "start_time": "2022-05-03T12:41:09.453Z"
   },
   {
    "duration": 11,
    "start_time": "2022-05-03T12:41:10.190Z"
   },
   {
    "duration": 33,
    "start_time": "2022-05-03T12:41:10.437Z"
   },
   {
    "duration": 22,
    "start_time": "2022-05-03T12:41:10.741Z"
   },
   {
    "duration": 16,
    "start_time": "2022-05-03T12:41:10.885Z"
   },
   {
    "duration": 10,
    "start_time": "2022-05-03T12:41:11.084Z"
   },
   {
    "duration": 27,
    "start_time": "2022-05-03T12:41:11.476Z"
   },
   {
    "duration": 17,
    "start_time": "2022-05-03T12:41:11.701Z"
   },
   {
    "duration": 3,
    "start_time": "2022-05-03T12:41:11.901Z"
   },
   {
    "duration": 6,
    "start_time": "2022-05-03T12:41:12.132Z"
   },
   {
    "duration": 44,
    "start_time": "2022-05-03T12:41:12.372Z"
   },
   {
    "duration": 12,
    "start_time": "2022-05-03T12:41:13.157Z"
   },
   {
    "duration": 11,
    "start_time": "2022-05-03T12:41:13.469Z"
   },
   {
    "duration": 4,
    "start_time": "2022-05-03T12:41:14.261Z"
   },
   {
    "duration": 13,
    "start_time": "2022-05-03T12:41:14.589Z"
   },
   {
    "duration": 46,
    "start_time": "2022-05-03T12:41:15.197Z"
   },
   {
    "duration": 6,
    "start_time": "2022-05-03T12:41:15.492Z"
   },
   {
    "duration": 6,
    "start_time": "2022-05-03T12:41:15.798Z"
   },
   {
    "duration": 5,
    "start_time": "2022-05-03T12:41:16.607Z"
   },
   {
    "duration": 6,
    "start_time": "2022-05-03T12:41:16.989Z"
   },
   {
    "duration": 18,
    "start_time": "2022-05-03T12:41:17.620Z"
   },
   {
    "duration": 7,
    "start_time": "2022-05-03T12:41:20.422Z"
   },
   {
    "duration": 7,
    "start_time": "2022-05-03T12:41:20.621Z"
   },
   {
    "duration": 6,
    "start_time": "2022-05-03T12:41:20.828Z"
   },
   {
    "duration": 10,
    "start_time": "2022-05-03T12:41:21.085Z"
   },
   {
    "duration": 6,
    "start_time": "2022-05-03T12:41:21.397Z"
   },
   {
    "duration": 10,
    "start_time": "2022-05-03T12:41:21.773Z"
   },
   {
    "duration": 13,
    "start_time": "2022-05-03T12:41:22.781Z"
   },
   {
    "duration": 8,
    "start_time": "2022-05-03T12:41:26.565Z"
   },
   {
    "duration": 7,
    "start_time": "2022-05-03T12:49:51.956Z"
   },
   {
    "duration": 207,
    "start_time": "2022-05-03T12:49:53.466Z"
   },
   {
    "duration": 66,
    "start_time": "2022-05-03T12:49:54.138Z"
   },
   {
    "duration": 27,
    "start_time": "2022-05-03T12:50:22.335Z"
   },
   {
    "duration": 176,
    "start_time": "2022-05-03T12:56:33.306Z"
   },
   {
    "duration": 10,
    "start_time": "2022-05-03T12:57:12.296Z"
   },
   {
    "duration": 3,
    "start_time": "2022-05-03T12:58:51.856Z"
   },
   {
    "duration": 13,
    "start_time": "2022-05-03T13:01:36.873Z"
   },
   {
    "duration": 15,
    "start_time": "2022-05-03T13:01:43.425Z"
   },
   {
    "duration": 22,
    "start_time": "2022-05-03T13:02:11.182Z"
   },
   {
    "duration": 159,
    "start_time": "2022-05-03T13:02:51.881Z"
   },
   {
    "duration": 37,
    "start_time": "2022-05-03T13:03:01.068Z"
   },
   {
    "duration": 12,
    "start_time": "2022-05-03T13:04:54.207Z"
   },
   {
    "duration": 12,
    "start_time": "2022-05-03T13:05:35.480Z"
   },
   {
    "duration": 18,
    "start_time": "2022-05-03T13:05:40.927Z"
   },
   {
    "duration": 49392,
    "start_time": "2022-05-03T13:06:58.326Z"
   },
   {
    "duration": 69,
    "start_time": "2022-05-03T13:08:02.201Z"
   },
   {
    "duration": 3,
    "start_time": "2022-05-03T13:10:58.481Z"
   },
   {
    "duration": 158,
    "start_time": "2022-05-03T13:10:59.503Z"
   },
   {
    "duration": 37,
    "start_time": "2022-05-03T13:11:02.159Z"
   },
   {
    "duration": 10,
    "start_time": "2022-05-03T13:11:30.443Z"
   },
   {
    "duration": 582,
    "start_time": "2022-05-03T13:11:30.455Z"
   },
   {
    "duration": 33,
    "start_time": "2022-05-03T13:11:31.042Z"
   },
   {
    "duration": 25,
    "start_time": "2022-05-03T13:11:31.076Z"
   },
   {
    "duration": 29,
    "start_time": "2022-05-03T13:11:31.103Z"
   },
   {
    "duration": 27,
    "start_time": "2022-05-03T13:11:31.135Z"
   },
   {
    "duration": 33,
    "start_time": "2022-05-03T13:11:31.164Z"
   },
   {
    "duration": 20,
    "start_time": "2022-05-03T13:11:31.199Z"
   },
   {
    "duration": 60,
    "start_time": "2022-05-03T13:11:31.227Z"
   },
   {
    "duration": 28,
    "start_time": "2022-05-03T13:11:31.289Z"
   },
   {
    "duration": 432,
    "start_time": "2022-05-03T13:11:31.322Z"
   },
   {
    "duration": 17,
    "start_time": "2022-05-03T13:11:31.756Z"
   },
   {
    "duration": 35,
    "start_time": "2022-05-03T13:11:31.775Z"
   },
   {
    "duration": 27,
    "start_time": "2022-05-03T13:11:31.812Z"
   },
   {
    "duration": 72,
    "start_time": "2022-05-03T13:11:31.841Z"
   },
   {
    "duration": 28,
    "start_time": "2022-05-03T13:11:31.920Z"
   },
   {
    "duration": 21,
    "start_time": "2022-05-03T13:11:31.950Z"
   },
   {
    "duration": 23,
    "start_time": "2022-05-03T13:11:31.973Z"
   },
   {
    "duration": 19,
    "start_time": "2022-05-03T13:11:31.998Z"
   },
   {
    "duration": 50,
    "start_time": "2022-05-03T13:11:32.019Z"
   },
   {
    "duration": 11,
    "start_time": "2022-05-03T13:11:32.071Z"
   },
   {
    "duration": 47,
    "start_time": "2022-05-03T13:11:32.085Z"
   },
   {
    "duration": 18,
    "start_time": "2022-05-03T13:11:32.136Z"
   },
   {
    "duration": 28,
    "start_time": "2022-05-03T13:11:32.156Z"
   },
   {
    "duration": 255,
    "start_time": "2022-05-03T13:11:32.190Z"
   },
   {
    "duration": 15,
    "start_time": "2022-05-03T13:11:32.447Z"
   },
   {
    "duration": 17,
    "start_time": "2022-05-03T13:11:32.463Z"
   },
   {
    "duration": 15,
    "start_time": "2022-05-03T13:11:32.483Z"
   },
   {
    "duration": 42,
    "start_time": "2022-05-03T13:11:32.524Z"
   },
   {
    "duration": 4,
    "start_time": "2022-05-03T13:11:32.569Z"
   },
   {
    "duration": 21,
    "start_time": "2022-05-03T13:11:32.575Z"
   },
   {
    "duration": 43,
    "start_time": "2022-05-03T13:11:32.598Z"
   },
   {
    "duration": 8,
    "start_time": "2022-05-03T13:11:32.644Z"
   },
   {
    "duration": 44,
    "start_time": "2022-05-03T13:11:32.654Z"
   },
   {
    "duration": 34,
    "start_time": "2022-05-03T13:11:32.701Z"
   },
   {
    "duration": 20,
    "start_time": "2022-05-03T13:11:32.738Z"
   },
   {
    "duration": 8,
    "start_time": "2022-05-03T13:11:32.761Z"
   },
   {
    "duration": 33,
    "start_time": "2022-05-03T13:11:32.771Z"
   },
   {
    "duration": 29,
    "start_time": "2022-05-03T13:11:32.806Z"
   },
   {
    "duration": 9,
    "start_time": "2022-05-03T13:11:32.839Z"
   },
   {
    "duration": 25,
    "start_time": "2022-05-03T13:11:32.850Z"
   },
   {
    "duration": 51,
    "start_time": "2022-05-03T13:11:32.877Z"
   },
   {
    "duration": 14,
    "start_time": "2022-05-03T13:11:32.929Z"
   },
   {
    "duration": 24,
    "start_time": "2022-05-03T13:11:32.944Z"
   },
   {
    "duration": 33,
    "start_time": "2022-05-03T13:11:32.970Z"
   },
   {
    "duration": 29,
    "start_time": "2022-05-03T13:11:33.005Z"
   },
   {
    "duration": 35,
    "start_time": "2022-05-03T13:11:33.039Z"
   },
   {
    "duration": 18,
    "start_time": "2022-05-03T13:11:33.076Z"
   },
   {
    "duration": 30,
    "start_time": "2022-05-03T13:11:33.096Z"
   },
   {
    "duration": 25,
    "start_time": "2022-05-03T13:11:33.128Z"
   },
   {
    "duration": 26,
    "start_time": "2022-05-03T13:11:33.155Z"
   },
   {
    "duration": 32,
    "start_time": "2022-05-03T13:11:33.182Z"
   },
   {
    "duration": 28,
    "start_time": "2022-05-03T13:11:33.215Z"
   },
   {
    "duration": 14,
    "start_time": "2022-05-03T13:11:33.246Z"
   },
   {
    "duration": 15,
    "start_time": "2022-05-03T13:11:33.261Z"
   },
   {
    "duration": 21,
    "start_time": "2022-05-03T13:11:33.278Z"
   },
   {
    "duration": 16,
    "start_time": "2022-05-03T13:11:33.301Z"
   },
   {
    "duration": 24,
    "start_time": "2022-05-03T13:11:33.319Z"
   },
   {
    "duration": 21,
    "start_time": "2022-05-03T13:11:33.346Z"
   },
   {
    "duration": 14,
    "start_time": "2022-05-03T13:11:33.369Z"
   },
   {
    "duration": 15,
    "start_time": "2022-05-03T13:11:33.385Z"
   },
   {
    "duration": 262,
    "start_time": "2022-05-03T13:11:33.402Z"
   },
   {
    "duration": 39,
    "start_time": "2022-05-03T13:11:33.666Z"
   },
   {
    "duration": 24,
    "start_time": "2022-05-03T13:11:33.707Z"
   },
   {
    "duration": 193,
    "start_time": "2022-05-03T13:11:33.736Z"
   },
   {
    "duration": 39,
    "start_time": "2022-05-03T13:11:33.931Z"
   },
   {
    "duration": 5,
    "start_time": "2022-05-03T13:13:52.848Z"
   },
   {
    "duration": 7,
    "start_time": "2022-05-03T13:13:55.876Z"
   },
   {
    "duration": 5,
    "start_time": "2022-05-03T13:13:59.093Z"
   },
   {
    "duration": 4,
    "start_time": "2022-05-03T13:14:03.922Z"
   },
   {
    "duration": 5,
    "start_time": "2022-05-03T13:14:07.010Z"
   },
   {
    "duration": 4,
    "start_time": "2022-05-03T13:14:52.468Z"
   },
   {
    "duration": 136,
    "start_time": "2022-05-03T13:17:10.943Z"
   },
   {
    "duration": 222,
    "start_time": "2022-05-03T13:17:15.354Z"
   },
   {
    "duration": 41,
    "start_time": "2022-05-03T13:17:16.076Z"
   },
   {
    "duration": 930,
    "start_time": "2022-05-03T13:19:03.273Z"
   },
   {
    "duration": 529,
    "start_time": "2022-05-03T13:19:04.205Z"
   },
   {
    "duration": 36,
    "start_time": "2022-05-03T13:19:04.738Z"
   },
   {
    "duration": 24,
    "start_time": "2022-05-03T13:19:04.777Z"
   },
   {
    "duration": 39,
    "start_time": "2022-05-03T13:19:04.802Z"
   },
   {
    "duration": 18,
    "start_time": "2022-05-03T13:19:04.842Z"
   },
   {
    "duration": 11,
    "start_time": "2022-05-03T13:19:04.862Z"
   },
   {
    "duration": 15,
    "start_time": "2022-05-03T13:19:04.875Z"
   },
   {
    "duration": 52,
    "start_time": "2022-05-03T13:19:04.922Z"
   },
   {
    "duration": 20,
    "start_time": "2022-05-03T13:19:04.978Z"
   },
   {
    "duration": 804,
    "start_time": "2022-05-03T13:19:04.999Z"
   },
   {
    "duration": 38,
    "start_time": "2022-05-03T13:19:05.805Z"
   },
   {
    "duration": 27,
    "start_time": "2022-05-03T13:19:05.846Z"
   },
   {
    "duration": 14,
    "start_time": "2022-05-03T13:19:05.875Z"
   },
   {
    "duration": 103,
    "start_time": "2022-05-03T13:19:05.891Z"
   },
   {
    "duration": 29,
    "start_time": "2022-05-03T13:19:05.995Z"
   },
   {
    "duration": 32,
    "start_time": "2022-05-03T13:19:06.026Z"
   },
   {
    "duration": 4,
    "start_time": "2022-05-03T13:19:06.060Z"
   },
   {
    "duration": 8,
    "start_time": "2022-05-03T13:19:06.066Z"
   },
   {
    "duration": 61,
    "start_time": "2022-05-03T13:19:06.076Z"
   },
   {
    "duration": 17,
    "start_time": "2022-05-03T13:19:06.139Z"
   },
   {
    "duration": 31,
    "start_time": "2022-05-03T13:19:06.158Z"
   },
   {
    "duration": 4,
    "start_time": "2022-05-03T13:19:06.191Z"
   },
   {
    "duration": 43,
    "start_time": "2022-05-03T13:19:06.197Z"
   },
   {
    "duration": 269,
    "start_time": "2022-05-03T13:19:06.242Z"
   },
   {
    "duration": 21,
    "start_time": "2022-05-03T13:19:06.513Z"
   },
   {
    "duration": 24,
    "start_time": "2022-05-03T13:19:06.536Z"
   },
   {
    "duration": 10,
    "start_time": "2022-05-03T13:19:06.564Z"
   },
   {
    "duration": 60,
    "start_time": "2022-05-03T13:19:06.575Z"
   },
   {
    "duration": 5,
    "start_time": "2022-05-03T13:19:06.638Z"
   },
   {
    "duration": 7,
    "start_time": "2022-05-03T13:19:06.646Z"
   },
   {
    "duration": 28,
    "start_time": "2022-05-03T13:19:06.656Z"
   },
   {
    "duration": 37,
    "start_time": "2022-05-03T13:19:06.686Z"
   },
   {
    "duration": 36,
    "start_time": "2022-05-03T13:19:06.726Z"
   },
   {
    "duration": 16,
    "start_time": "2022-05-03T13:19:06.764Z"
   },
   {
    "duration": 40,
    "start_time": "2022-05-03T13:19:06.782Z"
   },
   {
    "duration": 19,
    "start_time": "2022-05-03T13:19:06.826Z"
   },
   {
    "duration": 27,
    "start_time": "2022-05-03T13:19:06.851Z"
   },
   {
    "duration": 16,
    "start_time": "2022-05-03T13:19:06.880Z"
   },
   {
    "duration": 5,
    "start_time": "2022-05-03T13:19:06.898Z"
   },
   {
    "duration": 32,
    "start_time": "2022-05-03T13:19:06.905Z"
   },
   {
    "duration": 34,
    "start_time": "2022-05-03T13:19:06.940Z"
   },
   {
    "duration": 9,
    "start_time": "2022-05-03T13:19:06.976Z"
   },
   {
    "duration": 11,
    "start_time": "2022-05-03T13:19:06.987Z"
   },
   {
    "duration": 3,
    "start_time": "2022-05-03T13:19:07.000Z"
   },
   {
    "duration": 28,
    "start_time": "2022-05-03T13:19:07.005Z"
   },
   {
    "duration": 34,
    "start_time": "2022-05-03T13:19:07.035Z"
   },
   {
    "duration": 3,
    "start_time": "2022-05-03T13:19:07.071Z"
   },
   {
    "duration": 8,
    "start_time": "2022-05-03T13:19:07.076Z"
   },
   {
    "duration": 8,
    "start_time": "2022-05-03T13:19:07.085Z"
   },
   {
    "duration": 28,
    "start_time": "2022-05-03T13:19:07.095Z"
   },
   {
    "duration": 25,
    "start_time": "2022-05-03T13:19:07.129Z"
   },
   {
    "duration": 5,
    "start_time": "2022-05-03T13:19:07.157Z"
   },
   {
    "duration": 7,
    "start_time": "2022-05-03T13:19:07.164Z"
   },
   {
    "duration": 8,
    "start_time": "2022-05-03T13:19:07.173Z"
   },
   {
    "duration": 15,
    "start_time": "2022-05-03T13:19:07.183Z"
   },
   {
    "duration": 30,
    "start_time": "2022-05-03T13:19:07.200Z"
   },
   {
    "duration": 13,
    "start_time": "2022-05-03T13:19:07.232Z"
   },
   {
    "duration": 15,
    "start_time": "2022-05-03T13:19:07.248Z"
   },
   {
    "duration": 9,
    "start_time": "2022-05-03T13:19:07.265Z"
   },
   {
    "duration": 6,
    "start_time": "2022-05-03T13:19:07.275Z"
   },
   {
    "duration": 232,
    "start_time": "2022-05-03T13:19:07.283Z"
   },
   {
    "duration": 40,
    "start_time": "2022-05-03T13:19:07.517Z"
   },
   {
    "duration": 4,
    "start_time": "2022-05-03T13:19:07.559Z"
   },
   {
    "duration": 135,
    "start_time": "2022-05-03T13:19:07.565Z"
   },
   {
    "duration": 0,
    "start_time": "2022-05-03T13:19:07.702Z"
   },
   {
    "duration": 0,
    "start_time": "2022-05-03T13:19:07.703Z"
   },
   {
    "duration": 163,
    "start_time": "2022-05-03T13:19:51.624Z"
   },
   {
    "duration": 59,
    "start_time": "2022-05-03T13:19:52.800Z"
   },
   {
    "duration": 826,
    "start_time": "2022-05-03T18:58:38.914Z"
   },
   {
    "duration": 327,
    "start_time": "2022-05-03T18:58:39.742Z"
   },
   {
    "duration": 23,
    "start_time": "2022-05-03T18:58:40.071Z"
   },
   {
    "duration": 19,
    "start_time": "2022-05-03T18:58:40.096Z"
   },
   {
    "duration": 16,
    "start_time": "2022-05-03T18:58:40.117Z"
   },
   {
    "duration": 9,
    "start_time": "2022-05-03T18:58:40.134Z"
   },
   {
    "duration": 11,
    "start_time": "2022-05-03T18:58:40.145Z"
   },
   {
    "duration": 14,
    "start_time": "2022-05-03T18:58:40.158Z"
   },
   {
    "duration": 57,
    "start_time": "2022-05-03T18:58:40.173Z"
   },
   {
    "duration": 16,
    "start_time": "2022-05-03T18:58:40.233Z"
   },
   {
    "duration": 627,
    "start_time": "2022-05-03T18:58:40.251Z"
   },
   {
    "duration": 15,
    "start_time": "2022-05-03T18:58:40.880Z"
   },
   {
    "duration": 38,
    "start_time": "2022-05-03T18:58:40.897Z"
   },
   {
    "duration": 13,
    "start_time": "2022-05-03T18:58:40.937Z"
   },
   {
    "duration": 58,
    "start_time": "2022-05-03T18:58:40.951Z"
   },
   {
    "duration": 19,
    "start_time": "2022-05-03T18:58:41.023Z"
   },
   {
    "duration": 22,
    "start_time": "2022-05-03T18:58:41.044Z"
   },
   {
    "duration": 8,
    "start_time": "2022-05-03T18:58:41.068Z"
   },
   {
    "duration": 19,
    "start_time": "2022-05-03T18:58:41.078Z"
   },
   {
    "duration": 30,
    "start_time": "2022-05-03T18:58:41.099Z"
   },
   {
    "duration": 8,
    "start_time": "2022-05-03T18:58:41.131Z"
   },
   {
    "duration": 28,
    "start_time": "2022-05-03T18:58:41.140Z"
   },
   {
    "duration": 4,
    "start_time": "2022-05-03T18:58:41.170Z"
   },
   {
    "duration": 15,
    "start_time": "2022-05-03T18:58:41.175Z"
   },
   {
    "duration": 207,
    "start_time": "2022-05-03T18:58:41.192Z"
   },
   {
    "duration": 25,
    "start_time": "2022-05-03T18:58:41.400Z"
   },
   {
    "duration": 16,
    "start_time": "2022-05-03T18:58:41.427Z"
   },
   {
    "duration": 8,
    "start_time": "2022-05-03T18:58:41.447Z"
   },
   {
    "duration": 29,
    "start_time": "2022-05-03T18:58:41.457Z"
   },
   {
    "duration": 3,
    "start_time": "2022-05-03T18:58:41.487Z"
   },
   {
    "duration": 7,
    "start_time": "2022-05-03T18:58:41.492Z"
   },
   {
    "duration": 39,
    "start_time": "2022-05-03T18:58:41.501Z"
   },
   {
    "duration": 7,
    "start_time": "2022-05-03T18:58:41.541Z"
   },
   {
    "duration": 21,
    "start_time": "2022-05-03T18:58:41.549Z"
   },
   {
    "duration": 13,
    "start_time": "2022-05-03T18:58:41.572Z"
   },
   {
    "duration": 42,
    "start_time": "2022-05-03T18:58:41.586Z"
   },
   {
    "duration": 7,
    "start_time": "2022-05-03T18:58:41.630Z"
   },
   {
    "duration": 22,
    "start_time": "2022-05-03T18:58:41.639Z"
   },
   {
    "duration": 15,
    "start_time": "2022-05-03T18:58:41.662Z"
   },
   {
    "duration": 6,
    "start_time": "2022-05-03T18:58:41.679Z"
   },
   {
    "duration": 8,
    "start_time": "2022-05-03T18:58:41.686Z"
   },
   {
    "duration": 45,
    "start_time": "2022-05-03T18:58:41.696Z"
   },
   {
    "duration": 7,
    "start_time": "2022-05-03T18:58:41.743Z"
   },
   {
    "duration": 10,
    "start_time": "2022-05-03T18:58:41.752Z"
   },
   {
    "duration": 4,
    "start_time": "2022-05-03T18:58:41.764Z"
   },
   {
    "duration": 8,
    "start_time": "2022-05-03T18:58:41.769Z"
   },
   {
    "duration": 45,
    "start_time": "2022-05-03T18:58:41.779Z"
   },
   {
    "duration": 4,
    "start_time": "2022-05-03T18:58:41.825Z"
   },
   {
    "duration": 7,
    "start_time": "2022-05-03T18:58:41.830Z"
   },
   {
    "duration": 6,
    "start_time": "2022-05-03T18:58:41.838Z"
   },
   {
    "duration": 5,
    "start_time": "2022-05-03T18:58:41.846Z"
   },
   {
    "duration": 16,
    "start_time": "2022-05-03T18:58:41.853Z"
   },
   {
    "duration": 5,
    "start_time": "2022-05-03T18:58:41.870Z"
   },
   {
    "duration": 7,
    "start_time": "2022-05-03T18:58:41.877Z"
   },
   {
    "duration": 6,
    "start_time": "2022-05-03T18:58:41.886Z"
   },
   {
    "duration": 36,
    "start_time": "2022-05-03T18:58:41.893Z"
   },
   {
    "duration": 4,
    "start_time": "2022-05-03T18:58:41.930Z"
   },
   {
    "duration": 9,
    "start_time": "2022-05-03T18:58:41.936Z"
   },
   {
    "duration": 13,
    "start_time": "2022-05-03T18:58:41.946Z"
   },
   {
    "duration": 7,
    "start_time": "2022-05-03T18:58:41.961Z"
   },
   {
    "duration": 7,
    "start_time": "2022-05-03T18:58:41.970Z"
   },
   {
    "duration": 162,
    "start_time": "2022-05-03T18:58:41.978Z"
   },
   {
    "duration": 21,
    "start_time": "2022-05-03T18:58:42.141Z"
   },
   {
    "duration": 4,
    "start_time": "2022-05-03T18:58:42.163Z"
   },
   {
    "duration": 142,
    "start_time": "2022-05-03T18:58:42.168Z"
   },
   {
    "duration": 39,
    "start_time": "2022-05-03T18:58:42.312Z"
   },
   {
    "duration": 11,
    "start_time": "2022-05-03T19:00:16.345Z"
   },
   {
    "duration": 3,
    "start_time": "2022-05-03T19:02:56.379Z"
   },
   {
    "duration": 4,
    "start_time": "2022-05-03T19:03:10.532Z"
   },
   {
    "duration": 94,
    "start_time": "2022-05-03T19:03:28.099Z"
   },
   {
    "duration": 15,
    "start_time": "2022-05-03T19:03:44.370Z"
   },
   {
    "duration": 16,
    "start_time": "2022-05-03T19:04:09.545Z"
   },
   {
    "duration": 796,
    "start_time": "2022-05-04T09:49:35.877Z"
   },
   {
    "duration": 340,
    "start_time": "2022-05-04T09:49:36.675Z"
   },
   {
    "duration": 23,
    "start_time": "2022-05-04T09:49:37.017Z"
   },
   {
    "duration": 19,
    "start_time": "2022-05-04T09:49:37.042Z"
   },
   {
    "duration": 16,
    "start_time": "2022-05-04T09:49:37.062Z"
   },
   {
    "duration": 9,
    "start_time": "2022-05-04T09:49:37.080Z"
   },
   {
    "duration": 40,
    "start_time": "2022-05-04T09:49:37.090Z"
   },
   {
    "duration": 16,
    "start_time": "2022-05-04T09:49:37.132Z"
   },
   {
    "duration": 39,
    "start_time": "2022-05-04T09:49:37.150Z"
   },
   {
    "duration": 17,
    "start_time": "2022-05-04T09:49:37.192Z"
   },
   {
    "duration": 696,
    "start_time": "2022-05-04T09:49:37.210Z"
   },
   {
    "duration": 24,
    "start_time": "2022-05-04T09:49:37.908Z"
   },
   {
    "duration": 23,
    "start_time": "2022-05-04T09:49:37.934Z"
   },
   {
    "duration": 14,
    "start_time": "2022-05-04T09:49:37.959Z"
   },
   {
    "duration": 80,
    "start_time": "2022-05-04T09:49:37.974Z"
   },
   {
    "duration": 19,
    "start_time": "2022-05-04T09:49:38.056Z"
   },
   {
    "duration": 22,
    "start_time": "2022-05-04T09:49:38.076Z"
   },
   {
    "duration": 14,
    "start_time": "2022-05-04T09:49:38.099Z"
   },
   {
    "duration": 16,
    "start_time": "2022-05-04T09:49:38.115Z"
   },
   {
    "duration": 35,
    "start_time": "2022-05-04T09:49:38.132Z"
   },
   {
    "duration": 9,
    "start_time": "2022-05-04T09:49:38.168Z"
   },
   {
    "duration": 30,
    "start_time": "2022-05-04T09:49:38.179Z"
   },
   {
    "duration": 14,
    "start_time": "2022-05-04T09:49:38.210Z"
   },
   {
    "duration": 16,
    "start_time": "2022-05-04T09:49:38.225Z"
   },
   {
    "duration": 205,
    "start_time": "2022-05-04T09:49:38.243Z"
   },
   {
    "duration": 13,
    "start_time": "2022-05-04T09:49:38.451Z"
   },
   {
    "duration": 17,
    "start_time": "2022-05-04T09:49:38.466Z"
   },
   {
    "duration": 9,
    "start_time": "2022-05-04T09:49:38.488Z"
   },
   {
    "duration": 30,
    "start_time": "2022-05-04T09:49:38.523Z"
   },
   {
    "duration": 4,
    "start_time": "2022-05-04T09:49:38.554Z"
   },
   {
    "duration": 11,
    "start_time": "2022-05-04T09:49:38.560Z"
   },
   {
    "duration": 41,
    "start_time": "2022-05-04T09:49:38.572Z"
   },
   {
    "duration": 8,
    "start_time": "2022-05-04T09:49:38.615Z"
   },
   {
    "duration": 33,
    "start_time": "2022-05-04T09:49:38.625Z"
   },
   {
    "duration": 16,
    "start_time": "2022-05-04T09:49:38.660Z"
   },
   {
    "duration": 28,
    "start_time": "2022-05-04T09:49:38.677Z"
   },
   {
    "duration": 10,
    "start_time": "2022-05-04T09:49:38.706Z"
   },
   {
    "duration": 28,
    "start_time": "2022-05-04T09:49:38.718Z"
   },
   {
    "duration": 16,
    "start_time": "2022-05-04T09:49:38.747Z"
   },
   {
    "duration": 19,
    "start_time": "2022-05-04T09:49:38.765Z"
   },
   {
    "duration": 22,
    "start_time": "2022-05-04T09:49:38.785Z"
   },
   {
    "duration": 40,
    "start_time": "2022-05-04T09:49:38.809Z"
   },
   {
    "duration": 8,
    "start_time": "2022-05-04T09:49:38.851Z"
   },
   {
    "duration": 18,
    "start_time": "2022-05-04T09:49:38.861Z"
   },
   {
    "duration": 22,
    "start_time": "2022-05-04T09:49:38.881Z"
   },
   {
    "duration": 41,
    "start_time": "2022-05-04T09:49:38.905Z"
   },
   {
    "duration": 22,
    "start_time": "2022-05-04T09:49:38.947Z"
   },
   {
    "duration": 4,
    "start_time": "2022-05-04T09:49:38.971Z"
   },
   {
    "duration": 6,
    "start_time": "2022-05-04T09:49:38.977Z"
   },
   {
    "duration": 8,
    "start_time": "2022-05-04T09:49:38.985Z"
   },
   {
    "duration": 11,
    "start_time": "2022-05-04T09:49:38.994Z"
   },
   {
    "duration": 16,
    "start_time": "2022-05-04T09:49:39.007Z"
   },
   {
    "duration": 5,
    "start_time": "2022-05-04T09:49:39.024Z"
   },
   {
    "duration": 6,
    "start_time": "2022-05-04T09:49:39.031Z"
   },
   {
    "duration": 7,
    "start_time": "2022-05-04T09:49:39.038Z"
   },
   {
    "duration": 11,
    "start_time": "2022-05-04T09:49:39.047Z"
   },
   {
    "duration": 5,
    "start_time": "2022-05-04T09:49:39.060Z"
   },
   {
    "duration": 10,
    "start_time": "2022-05-04T09:49:39.066Z"
   },
   {
    "duration": 13,
    "start_time": "2022-05-04T09:49:39.078Z"
   },
   {
    "duration": 37,
    "start_time": "2022-05-04T09:49:39.093Z"
   },
   {
    "duration": 5,
    "start_time": "2022-05-04T09:49:39.132Z"
   },
   {
    "duration": 155,
    "start_time": "2022-05-04T09:49:39.139Z"
   },
   {
    "duration": 31,
    "start_time": "2022-05-04T09:49:39.295Z"
   },
   {
    "duration": 4,
    "start_time": "2022-05-04T09:49:39.327Z"
   },
   {
    "duration": 141,
    "start_time": "2022-05-04T09:49:39.332Z"
   },
   {
    "duration": 33,
    "start_time": "2022-05-04T09:49:39.474Z"
   },
   {
    "duration": 24,
    "start_time": "2022-05-04T09:49:39.508Z"
   },
   {
    "duration": 12,
    "start_time": "2022-05-04T09:50:38.091Z"
   },
   {
    "duration": 6,
    "start_time": "2022-05-04T09:51:04.795Z"
   },
   {
    "duration": 7,
    "start_time": "2022-05-04T09:51:16.296Z"
   },
   {
    "duration": 6,
    "start_time": "2022-05-04T09:51:22.356Z"
   },
   {
    "duration": 6,
    "start_time": "2022-05-04T09:51:37.615Z"
   },
   {
    "duration": 6,
    "start_time": "2022-05-04T09:51:43.159Z"
   },
   {
    "duration": 5,
    "start_time": "2022-05-04T09:51:49.103Z"
   },
   {
    "duration": 6,
    "start_time": "2022-05-04T09:51:59.270Z"
   },
   {
    "duration": 33,
    "start_time": "2022-05-04T09:54:44.155Z"
   },
   {
    "duration": 46,
    "start_time": "2022-05-04T10:01:27.975Z"
   },
   {
    "duration": 48,
    "start_time": "2022-05-04T10:02:24.479Z"
   },
   {
    "duration": 46,
    "start_time": "2022-05-04T10:02:46.065Z"
   },
   {
    "duration": 51,
    "start_time": "2022-05-04T10:03:07.699Z"
   },
   {
    "duration": 865,
    "start_time": "2022-05-04T11:29:47.516Z"
   },
   {
    "duration": 418,
    "start_time": "2022-05-04T11:29:48.383Z"
   },
   {
    "duration": 44,
    "start_time": "2022-05-04T11:29:48.803Z"
   },
   {
    "duration": 23,
    "start_time": "2022-05-04T11:29:48.849Z"
   },
   {
    "duration": 21,
    "start_time": "2022-05-04T11:29:48.874Z"
   },
   {
    "duration": 10,
    "start_time": "2022-05-04T11:29:48.897Z"
   },
   {
    "duration": 11,
    "start_time": "2022-05-04T11:29:48.934Z"
   },
   {
    "duration": 25,
    "start_time": "2022-05-04T11:29:48.947Z"
   },
   {
    "duration": 63,
    "start_time": "2022-05-04T11:29:48.974Z"
   },
   {
    "duration": 20,
    "start_time": "2022-05-04T11:29:49.040Z"
   },
   {
    "duration": 763,
    "start_time": "2022-05-04T11:29:49.062Z"
   },
   {
    "duration": 18,
    "start_time": "2022-05-04T11:29:49.833Z"
   },
   {
    "duration": 24,
    "start_time": "2022-05-04T11:29:49.853Z"
   },
   {
    "duration": 14,
    "start_time": "2022-05-04T11:29:49.879Z"
   },
   {
    "duration": 94,
    "start_time": "2022-05-04T11:29:49.895Z"
   },
   {
    "duration": 22,
    "start_time": "2022-05-04T11:29:49.991Z"
   },
   {
    "duration": 43,
    "start_time": "2022-05-04T11:29:50.015Z"
   },
   {
    "duration": 6,
    "start_time": "2022-05-04T11:29:50.060Z"
   },
   {
    "duration": 17,
    "start_time": "2022-05-04T11:29:50.068Z"
   },
   {
    "duration": 31,
    "start_time": "2022-05-04T11:29:50.087Z"
   },
   {
    "duration": 14,
    "start_time": "2022-05-04T11:29:50.120Z"
   },
   {
    "duration": 33,
    "start_time": "2022-05-04T11:29:50.135Z"
   },
   {
    "duration": 5,
    "start_time": "2022-05-04T11:29:50.170Z"
   },
   {
    "duration": 29,
    "start_time": "2022-05-04T11:29:50.176Z"
   },
   {
    "duration": 216,
    "start_time": "2022-05-04T11:29:50.206Z"
   },
   {
    "duration": 20,
    "start_time": "2022-05-04T11:29:50.424Z"
   },
   {
    "duration": 18,
    "start_time": "2022-05-04T11:29:50.445Z"
   },
   {
    "duration": 10,
    "start_time": "2022-05-04T11:29:50.467Z"
   },
   {
    "duration": 61,
    "start_time": "2022-05-04T11:29:50.478Z"
   },
   {
    "duration": 3,
    "start_time": "2022-05-04T11:29:50.541Z"
   },
   {
    "duration": 7,
    "start_time": "2022-05-04T11:29:50.545Z"
   },
   {
    "duration": 29,
    "start_time": "2022-05-04T11:29:50.554Z"
   },
   {
    "duration": 7,
    "start_time": "2022-05-04T11:29:50.585Z"
   },
   {
    "duration": 44,
    "start_time": "2022-05-04T11:29:50.594Z"
   },
   {
    "duration": 16,
    "start_time": "2022-05-04T11:29:50.640Z"
   },
   {
    "duration": 15,
    "start_time": "2022-05-04T11:29:50.658Z"
   },
   {
    "duration": 9,
    "start_time": "2022-05-04T11:29:50.674Z"
   },
   {
    "duration": 56,
    "start_time": "2022-05-04T11:29:50.685Z"
   },
   {
    "duration": 17,
    "start_time": "2022-05-04T11:29:50.743Z"
   },
   {
    "duration": 6,
    "start_time": "2022-05-04T11:29:50.762Z"
   },
   {
    "duration": 10,
    "start_time": "2022-05-04T11:29:50.770Z"
   },
   {
    "duration": 35,
    "start_time": "2022-05-04T11:29:50.781Z"
   },
   {
    "duration": 21,
    "start_time": "2022-05-04T11:29:50.818Z"
   },
   {
    "duration": 14,
    "start_time": "2022-05-04T11:29:50.841Z"
   },
   {
    "duration": 7,
    "start_time": "2022-05-04T11:29:50.857Z"
   },
   {
    "duration": 15,
    "start_time": "2022-05-04T11:29:50.866Z"
   },
   {
    "duration": 35,
    "start_time": "2022-05-04T11:29:50.883Z"
   },
   {
    "duration": 13,
    "start_time": "2022-05-04T11:29:50.920Z"
   },
   {
    "duration": 4,
    "start_time": "2022-05-04T11:29:50.935Z"
   },
   {
    "duration": 7,
    "start_time": "2022-05-04T11:29:50.941Z"
   },
   {
    "duration": 10,
    "start_time": "2022-05-04T11:29:50.949Z"
   },
   {
    "duration": 22,
    "start_time": "2022-05-04T11:29:50.960Z"
   },
   {
    "duration": 5,
    "start_time": "2022-05-04T11:29:50.984Z"
   },
   {
    "duration": 26,
    "start_time": "2022-05-04T11:29:50.990Z"
   },
   {
    "duration": 14,
    "start_time": "2022-05-04T11:29:51.018Z"
   },
   {
    "duration": 18,
    "start_time": "2022-05-04T11:29:51.034Z"
   },
   {
    "duration": 9,
    "start_time": "2022-05-04T11:29:51.054Z"
   },
   {
    "duration": 17,
    "start_time": "2022-05-04T11:29:51.064Z"
   },
   {
    "duration": 17,
    "start_time": "2022-05-04T11:29:51.083Z"
   },
   {
    "duration": 15,
    "start_time": "2022-05-04T11:29:51.102Z"
   },
   {
    "duration": 13,
    "start_time": "2022-05-04T11:29:51.118Z"
   },
   {
    "duration": 152,
    "start_time": "2022-05-04T11:29:51.132Z"
   },
   {
    "duration": 25,
    "start_time": "2022-05-04T11:29:51.285Z"
   },
   {
    "duration": 4,
    "start_time": "2022-05-04T11:29:51.311Z"
   },
   {
    "duration": 149,
    "start_time": "2022-05-04T11:29:51.316Z"
   },
   {
    "duration": 38,
    "start_time": "2022-05-04T11:29:51.467Z"
   },
   {
    "duration": 29,
    "start_time": "2022-05-04T11:29:51.507Z"
   },
   {
    "duration": 60,
    "start_time": "2022-05-04T11:29:51.537Z"
   },
   {
    "duration": 44,
    "start_time": "2022-05-04T11:29:51.598Z"
   },
   {
    "duration": 53,
    "start_time": "2022-05-04T11:30:41.747Z"
   },
   {
    "duration": 56,
    "start_time": "2022-05-04T11:31:20.877Z"
   },
   {
    "duration": 13,
    "start_time": "2022-05-04T11:39:38.100Z"
   },
   {
    "duration": 30,
    "start_time": "2022-05-04T11:41:03.099Z"
   },
   {
    "duration": 125,
    "start_time": "2022-05-04T11:41:56.621Z"
   },
   {
    "duration": 185,
    "start_time": "2022-05-04T11:42:14.765Z"
   },
   {
    "duration": 31,
    "start_time": "2022-05-04T11:43:04.557Z"
   },
   {
    "duration": 30,
    "start_time": "2022-05-04T11:43:12.738Z"
   },
   {
    "duration": 30,
    "start_time": "2022-05-04T11:43:16.019Z"
   },
   {
    "duration": 33,
    "start_time": "2022-05-04T11:43:49.423Z"
   },
   {
    "duration": 31,
    "start_time": "2022-05-04T11:44:21.715Z"
   },
   {
    "duration": 31,
    "start_time": "2022-05-04T11:44:39.932Z"
   },
   {
    "duration": 31,
    "start_time": "2022-05-04T11:44:56.728Z"
   },
   {
    "duration": 28,
    "start_time": "2022-05-04T11:45:16.496Z"
   },
   {
    "duration": 29,
    "start_time": "2022-05-04T11:45:31.348Z"
   },
   {
    "duration": 29,
    "start_time": "2022-05-04T11:45:58.920Z"
   },
   {
    "duration": 137,
    "start_time": "2022-05-04T11:47:20.248Z"
   },
   {
    "duration": 24,
    "start_time": "2022-05-04T11:47:27.489Z"
   },
   {
    "duration": 9,
    "start_time": "2022-05-04T11:49:41.051Z"
   },
   {
    "duration": 6,
    "start_time": "2022-05-04T11:49:46.331Z"
   },
   {
    "duration": 9,
    "start_time": "2022-05-04T11:50:12.326Z"
   },
   {
    "duration": 35,
    "start_time": "2022-05-04T11:50:15.637Z"
   },
   {
    "duration": 10,
    "start_time": "2022-05-04T11:50:33.034Z"
   },
   {
    "duration": 34,
    "start_time": "2022-05-04T11:50:34.747Z"
   },
   {
    "duration": 1302,
    "start_time": "2022-05-04T11:50:50.439Z"
   },
   {
    "duration": 9,
    "start_time": "2022-05-04T11:51:48.521Z"
   },
   {
    "duration": 36,
    "start_time": "2022-05-04T11:51:49.603Z"
   },
   {
    "duration": 10,
    "start_time": "2022-05-04T11:52:00.457Z"
   },
   {
    "duration": 35,
    "start_time": "2022-05-04T11:52:01.898Z"
   },
   {
    "duration": 9,
    "start_time": "2022-05-04T11:52:10.340Z"
   },
   {
    "duration": 35,
    "start_time": "2022-05-04T11:52:11.740Z"
   },
   {
    "duration": 9,
    "start_time": "2022-05-04T11:52:17.733Z"
   },
   {
    "duration": 36,
    "start_time": "2022-05-04T11:52:19.004Z"
   },
   {
    "duration": 9,
    "start_time": "2022-05-04T11:53:08.590Z"
   },
   {
    "duration": 35,
    "start_time": "2022-05-04T11:53:09.504Z"
   },
   {
    "duration": 9,
    "start_time": "2022-05-04T11:53:14.483Z"
   },
   {
    "duration": 3,
    "start_time": "2022-05-04T11:53:42.770Z"
   },
   {
    "duration": 30,
    "start_time": "2022-05-04T11:53:45.265Z"
   },
   {
    "duration": 3,
    "start_time": "2022-05-04T11:54:06.123Z"
   },
   {
    "duration": 33,
    "start_time": "2022-05-04T11:54:06.396Z"
   },
   {
    "duration": 10,
    "start_time": "2022-05-04T11:54:41.832Z"
   },
   {
    "duration": 21,
    "start_time": "2022-05-04T11:54:42.838Z"
   },
   {
    "duration": 8,
    "start_time": "2022-05-04T11:55:27.980Z"
   },
   {
    "duration": 23,
    "start_time": "2022-05-04T11:55:33.309Z"
   },
   {
    "duration": 19,
    "start_time": "2022-05-04T11:55:33.971Z"
   },
   {
    "duration": 21,
    "start_time": "2022-05-04T11:55:58.446Z"
   },
   {
    "duration": 22,
    "start_time": "2022-05-04T11:55:59.027Z"
   },
   {
    "duration": 6,
    "start_time": "2022-05-04T11:56:21.310Z"
   },
   {
    "duration": 6,
    "start_time": "2022-05-04T11:56:45.306Z"
   },
   {
    "duration": 7,
    "start_time": "2022-05-04T11:57:02.512Z"
   },
   {
    "duration": 8,
    "start_time": "2022-05-04T11:58:46.361Z"
   },
   {
    "duration": 13,
    "start_time": "2022-05-04T12:00:01.646Z"
   },
   {
    "duration": 9,
    "start_time": "2022-05-04T12:00:44.624Z"
   },
   {
    "duration": 10,
    "start_time": "2022-05-04T12:01:01.202Z"
   },
   {
    "duration": 9,
    "start_time": "2022-05-04T12:01:32.565Z"
   },
   {
    "duration": 21,
    "start_time": "2022-05-04T12:05:20.459Z"
   },
   {
    "duration": 26,
    "start_time": "2022-05-04T12:05:25.564Z"
   },
   {
    "duration": 160,
    "start_time": "2022-05-04T12:05:53.586Z"
   },
   {
    "duration": 9,
    "start_time": "2022-05-04T12:06:18.546Z"
   },
   {
    "duration": 16,
    "start_time": "2022-05-04T12:06:27.296Z"
   },
   {
    "duration": 24,
    "start_time": "2022-05-04T12:06:33.577Z"
   },
   {
    "duration": 138,
    "start_time": "2022-05-04T12:06:45.999Z"
   },
   {
    "duration": 21,
    "start_time": "2022-05-04T12:06:52.368Z"
   },
   {
    "duration": 10,
    "start_time": "2022-05-04T12:08:12.624Z"
   },
   {
    "duration": 10,
    "start_time": "2022-05-04T12:08:30.174Z"
   },
   {
    "duration": 10,
    "start_time": "2022-05-04T12:09:40.662Z"
   },
   {
    "duration": 947,
    "start_time": "2022-05-04T12:10:49.621Z"
   },
   {
    "duration": 846,
    "start_time": "2022-05-04T12:10:56.907Z"
   },
   {
    "duration": 1120,
    "start_time": "2022-05-04T12:11:13.552Z"
   },
   {
    "duration": 2132,
    "start_time": "2022-05-04T12:11:20.087Z"
   },
   {
    "duration": 1749,
    "start_time": "2022-05-04T12:11:26.560Z"
   },
   {
    "duration": 1347,
    "start_time": "2022-05-04T12:11:36.136Z"
   },
   {
    "duration": 1617,
    "start_time": "2022-05-04T12:11:41.076Z"
   },
   {
    "duration": 1341,
    "start_time": "2022-05-04T12:12:01.374Z"
   },
   {
    "duration": 1561,
    "start_time": "2022-05-04T12:13:42.722Z"
   },
   {
    "duration": 1323,
    "start_time": "2022-05-04T12:14:58.040Z"
   },
   {
    "duration": 1562,
    "start_time": "2022-05-04T12:15:56.921Z"
   },
   {
    "duration": 1273,
    "start_time": "2022-05-04T12:16:05.317Z"
   },
   {
    "duration": 1226,
    "start_time": "2022-05-04T12:16:15.135Z"
   },
   {
    "duration": 1577,
    "start_time": "2022-05-04T12:17:33.911Z"
   },
   {
    "duration": 1203,
    "start_time": "2022-05-04T12:17:48.807Z"
   },
   {
    "duration": 1457,
    "start_time": "2022-05-04T12:18:27.791Z"
   },
   {
    "duration": 1192,
    "start_time": "2022-05-04T12:18:36.786Z"
   },
   {
    "duration": 1342,
    "start_time": "2022-05-04T12:18:46.218Z"
   },
   {
    "duration": 1503,
    "start_time": "2022-05-04T12:18:53.137Z"
   },
   {
    "duration": 10,
    "start_time": "2022-05-04T12:23:00.476Z"
   },
   {
    "duration": 24,
    "start_time": "2022-05-04T12:23:01.796Z"
   },
   {
    "duration": 13,
    "start_time": "2022-05-04T12:23:53.566Z"
   },
   {
    "duration": 25,
    "start_time": "2022-05-04T12:23:54.744Z"
   },
   {
    "duration": 4,
    "start_time": "2022-05-04T12:24:02.685Z"
   },
   {
    "duration": 10,
    "start_time": "2022-05-04T12:24:09.572Z"
   },
   {
    "duration": 22,
    "start_time": "2022-05-04T12:24:10.476Z"
   },
   {
    "duration": 12,
    "start_time": "2022-05-04T12:24:21.401Z"
   },
   {
    "duration": 4,
    "start_time": "2022-05-04T12:24:27.770Z"
   },
   {
    "duration": 6,
    "start_time": "2022-05-04T12:24:58.928Z"
   },
   {
    "duration": 4,
    "start_time": "2022-05-04T12:25:20.731Z"
   },
   {
    "duration": 12,
    "start_time": "2022-05-04T12:25:23.813Z"
   },
   {
    "duration": 34,
    "start_time": "2022-05-04T12:25:24.277Z"
   },
   {
    "duration": 11,
    "start_time": "2022-05-04T12:25:29.740Z"
   },
   {
    "duration": 10,
    "start_time": "2022-05-04T12:26:58.587Z"
   },
   {
    "duration": 13,
    "start_time": "2022-05-04T12:26:59.428Z"
   },
   {
    "duration": 9,
    "start_time": "2022-05-04T12:28:34.784Z"
   },
   {
    "duration": 5,
    "start_time": "2022-05-04T12:28:35.880Z"
   },
   {
    "duration": 9,
    "start_time": "2022-05-04T12:28:48.595Z"
   },
   {
    "duration": 6,
    "start_time": "2022-05-04T12:29:12.329Z"
   },
   {
    "duration": 949,
    "start_time": "2022-05-04T12:31:13.610Z"
   },
   {
    "duration": 424,
    "start_time": "2022-05-04T12:31:14.561Z"
   },
   {
    "duration": 29,
    "start_time": "2022-05-04T12:31:14.986Z"
   },
   {
    "duration": 41,
    "start_time": "2022-05-04T12:31:15.018Z"
   },
   {
    "duration": 22,
    "start_time": "2022-05-04T12:31:15.061Z"
   },
   {
    "duration": 11,
    "start_time": "2022-05-04T12:31:15.085Z"
   },
   {
    "duration": 15,
    "start_time": "2022-05-04T12:31:15.097Z"
   },
   {
    "duration": 15,
    "start_time": "2022-05-04T12:31:15.134Z"
   },
   {
    "duration": 36,
    "start_time": "2022-05-04T12:31:15.151Z"
   },
   {
    "duration": 19,
    "start_time": "2022-05-04T12:31:15.190Z"
   },
   {
    "duration": 589,
    "start_time": "2022-05-04T12:31:15.211Z"
   },
   {
    "duration": 32,
    "start_time": "2022-05-04T12:31:15.802Z"
   },
   {
    "duration": 23,
    "start_time": "2022-05-04T12:31:15.836Z"
   },
   {
    "duration": 14,
    "start_time": "2022-05-04T12:31:15.861Z"
   },
   {
    "duration": 97,
    "start_time": "2022-05-04T12:31:15.877Z"
   },
   {
    "duration": 36,
    "start_time": "2022-05-04T12:31:15.977Z"
   },
   {
    "duration": 54,
    "start_time": "2022-05-04T12:31:16.015Z"
   },
   {
    "duration": 11,
    "start_time": "2022-05-04T12:31:16.070Z"
   },
   {
    "duration": 10,
    "start_time": "2022-05-04T12:31:16.082Z"
   },
   {
    "duration": 43,
    "start_time": "2022-05-04T12:31:16.093Z"
   },
   {
    "duration": 9,
    "start_time": "2022-05-04T12:31:16.139Z"
   },
   {
    "duration": 30,
    "start_time": "2022-05-04T12:31:16.150Z"
   },
   {
    "duration": 4,
    "start_time": "2022-05-04T12:31:16.182Z"
   },
   {
    "duration": 20,
    "start_time": "2022-05-04T12:31:16.188Z"
   },
   {
    "duration": 233,
    "start_time": "2022-05-04T12:31:16.234Z"
   },
   {
    "duration": 14,
    "start_time": "2022-05-04T12:31:16.469Z"
   },
   {
    "duration": 18,
    "start_time": "2022-05-04T12:31:16.485Z"
   },
   {
    "duration": 31,
    "start_time": "2022-05-04T12:31:16.508Z"
   },
   {
    "duration": 39,
    "start_time": "2022-05-04T12:31:16.541Z"
   },
   {
    "duration": 3,
    "start_time": "2022-05-04T12:31:16.582Z"
   },
   {
    "duration": 12,
    "start_time": "2022-05-04T12:31:16.587Z"
   },
   {
    "duration": 40,
    "start_time": "2022-05-04T12:31:16.601Z"
   },
   {
    "duration": 8,
    "start_time": "2022-05-04T12:31:16.643Z"
   },
   {
    "duration": 22,
    "start_time": "2022-05-04T12:31:16.653Z"
   },
   {
    "duration": 16,
    "start_time": "2022-05-04T12:31:16.676Z"
   },
   {
    "duration": 44,
    "start_time": "2022-05-04T12:31:16.694Z"
   },
   {
    "duration": 9,
    "start_time": "2022-05-04T12:31:16.740Z"
   },
   {
    "duration": 30,
    "start_time": "2022-05-04T12:31:16.750Z"
   },
   {
    "duration": 17,
    "start_time": "2022-05-04T12:31:16.782Z"
   },
   {
    "duration": 7,
    "start_time": "2022-05-04T12:31:16.801Z"
   },
   {
    "duration": 25,
    "start_time": "2022-05-04T12:31:16.810Z"
   },
   {
    "duration": 29,
    "start_time": "2022-05-04T12:31:16.837Z"
   },
   {
    "duration": 8,
    "start_time": "2022-05-04T12:31:16.868Z"
   },
   {
    "duration": 14,
    "start_time": "2022-05-04T12:31:16.878Z"
   },
   {
    "duration": 13,
    "start_time": "2022-05-04T12:31:16.894Z"
   },
   {
    "duration": 29,
    "start_time": "2022-05-04T12:31:16.908Z"
   },
   {
    "duration": 24,
    "start_time": "2022-05-04T12:31:16.939Z"
   },
   {
    "duration": 7,
    "start_time": "2022-05-04T12:31:16.965Z"
   },
   {
    "duration": 8,
    "start_time": "2022-05-04T12:31:16.973Z"
   },
   {
    "duration": 9,
    "start_time": "2022-05-04T12:31:16.982Z"
   },
   {
    "duration": 11,
    "start_time": "2022-05-04T12:31:16.992Z"
   },
   {
    "duration": 35,
    "start_time": "2022-05-04T12:31:17.005Z"
   },
   {
    "duration": 8,
    "start_time": "2022-05-04T12:31:17.042Z"
   },
   {
    "duration": 17,
    "start_time": "2022-05-04T12:31:17.052Z"
   },
   {
    "duration": 14,
    "start_time": "2022-05-04T12:31:17.070Z"
   },
   {
    "duration": 13,
    "start_time": "2022-05-04T12:31:17.086Z"
   },
   {
    "duration": 9,
    "start_time": "2022-05-04T12:31:17.101Z"
   },
   {
    "duration": 11,
    "start_time": "2022-05-04T12:31:17.112Z"
   },
   {
    "duration": 20,
    "start_time": "2022-05-04T12:31:17.124Z"
   },
   {
    "duration": 8,
    "start_time": "2022-05-04T12:31:17.146Z"
   },
   {
    "duration": 7,
    "start_time": "2022-05-04T12:31:17.156Z"
   },
   {
    "duration": 172,
    "start_time": "2022-05-04T12:31:17.165Z"
   },
   {
    "duration": 25,
    "start_time": "2022-05-04T12:31:17.339Z"
   },
   {
    "duration": 4,
    "start_time": "2022-05-04T12:31:17.366Z"
   },
   {
    "duration": 159,
    "start_time": "2022-05-04T12:31:17.372Z"
   },
   {
    "duration": 40,
    "start_time": "2022-05-04T12:31:17.534Z"
   },
   {
    "duration": 27,
    "start_time": "2022-05-04T12:31:17.576Z"
   },
   {
    "duration": 41,
    "start_time": "2022-05-04T12:31:17.605Z"
   },
   {
    "duration": 1328,
    "start_time": "2022-05-04T12:31:17.648Z"
   },
   {
    "duration": 12,
    "start_time": "2022-05-04T12:31:18.978Z"
   },
   {
    "duration": 1441,
    "start_time": "2022-05-04T12:31:18.992Z"
   },
   {
    "duration": 11,
    "start_time": "2022-05-04T12:31:20.436Z"
   },
   {
    "duration": 1484,
    "start_time": "2022-05-04T12:31:20.449Z"
   },
   {
    "duration": 12,
    "start_time": "2022-05-04T12:31:21.935Z"
   },
   {
    "duration": 1298,
    "start_time": "2022-05-04T12:31:21.950Z"
   },
   {
    "duration": 12,
    "start_time": "2022-05-04T12:31:23.250Z"
   },
   {
    "duration": 1369,
    "start_time": "2022-05-04T12:31:23.264Z"
   },
   {
    "duration": 11,
    "start_time": "2022-05-04T12:31:24.636Z"
   },
   {
    "duration": 1259,
    "start_time": "2022-05-04T12:31:24.649Z"
   },
   {
    "duration": 10,
    "start_time": "2022-05-04T12:31:25.910Z"
   },
   {
    "duration": 126,
    "start_time": "2022-05-04T12:31:25.921Z"
   },
   {
    "duration": 4,
    "start_time": "2022-05-04T12:31:42.512Z"
   },
   {
    "duration": 12,
    "start_time": "2022-05-04T12:32:03.614Z"
   },
   {
    "duration": 9,
    "start_time": "2022-05-04T12:32:15.521Z"
   },
   {
    "duration": 11,
    "start_time": "2022-05-04T12:32:20.562Z"
   },
   {
    "duration": 3,
    "start_time": "2022-05-04T12:32:20.954Z"
   },
   {
    "duration": 4,
    "start_time": "2022-05-04T12:32:30.101Z"
   },
   {
    "duration": 4,
    "start_time": "2022-05-04T12:32:34.220Z"
   },
   {
    "duration": 4,
    "start_time": "2022-05-04T12:32:46.263Z"
   },
   {
    "duration": 5,
    "start_time": "2022-05-04T12:32:53.864Z"
   },
   {
    "duration": 6,
    "start_time": "2022-05-04T12:34:04.690Z"
   },
   {
    "duration": 5,
    "start_time": "2022-05-04T12:35:35.270Z"
   },
   {
    "duration": 5,
    "start_time": "2022-05-04T12:35:42.172Z"
   },
   {
    "duration": 5,
    "start_time": "2022-05-04T12:37:28.666Z"
   },
   {
    "duration": 5,
    "start_time": "2022-05-04T12:37:35.086Z"
   },
   {
    "duration": 17,
    "start_time": "2022-05-04T12:39:51.471Z"
   },
   {
    "duration": 25,
    "start_time": "2022-05-04T12:40:12.256Z"
   },
   {
    "duration": 10,
    "start_time": "2022-05-04T12:40:53.970Z"
   },
   {
    "duration": 3,
    "start_time": "2022-05-04T12:41:25.946Z"
   },
   {
    "duration": 5,
    "start_time": "2022-05-04T12:41:48.437Z"
   },
   {
    "duration": 5,
    "start_time": "2022-05-04T12:42:09.142Z"
   },
   {
    "duration": 5,
    "start_time": "2022-05-04T12:43:41.142Z"
   },
   {
    "duration": 4,
    "start_time": "2022-05-04T12:49:18.270Z"
   },
   {
    "duration": 4,
    "start_time": "2022-05-04T12:53:29.488Z"
   },
   {
    "duration": 4,
    "start_time": "2022-05-04T12:53:41.999Z"
   },
   {
    "duration": 5,
    "start_time": "2022-05-04T12:53:48.045Z"
   },
   {
    "duration": 5,
    "start_time": "2022-05-04T12:59:03.092Z"
   },
   {
    "duration": 5,
    "start_time": "2022-05-04T12:59:07.641Z"
   },
   {
    "duration": 904,
    "start_time": "2022-05-07T08:58:26.234Z"
   },
   {
    "duration": 406,
    "start_time": "2022-05-07T08:58:27.140Z"
   },
   {
    "duration": 27,
    "start_time": "2022-05-07T08:58:27.547Z"
   },
   {
    "duration": 21,
    "start_time": "2022-05-07T08:58:27.577Z"
   },
   {
    "duration": 18,
    "start_time": "2022-05-07T08:58:27.600Z"
   },
   {
    "duration": 10,
    "start_time": "2022-05-07T08:58:27.620Z"
   },
   {
    "duration": 11,
    "start_time": "2022-05-07T08:58:27.631Z"
   },
   {
    "duration": 14,
    "start_time": "2022-05-07T08:58:27.644Z"
   },
   {
    "duration": 34,
    "start_time": "2022-05-07T08:58:27.660Z"
   },
   {
    "duration": 43,
    "start_time": "2022-05-07T08:58:27.697Z"
   },
   {
    "duration": 727,
    "start_time": "2022-05-07T08:58:27.742Z"
   },
   {
    "duration": 18,
    "start_time": "2022-05-07T08:58:28.471Z"
   },
   {
    "duration": 40,
    "start_time": "2022-05-07T08:58:28.491Z"
   },
   {
    "duration": 15,
    "start_time": "2022-05-07T08:58:28.533Z"
   },
   {
    "duration": 80,
    "start_time": "2022-05-07T08:58:28.550Z"
   },
   {
    "duration": 21,
    "start_time": "2022-05-07T08:58:28.631Z"
   },
   {
    "duration": 20,
    "start_time": "2022-05-07T08:58:28.654Z"
   },
   {
    "duration": 6,
    "start_time": "2022-05-07T08:58:28.676Z"
   },
   {
    "duration": 9,
    "start_time": "2022-05-07T08:58:28.683Z"
   },
   {
    "duration": 53,
    "start_time": "2022-05-07T08:58:28.694Z"
   },
   {
    "duration": 9,
    "start_time": "2022-05-07T08:58:28.748Z"
   },
   {
    "duration": 30,
    "start_time": "2022-05-07T08:58:28.759Z"
   },
   {
    "duration": 5,
    "start_time": "2022-05-07T08:58:28.790Z"
   },
   {
    "duration": 43,
    "start_time": "2022-05-07T08:58:28.796Z"
   },
   {
    "duration": 222,
    "start_time": "2022-05-07T08:58:28.840Z"
   },
   {
    "duration": 13,
    "start_time": "2022-05-07T08:58:29.063Z"
   },
   {
    "duration": 18,
    "start_time": "2022-05-07T08:58:29.078Z"
   },
   {
    "duration": 25,
    "start_time": "2022-05-07T08:58:29.100Z"
   },
   {
    "duration": 30,
    "start_time": "2022-05-07T08:58:29.127Z"
   },
   {
    "duration": 3,
    "start_time": "2022-05-07T08:58:29.159Z"
   },
   {
    "duration": 6,
    "start_time": "2022-05-07T08:58:29.163Z"
   },
   {
    "duration": 24,
    "start_time": "2022-05-07T08:58:29.171Z"
   },
   {
    "duration": 28,
    "start_time": "2022-05-07T08:58:29.196Z"
   },
   {
    "duration": 23,
    "start_time": "2022-05-07T08:58:29.226Z"
   },
   {
    "duration": 16,
    "start_time": "2022-05-07T08:58:29.250Z"
   },
   {
    "duration": 16,
    "start_time": "2022-05-07T08:58:29.267Z"
   },
   {
    "duration": 41,
    "start_time": "2022-05-07T08:58:29.284Z"
   },
   {
    "duration": 25,
    "start_time": "2022-05-07T08:58:29.327Z"
   },
   {
    "duration": 16,
    "start_time": "2022-05-07T08:58:29.353Z"
   },
   {
    "duration": 6,
    "start_time": "2022-05-07T08:58:29.371Z"
   },
   {
    "duration": 7,
    "start_time": "2022-05-07T08:58:29.378Z"
   },
   {
    "duration": 54,
    "start_time": "2022-05-07T08:58:29.387Z"
   },
   {
    "duration": 8,
    "start_time": "2022-05-07T08:58:29.442Z"
   },
   {
    "duration": 16,
    "start_time": "2022-05-07T08:58:29.452Z"
   },
   {
    "duration": 6,
    "start_time": "2022-05-07T08:58:29.470Z"
   },
   {
    "duration": 9,
    "start_time": "2022-05-07T08:58:29.478Z"
   },
   {
    "duration": 41,
    "start_time": "2022-05-07T08:58:29.489Z"
   },
   {
    "duration": 4,
    "start_time": "2022-05-07T08:58:29.532Z"
   },
   {
    "duration": 11,
    "start_time": "2022-05-07T08:58:29.538Z"
   },
   {
    "duration": 12,
    "start_time": "2022-05-07T08:58:29.550Z"
   },
   {
    "duration": 13,
    "start_time": "2022-05-07T08:58:29.564Z"
   },
   {
    "duration": 18,
    "start_time": "2022-05-07T08:58:29.579Z"
   },
   {
    "duration": 5,
    "start_time": "2022-05-07T08:58:29.599Z"
   },
   {
    "duration": 19,
    "start_time": "2022-05-07T08:58:29.606Z"
   },
   {
    "duration": 10,
    "start_time": "2022-05-07T08:58:29.627Z"
   },
   {
    "duration": 20,
    "start_time": "2022-05-07T08:58:29.639Z"
   },
   {
    "duration": 9,
    "start_time": "2022-05-07T08:58:29.661Z"
   },
   {
    "duration": 15,
    "start_time": "2022-05-07T08:58:29.671Z"
   },
   {
    "duration": 15,
    "start_time": "2022-05-07T08:58:29.688Z"
   },
   {
    "duration": 20,
    "start_time": "2022-05-07T08:58:29.704Z"
   },
   {
    "duration": 5,
    "start_time": "2022-05-07T08:58:29.726Z"
   },
   {
    "duration": 155,
    "start_time": "2022-05-07T08:58:29.732Z"
   },
   {
    "duration": 22,
    "start_time": "2022-05-07T08:58:29.889Z"
   },
   {
    "duration": 12,
    "start_time": "2022-05-07T08:58:29.912Z"
   },
   {
    "duration": 144,
    "start_time": "2022-05-07T08:58:29.925Z"
   },
   {
    "duration": 34,
    "start_time": "2022-05-07T08:58:30.071Z"
   },
   {
    "duration": 22,
    "start_time": "2022-05-07T08:58:30.122Z"
   },
   {
    "duration": 12,
    "start_time": "2022-05-07T08:58:30.145Z"
   },
   {
    "duration": 11,
    "start_time": "2022-05-07T08:58:30.158Z"
   },
   {
    "duration": 1216,
    "start_time": "2022-05-07T08:58:30.171Z"
   },
   {
    "duration": 9,
    "start_time": "2022-05-07T08:58:31.389Z"
   },
   {
    "duration": 1148,
    "start_time": "2022-05-07T08:58:31.400Z"
   },
   {
    "duration": 9,
    "start_time": "2022-05-07T08:58:32.549Z"
   },
   {
    "duration": 1276,
    "start_time": "2022-05-07T08:58:32.560Z"
   },
   {
    "duration": 10,
    "start_time": "2022-05-07T08:58:33.838Z"
   },
   {
    "duration": 1176,
    "start_time": "2022-05-07T08:58:33.849Z"
   },
   {
    "duration": 11,
    "start_time": "2022-05-07T08:58:35.027Z"
   },
   {
    "duration": 1190,
    "start_time": "2022-05-07T08:58:35.040Z"
   },
   {
    "duration": 9,
    "start_time": "2022-05-07T08:58:36.232Z"
   },
   {
    "duration": 1262,
    "start_time": "2022-05-07T08:58:36.242Z"
   },
   {
    "duration": 16,
    "start_time": "2022-05-07T08:58:37.506Z"
   },
   {
    "duration": 2,
    "start_time": "2022-05-07T08:58:37.528Z"
   },
   {
    "duration": 6,
    "start_time": "2022-05-07T08:58:37.532Z"
   },
   {
    "duration": 5,
    "start_time": "2022-05-07T08:58:37.540Z"
   },
   {
    "duration": 9,
    "start_time": "2022-05-07T08:58:37.547Z"
   },
   {
    "duration": 5,
    "start_time": "2022-05-07T08:58:37.558Z"
   },
   {
    "duration": 7,
    "start_time": "2022-05-07T08:58:37.565Z"
   },
   {
    "duration": 185,
    "start_time": "2022-05-07T08:59:41.079Z"
   },
   {
    "duration": 206,
    "start_time": "2022-05-07T09:04:18.650Z"
   },
   {
    "duration": 300,
    "start_time": "2022-05-07T11:05:14.892Z"
   },
   {
    "duration": 271,
    "start_time": "2022-05-07T11:05:19.583Z"
   },
   {
    "duration": 14,
    "start_time": "2022-05-07T11:05:24.550Z"
   },
   {
    "duration": 21,
    "start_time": "2022-05-07T11:05:28.962Z"
   },
   {
    "duration": 793,
    "start_time": "2022-05-07T11:27:51.308Z"
   },
   {
    "duration": 356,
    "start_time": "2022-05-07T11:27:52.103Z"
   },
   {
    "duration": 27,
    "start_time": "2022-05-07T11:27:52.620Z"
   },
   {
    "duration": 22,
    "start_time": "2022-05-07T11:27:53.095Z"
   },
   {
    "duration": 20,
    "start_time": "2022-05-07T11:27:53.523Z"
   },
   {
    "duration": 12,
    "start_time": "2022-05-07T11:27:53.948Z"
   },
   {
    "duration": 11,
    "start_time": "2022-05-07T11:27:54.440Z"
   },
   {
    "duration": 14,
    "start_time": "2022-05-07T11:27:57.571Z"
   },
   {
    "duration": 35,
    "start_time": "2022-05-07T11:27:58.625Z"
   },
   {
    "duration": 20,
    "start_time": "2022-05-07T11:27:59.090Z"
   },
   {
    "duration": 756,
    "start_time": "2022-05-07T11:28:00.320Z"
   },
   {
    "duration": 18,
    "start_time": "2022-05-07T11:28:01.078Z"
   },
   {
    "duration": 26,
    "start_time": "2022-05-07T11:28:01.546Z"
   },
   {
    "duration": 16,
    "start_time": "2022-05-07T11:28:02.292Z"
   },
   {
    "duration": 3,
    "start_time": "2022-05-07T11:28:04.553Z"
   },
   {
    "duration": 175,
    "start_time": "2022-05-07T11:28:06.040Z"
   },
   {
    "duration": 10,
    "start_time": "2022-05-07T11:28:16.163Z"
   },
   {
    "duration": 10,
    "start_time": "2022-05-07T11:28:43.985Z"
   },
   {
    "duration": 70,
    "start_time": "2022-05-07T11:28:45.659Z"
   },
   {
    "duration": 23,
    "start_time": "2022-05-07T11:29:24.295Z"
   },
   {
    "duration": 22,
    "start_time": "2022-05-07T11:29:27.647Z"
   },
   {
    "duration": 6,
    "start_time": "2022-05-07T11:29:28.532Z"
   },
   {
    "duration": 9,
    "start_time": "2022-05-07T11:29:30.758Z"
   },
   {
    "duration": 46,
    "start_time": "2022-05-07T11:29:32.056Z"
   },
   {
    "duration": 9,
    "start_time": "2022-05-07T11:29:44.499Z"
   },
   {
    "duration": 28,
    "start_time": "2022-05-07T11:29:46.808Z"
   },
   {
    "duration": 5,
    "start_time": "2022-05-07T11:29:51.405Z"
   },
   {
    "duration": 5,
    "start_time": "2022-05-07T11:31:57.219Z"
   },
   {
    "duration": 16,
    "start_time": "2022-05-07T11:32:13.312Z"
   },
   {
    "duration": 5,
    "start_time": "2022-05-07T11:32:20.488Z"
   },
   {
    "duration": 15,
    "start_time": "2022-05-07T11:32:21.603Z"
   },
   {
    "duration": 869,
    "start_time": "2022-05-07T11:34:13.035Z"
   },
   {
    "duration": 396,
    "start_time": "2022-05-07T11:34:13.907Z"
   },
   {
    "duration": 29,
    "start_time": "2022-05-07T11:34:14.305Z"
   },
   {
    "duration": 66,
    "start_time": "2022-05-07T11:34:14.336Z"
   },
   {
    "duration": 22,
    "start_time": "2022-05-07T11:34:14.644Z"
   },
   {
    "duration": 13,
    "start_time": "2022-05-07T11:34:15.004Z"
   },
   {
    "duration": 12,
    "start_time": "2022-05-07T11:34:15.471Z"
   },
   {
    "duration": 22,
    "start_time": "2022-05-07T11:34:17.293Z"
   },
   {
    "duration": 68,
    "start_time": "2022-05-07T11:34:17.788Z"
   },
   {
    "duration": 38,
    "start_time": "2022-05-07T11:34:18.095Z"
   },
   {
    "duration": 881,
    "start_time": "2022-05-07T11:34:18.381Z"
   },
   {
    "duration": 24,
    "start_time": "2022-05-07T11:34:19.264Z"
   },
   {
    "duration": 25,
    "start_time": "2022-05-07T11:34:19.290Z"
   },
   {
    "duration": 15,
    "start_time": "2022-05-07T11:34:19.432Z"
   },
   {
    "duration": 4,
    "start_time": "2022-05-07T11:34:20.593Z"
   },
   {
    "duration": 180,
    "start_time": "2022-05-07T11:34:21.111Z"
   },
   {
    "duration": 10,
    "start_time": "2022-05-07T11:34:21.588Z"
   },
   {
    "duration": 66,
    "start_time": "2022-05-07T11:34:22.591Z"
   },
   {
    "duration": 21,
    "start_time": "2022-05-07T11:34:59.189Z"
   },
   {
    "duration": 22,
    "start_time": "2022-05-07T11:34:59.862Z"
   },
   {
    "duration": 4,
    "start_time": "2022-05-07T11:35:00.520Z"
   },
   {
    "duration": 7,
    "start_time": "2022-05-07T11:35:01.176Z"
   },
   {
    "duration": 29,
    "start_time": "2022-05-07T11:35:05.390Z"
   },
   {
    "duration": 9,
    "start_time": "2022-05-07T11:35:07.179Z"
   },
   {
    "duration": 25,
    "start_time": "2022-05-07T11:35:08.158Z"
   },
   {
    "duration": 4,
    "start_time": "2022-05-07T11:35:08.998Z"
   },
   {
    "duration": 3,
    "start_time": "2022-05-07T11:35:09.944Z"
   },
   {
    "duration": 139,
    "start_time": "2022-05-07T11:35:12.534Z"
   },
   {
    "duration": 10,
    "start_time": "2022-05-07T11:35:13.472Z"
   },
   {
    "duration": 17,
    "start_time": "2022-05-07T11:35:26.824Z"
   },
   {
    "duration": 197,
    "start_time": "2022-05-07T11:35:27.840Z"
   },
   {
    "duration": 217,
    "start_time": "2022-05-07T11:35:34.102Z"
   },
   {
    "duration": 12,
    "start_time": "2022-05-07T11:35:43.174Z"
   },
   {
    "duration": 19,
    "start_time": "2022-05-07T11:35:44.113Z"
   },
   {
    "duration": 11,
    "start_time": "2022-05-07T11:35:47.196Z"
   },
   {
    "duration": 13,
    "start_time": "2022-05-07T11:35:55.957Z"
   },
   {
    "duration": 30,
    "start_time": "2022-05-07T11:36:02.168Z"
   },
   {
    "duration": 4,
    "start_time": "2022-05-07T11:36:04.986Z"
   },
   {
    "duration": 6,
    "start_time": "2022-05-07T11:36:06.117Z"
   },
   {
    "duration": 30,
    "start_time": "2022-05-07T11:36:07.326Z"
   },
   {
    "duration": 9,
    "start_time": "2022-05-07T11:36:12.270Z"
   },
   {
    "duration": 22,
    "start_time": "2022-05-07T11:36:13.270Z"
   },
   {
    "duration": 19,
    "start_time": "2022-05-07T11:36:14.174Z"
   },
   {
    "duration": 17,
    "start_time": "2022-05-07T11:36:19.143Z"
   },
   {
    "duration": 9,
    "start_time": "2022-05-07T11:36:19.723Z"
   },
   {
    "duration": 25,
    "start_time": "2022-05-07T11:36:22.607Z"
   },
   {
    "duration": 17,
    "start_time": "2022-05-07T11:36:23.482Z"
   },
   {
    "duration": 4,
    "start_time": "2022-05-07T11:36:28.642Z"
   },
   {
    "duration": 6,
    "start_time": "2022-05-07T11:36:29.064Z"
   },
   {
    "duration": 31,
    "start_time": "2022-05-07T11:36:29.474Z"
   },
   {
    "duration": 9,
    "start_time": "2022-05-07T11:36:36.423Z"
   },
   {
    "duration": 11,
    "start_time": "2022-05-07T11:36:36.732Z"
   },
   {
    "duration": 3,
    "start_time": "2022-05-07T11:36:49.878Z"
   },
   {
    "duration": 118,
    "start_time": "2022-05-07T11:37:36.959Z"
   },
   {
    "duration": 4,
    "start_time": "2022-05-07T11:37:43.530Z"
   },
   {
    "duration": 8,
    "start_time": "2022-05-07T11:37:46.938Z"
   },
   {
    "duration": 962,
    "start_time": "2022-05-07T11:38:19.599Z"
   },
   {
    "duration": 406,
    "start_time": "2022-05-07T11:38:20.564Z"
   },
   {
    "duration": 28,
    "start_time": "2022-05-07T11:38:20.973Z"
   },
   {
    "duration": 32,
    "start_time": "2022-05-07T11:38:21.004Z"
   },
   {
    "duration": 20,
    "start_time": "2022-05-07T11:38:21.173Z"
   },
   {
    "duration": 12,
    "start_time": "2022-05-07T11:38:21.567Z"
   },
   {
    "duration": 16,
    "start_time": "2022-05-07T11:38:21.998Z"
   },
   {
    "duration": 17,
    "start_time": "2022-05-07T11:38:23.582Z"
   },
   {
    "duration": 38,
    "start_time": "2022-05-07T11:38:24.251Z"
   },
   {
    "duration": 22,
    "start_time": "2022-05-07T11:38:24.471Z"
   },
   {
    "duration": 572,
    "start_time": "2022-05-07T11:38:24.723Z"
   },
   {
    "duration": 18,
    "start_time": "2022-05-07T11:38:25.297Z"
   },
   {
    "duration": 44,
    "start_time": "2022-05-07T11:38:25.317Z"
   },
   {
    "duration": 15,
    "start_time": "2022-05-07T11:38:25.437Z"
   },
   {
    "duration": 3,
    "start_time": "2022-05-07T11:38:25.825Z"
   },
   {
    "duration": 186,
    "start_time": "2022-05-07T11:38:26.055Z"
   },
   {
    "duration": 10,
    "start_time": "2022-05-07T11:38:26.288Z"
   },
   {
    "duration": 92,
    "start_time": "2022-05-07T11:38:26.556Z"
   },
   {
    "duration": 21,
    "start_time": "2022-05-07T11:38:27.263Z"
   },
   {
    "duration": 21,
    "start_time": "2022-05-07T11:38:27.927Z"
   },
   {
    "duration": 4,
    "start_time": "2022-05-07T11:38:28.187Z"
   },
   {
    "duration": 8,
    "start_time": "2022-05-07T11:38:28.442Z"
   },
   {
    "duration": 32,
    "start_time": "2022-05-07T11:38:28.762Z"
   },
   {
    "duration": 10,
    "start_time": "2022-05-07T11:38:30.006Z"
   },
   {
    "duration": 25,
    "start_time": "2022-05-07T11:38:30.225Z"
   },
   {
    "duration": 5,
    "start_time": "2022-05-07T11:38:30.413Z"
   },
   {
    "duration": 4,
    "start_time": "2022-05-07T11:38:30.602Z"
   },
   {
    "duration": 141,
    "start_time": "2022-05-07T11:38:30.838Z"
   },
   {
    "duration": 11,
    "start_time": "2022-05-07T11:38:31.069Z"
   },
   {
    "duration": 31,
    "start_time": "2022-05-07T11:38:31.754Z"
   },
   {
    "duration": 354,
    "start_time": "2022-05-07T11:38:32.007Z"
   },
   {
    "duration": 16,
    "start_time": "2022-05-07T11:38:32.392Z"
   },
   {
    "duration": 23,
    "start_time": "2022-05-07T11:38:32.726Z"
   },
   {
    "duration": 15,
    "start_time": "2022-05-07T11:38:33.137Z"
   },
   {
    "duration": 46,
    "start_time": "2022-05-07T11:38:34.290Z"
   },
   {
    "duration": 4,
    "start_time": "2022-05-07T11:38:34.490Z"
   },
   {
    "duration": 6,
    "start_time": "2022-05-07T11:38:34.726Z"
   },
   {
    "duration": 27,
    "start_time": "2022-05-07T11:38:34.955Z"
   },
   {
    "duration": 8,
    "start_time": "2022-05-07T11:38:36.056Z"
   },
   {
    "duration": 21,
    "start_time": "2022-05-07T11:38:36.398Z"
   },
   {
    "duration": 17,
    "start_time": "2022-05-07T11:38:36.659Z"
   },
   {
    "duration": 16,
    "start_time": "2022-05-07T11:38:37.040Z"
   },
   {
    "duration": 9,
    "start_time": "2022-05-07T11:38:37.388Z"
   },
   {
    "duration": 35,
    "start_time": "2022-05-07T11:38:38.398Z"
   },
   {
    "duration": 25,
    "start_time": "2022-05-07T11:38:38.679Z"
   },
   {
    "duration": 5,
    "start_time": "2022-05-07T11:38:38.944Z"
   },
   {
    "duration": 8,
    "start_time": "2022-05-07T11:38:39.366Z"
   },
   {
    "duration": 46,
    "start_time": "2022-05-07T11:38:39.723Z"
   },
   {
    "duration": 13,
    "start_time": "2022-05-07T11:38:41.189Z"
   },
   {
    "duration": 11,
    "start_time": "2022-05-07T11:38:41.930Z"
   },
   {
    "duration": 5,
    "start_time": "2022-05-07T11:38:42.575Z"
   },
   {
    "duration": 9,
    "start_time": "2022-05-07T11:38:44.106Z"
   },
   {
    "duration": 22,
    "start_time": "2022-05-07T11:38:53.951Z"
   },
   {
    "duration": 4,
    "start_time": "2022-05-07T11:38:55.086Z"
   },
   {
    "duration": 6,
    "start_time": "2022-05-07T11:38:55.786Z"
   },
   {
    "duration": 9,
    "start_time": "2022-05-07T11:38:56.172Z"
   },
   {
    "duration": 7,
    "start_time": "2022-05-07T11:38:56.601Z"
   },
   {
    "duration": 23,
    "start_time": "2022-05-07T11:38:57.434Z"
   },
   {
    "duration": 8,
    "start_time": "2022-05-07T11:39:05.491Z"
   },
   {
    "duration": 8,
    "start_time": "2022-05-07T11:39:05.818Z"
   },
   {
    "duration": 5,
    "start_time": "2022-05-07T11:39:07.841Z"
   },
   {
    "duration": 16,
    "start_time": "2022-05-07T11:39:08.743Z"
   },
   {
    "duration": 7,
    "start_time": "2022-05-07T11:39:13.127Z"
   },
   {
    "duration": 14,
    "start_time": "2022-05-07T11:39:13.931Z"
   },
   {
    "duration": 13,
    "start_time": "2022-05-07T11:39:25.608Z"
   },
   {
    "duration": 10,
    "start_time": "2022-05-07T11:39:31.890Z"
   },
   {
    "duration": 6,
    "start_time": "2022-05-07T11:39:35.214Z"
   },
   {
    "duration": 6,
    "start_time": "2022-05-07T11:41:58.623Z"
   },
   {
    "duration": 258,
    "start_time": "2022-05-07T11:42:02.670Z"
   },
   {
    "duration": 38,
    "start_time": "2022-05-07T11:42:04.019Z"
   },
   {
    "duration": 4,
    "start_time": "2022-05-07T11:42:32.100Z"
   },
   {
    "duration": 246,
    "start_time": "2022-05-07T11:42:33.370Z"
   },
   {
    "duration": 58,
    "start_time": "2022-05-07T11:42:41.685Z"
   },
   {
    "duration": 38,
    "start_time": "2022-05-07T11:42:45.467Z"
   },
   {
    "duration": 28,
    "start_time": "2022-05-07T11:43:36.944Z"
   },
   {
    "duration": 4,
    "start_time": "2022-05-07T11:43:37.579Z"
   },
   {
    "duration": 11,
    "start_time": "2022-05-07T11:43:40.371Z"
   },
   {
    "duration": 1207,
    "start_time": "2022-05-07T11:43:47.443Z"
   },
   {
    "duration": 14,
    "start_time": "2022-05-07T11:43:48.655Z"
   },
   {
    "duration": 1248,
    "start_time": "2022-05-07T11:43:49.270Z"
   },
   {
    "duration": 11,
    "start_time": "2022-05-07T11:43:50.521Z"
   },
   {
    "duration": 1404,
    "start_time": "2022-05-07T11:43:51.304Z"
   },
   {
    "duration": 11,
    "start_time": "2022-05-07T11:44:36.927Z"
   },
   {
    "duration": 1122,
    "start_time": "2022-05-07T11:44:38.080Z"
   },
   {
    "duration": 11,
    "start_time": "2022-05-07T11:44:39.205Z"
   },
   {
    "duration": 1211,
    "start_time": "2022-05-07T11:44:39.268Z"
   },
   {
    "duration": 13,
    "start_time": "2022-05-07T11:44:41.032Z"
   },
   {
    "duration": 1192,
    "start_time": "2022-05-07T11:44:41.807Z"
   },
   {
    "duration": 9,
    "start_time": "2022-05-07T11:48:29.930Z"
   },
   {
    "duration": 3,
    "start_time": "2022-05-07T11:48:30.601Z"
   },
   {
    "duration": 4,
    "start_time": "2022-05-07T11:48:31.314Z"
   },
   {
    "duration": 6,
    "start_time": "2022-05-07T11:48:34.844Z"
   },
   {
    "duration": 11,
    "start_time": "2022-05-07T11:48:42.884Z"
   },
   {
    "duration": 3,
    "start_time": "2022-05-07T11:48:43.592Z"
   },
   {
    "duration": 4,
    "start_time": "2022-05-07T11:48:45.512Z"
   },
   {
    "duration": 4,
    "start_time": "2022-05-07T11:51:09.688Z"
   },
   {
    "duration": 57,
    "start_time": "2022-05-08T15:23:44.818Z"
   },
   {
    "duration": 850,
    "start_time": "2022-05-08T15:23:52.414Z"
   },
   {
    "duration": 455,
    "start_time": "2022-05-08T15:23:53.266Z"
   },
   {
    "duration": 39,
    "start_time": "2022-05-08T15:23:53.725Z"
   },
   {
    "duration": 21,
    "start_time": "2022-05-08T15:23:53.767Z"
   },
   {
    "duration": 36,
    "start_time": "2022-05-08T15:23:53.790Z"
   },
   {
    "duration": 15,
    "start_time": "2022-05-08T15:23:53.828Z"
   },
   {
    "duration": 13,
    "start_time": "2022-05-08T15:23:53.844Z"
   },
   {
    "duration": 15,
    "start_time": "2022-05-08T15:23:53.859Z"
   },
   {
    "duration": 52,
    "start_time": "2022-05-08T15:23:53.875Z"
   },
   {
    "duration": 31,
    "start_time": "2022-05-08T15:23:53.933Z"
   },
   {
    "duration": 590,
    "start_time": "2022-05-08T15:23:53.966Z"
   },
   {
    "duration": 18,
    "start_time": "2022-05-08T15:23:54.558Z"
   },
   {
    "duration": 23,
    "start_time": "2022-05-08T15:23:54.578Z"
   },
   {
    "duration": 46,
    "start_time": "2022-05-08T15:23:54.602Z"
   },
   {
    "duration": 3,
    "start_time": "2022-05-08T15:23:54.651Z"
   },
   {
    "duration": 210,
    "start_time": "2022-05-08T15:23:54.656Z"
   },
   {
    "duration": 9,
    "start_time": "2022-05-08T15:23:54.867Z"
   },
   {
    "duration": 76,
    "start_time": "2022-05-08T15:23:54.878Z"
   },
   {
    "duration": 19,
    "start_time": "2022-05-08T15:23:54.956Z"
   },
   {
    "duration": 22,
    "start_time": "2022-05-08T15:23:54.977Z"
   },
   {
    "duration": 26,
    "start_time": "2022-05-08T15:23:55.001Z"
   },
   {
    "duration": 13,
    "start_time": "2022-05-08T15:23:55.029Z"
   },
   {
    "duration": 31,
    "start_time": "2022-05-08T15:23:55.043Z"
   },
   {
    "duration": 8,
    "start_time": "2022-05-08T15:23:55.076Z"
   },
   {
    "duration": 41,
    "start_time": "2022-05-08T15:23:55.085Z"
   },
   {
    "duration": 8,
    "start_time": "2022-05-08T15:23:55.128Z"
   },
   {
    "duration": 11,
    "start_time": "2022-05-08T15:23:55.138Z"
   },
   {
    "duration": 145,
    "start_time": "2022-05-08T15:23:55.156Z"
   },
   {
    "duration": 9,
    "start_time": "2022-05-08T15:23:55.302Z"
   },
   {
    "duration": 27,
    "start_time": "2022-05-08T15:23:55.312Z"
   },
   {
    "duration": 243,
    "start_time": "2022-05-08T15:23:55.341Z"
   },
   {
    "duration": 12,
    "start_time": "2022-05-08T15:23:55.586Z"
   },
   {
    "duration": 34,
    "start_time": "2022-05-08T15:23:55.600Z"
   },
   {
    "duration": 16,
    "start_time": "2022-05-08T15:23:55.636Z"
   },
   {
    "duration": 31,
    "start_time": "2022-05-08T15:23:55.654Z"
   },
   {
    "duration": 3,
    "start_time": "2022-05-08T15:23:55.687Z"
   },
   {
    "duration": 7,
    "start_time": "2022-05-08T15:23:55.692Z"
   },
   {
    "duration": 59,
    "start_time": "2022-05-08T15:23:55.700Z"
   },
   {
    "duration": 8,
    "start_time": "2022-05-08T15:23:55.761Z"
   },
   {
    "duration": 22,
    "start_time": "2022-05-08T15:23:55.771Z"
   },
   {
    "duration": 36,
    "start_time": "2022-05-08T15:23:55.795Z"
   },
   {
    "duration": 19,
    "start_time": "2022-05-08T15:23:55.833Z"
   },
   {
    "duration": 8,
    "start_time": "2022-05-08T15:23:55.853Z"
   },
   {
    "duration": 24,
    "start_time": "2022-05-08T15:23:55.863Z"
   },
   {
    "duration": 15,
    "start_time": "2022-05-08T15:23:55.888Z"
   },
   {
    "duration": 4,
    "start_time": "2022-05-08T15:23:55.929Z"
   },
   {
    "duration": 10,
    "start_time": "2022-05-08T15:23:55.935Z"
   },
   {
    "duration": 33,
    "start_time": "2022-05-08T15:23:55.946Z"
   },
   {
    "duration": 7,
    "start_time": "2022-05-08T15:23:55.980Z"
   },
   {
    "duration": 11,
    "start_time": "2022-05-08T15:23:55.989Z"
   },
   {
    "duration": 6,
    "start_time": "2022-05-08T15:23:56.002Z"
   },
   {
    "duration": 18,
    "start_time": "2022-05-08T15:23:56.029Z"
   },
   {
    "duration": 22,
    "start_time": "2022-05-08T15:23:56.049Z"
   },
   {
    "duration": 5,
    "start_time": "2022-05-08T15:23:56.072Z"
   },
   {
    "duration": 7,
    "start_time": "2022-05-08T15:23:56.079Z"
   },
   {
    "duration": 11,
    "start_time": "2022-05-08T15:23:56.087Z"
   },
   {
    "duration": 8,
    "start_time": "2022-05-08T15:23:56.100Z"
   },
   {
    "duration": 23,
    "start_time": "2022-05-08T15:23:56.110Z"
   },
   {
    "duration": 16,
    "start_time": "2022-05-08T15:23:56.135Z"
   },
   {
    "duration": 7,
    "start_time": "2022-05-08T15:23:56.153Z"
   },
   {
    "duration": 13,
    "start_time": "2022-05-08T15:23:56.162Z"
   },
   {
    "duration": 16,
    "start_time": "2022-05-08T15:23:56.176Z"
   },
   {
    "duration": 9,
    "start_time": "2022-05-08T15:23:56.194Z"
   },
   {
    "duration": 15,
    "start_time": "2022-05-08T15:23:56.205Z"
   },
   {
    "duration": 28,
    "start_time": "2022-05-08T15:23:56.222Z"
   },
   {
    "duration": 8,
    "start_time": "2022-05-08T15:23:56.252Z"
   },
   {
    "duration": 10,
    "start_time": "2022-05-08T15:23:56.262Z"
   },
   {
    "duration": 238,
    "start_time": "2022-05-08T15:23:56.274Z"
   },
   {
    "duration": 0,
    "start_time": "2022-05-08T15:23:56.514Z"
   },
   {
    "duration": 0,
    "start_time": "2022-05-08T15:23:56.515Z"
   },
   {
    "duration": 0,
    "start_time": "2022-05-08T15:23:56.516Z"
   },
   {
    "duration": 0,
    "start_time": "2022-05-08T15:23:56.518Z"
   },
   {
    "duration": 0,
    "start_time": "2022-05-08T15:23:56.519Z"
   },
   {
    "duration": 0,
    "start_time": "2022-05-08T15:23:56.521Z"
   },
   {
    "duration": 0,
    "start_time": "2022-05-08T15:23:56.525Z"
   },
   {
    "duration": 0,
    "start_time": "2022-05-08T15:23:56.526Z"
   },
   {
    "duration": 0,
    "start_time": "2022-05-08T15:23:56.529Z"
   },
   {
    "duration": 0,
    "start_time": "2022-05-08T15:23:56.530Z"
   },
   {
    "duration": 0,
    "start_time": "2022-05-08T15:23:56.531Z"
   },
   {
    "duration": 0,
    "start_time": "2022-05-08T15:23:56.532Z"
   },
   {
    "duration": 0,
    "start_time": "2022-05-08T15:23:56.533Z"
   },
   {
    "duration": 0,
    "start_time": "2022-05-08T15:23:56.534Z"
   },
   {
    "duration": 0,
    "start_time": "2022-05-08T15:23:56.540Z"
   },
   {
    "duration": 0,
    "start_time": "2022-05-08T15:23:56.542Z"
   },
   {
    "duration": 0,
    "start_time": "2022-05-08T15:23:56.543Z"
   },
   {
    "duration": 0,
    "start_time": "2022-05-08T15:23:56.544Z"
   },
   {
    "duration": 0,
    "start_time": "2022-05-08T15:23:56.545Z"
   },
   {
    "duration": 0,
    "start_time": "2022-05-08T15:23:56.546Z"
   },
   {
    "duration": 0,
    "start_time": "2022-05-08T15:23:56.547Z"
   },
   {
    "duration": 0,
    "start_time": "2022-05-08T15:23:56.550Z"
   },
   {
    "duration": 0,
    "start_time": "2022-05-08T15:23:56.551Z"
   },
   {
    "duration": 0,
    "start_time": "2022-05-08T15:23:56.552Z"
   },
   {
    "duration": 0,
    "start_time": "2022-05-08T15:23:56.553Z"
   },
   {
    "duration": 0,
    "start_time": "2022-05-08T15:23:56.556Z"
   },
   {
    "duration": 0,
    "start_time": "2022-05-08T15:23:56.558Z"
   },
   {
    "duration": 9,
    "start_time": "2022-05-08T15:24:54.251Z"
   },
   {
    "duration": 69,
    "start_time": "2022-05-08T15:26:09.993Z"
   },
   {
    "duration": 10,
    "start_time": "2022-05-08T15:26:13.390Z"
   },
   {
    "duration": 11,
    "start_time": "2022-05-08T15:26:21.227Z"
   },
   {
    "duration": 11,
    "start_time": "2022-05-08T15:26:26.040Z"
   },
   {
    "duration": 6,
    "start_time": "2022-05-08T15:26:30.306Z"
   },
   {
    "duration": 13,
    "start_time": "2022-05-08T15:26:48.607Z"
   },
   {
    "duration": 10,
    "start_time": "2022-05-08T15:27:50.357Z"
   },
   {
    "duration": 5,
    "start_time": "2022-05-08T15:27:55.774Z"
   },
   {
    "duration": 8,
    "start_time": "2022-05-08T15:28:27.558Z"
   },
   {
    "duration": 13,
    "start_time": "2022-05-08T15:28:54.802Z"
   },
   {
    "duration": 11,
    "start_time": "2022-05-08T15:28:56.748Z"
   },
   {
    "duration": 14,
    "start_time": "2022-05-08T15:28:59.425Z"
   },
   {
    "duration": 6,
    "start_time": "2022-05-08T15:29:04.415Z"
   },
   {
    "duration": 7,
    "start_time": "2022-05-08T15:29:08.215Z"
   },
   {
    "duration": 9,
    "start_time": "2022-05-08T15:31:34.347Z"
   },
   {
    "duration": 6,
    "start_time": "2022-05-08T15:32:10.173Z"
   },
   {
    "duration": 7,
    "start_time": "2022-05-08T15:32:15.992Z"
   },
   {
    "duration": 8,
    "start_time": "2022-05-08T15:32:59.469Z"
   },
   {
    "duration": 306,
    "start_time": "2022-05-08T15:35:27.487Z"
   },
   {
    "duration": 213,
    "start_time": "2022-05-08T15:36:13.058Z"
   },
   {
    "duration": 12,
    "start_time": "2022-05-08T15:38:33.142Z"
   },
   {
    "duration": 8,
    "start_time": "2022-05-08T15:38:42.059Z"
   },
   {
    "duration": 13,
    "start_time": "2022-05-08T15:39:51.124Z"
   },
   {
    "duration": 8,
    "start_time": "2022-05-08T15:41:46.071Z"
   },
   {
    "duration": 171,
    "start_time": "2022-05-08T15:41:50.615Z"
   },
   {
    "duration": 24,
    "start_time": "2022-05-08T15:41:50.788Z"
   },
   {
    "duration": 3,
    "start_time": "2022-05-08T15:41:50.914Z"
   },
   {
    "duration": 145,
    "start_time": "2022-05-08T15:41:51.051Z"
   },
   {
    "duration": 26,
    "start_time": "2022-05-08T15:41:51.198Z"
   },
   {
    "duration": 26,
    "start_time": "2022-05-08T15:41:51.629Z"
   },
   {
    "duration": 4,
    "start_time": "2022-05-08T15:41:51.777Z"
   },
   {
    "duration": 14,
    "start_time": "2022-05-08T15:41:51.925Z"
   },
   {
    "duration": 1348,
    "start_time": "2022-05-08T15:41:52.066Z"
   },
   {
    "duration": 15,
    "start_time": "2022-05-08T15:41:53.415Z"
   },
   {
    "duration": 1480,
    "start_time": "2022-05-08T15:41:53.431Z"
   },
   {
    "duration": 14,
    "start_time": "2022-05-08T15:41:54.923Z"
   },
   {
    "duration": 1360,
    "start_time": "2022-05-08T15:41:54.940Z"
   },
   {
    "duration": 9,
    "start_time": "2022-05-08T15:48:26.953Z"
   },
   {
    "duration": 13,
    "start_time": "2022-05-08T15:48:29.025Z"
   },
   {
    "duration": 3,
    "start_time": "2022-05-08T15:48:29.184Z"
   },
   {
    "duration": 5,
    "start_time": "2022-05-08T15:48:29.307Z"
   },
   {
    "duration": 5,
    "start_time": "2022-05-08T15:55:38.512Z"
   },
   {
    "duration": 39,
    "start_time": "2022-05-08T15:55:55.428Z"
   },
   {
    "duration": 19,
    "start_time": "2022-05-08T16:05:03.054Z"
   },
   {
    "duration": 47,
    "start_time": "2022-05-08T16:05:12.071Z"
   },
   {
    "duration": 29,
    "start_time": "2022-05-08T16:05:16.722Z"
   },
   {
    "duration": 7,
    "start_time": "2022-05-08T16:05:21.278Z"
   },
   {
    "duration": 14,
    "start_time": "2022-05-08T16:05:51.402Z"
   },
   {
    "duration": 17,
    "start_time": "2022-05-08T16:06:04.623Z"
   },
   {
    "duration": 6,
    "start_time": "2022-05-08T16:08:42.498Z"
   },
   {
    "duration": 11,
    "start_time": "2022-05-08T16:09:10.365Z"
   },
   {
    "duration": 9,
    "start_time": "2022-05-08T16:09:14.197Z"
   },
   {
    "duration": 13,
    "start_time": "2022-05-08T16:09:16.571Z"
   },
   {
    "duration": 16,
    "start_time": "2022-05-08T16:10:15.305Z"
   },
   {
    "duration": 8,
    "start_time": "2022-05-08T16:10:57.456Z"
   },
   {
    "duration": 5,
    "start_time": "2022-05-08T16:11:17.289Z"
   },
   {
    "duration": 8,
    "start_time": "2022-05-08T16:11:28.092Z"
   },
   {
    "duration": 8,
    "start_time": "2022-05-08T16:11:50.602Z"
   },
   {
    "duration": 5,
    "start_time": "2022-05-08T16:11:53.220Z"
   },
   {
    "duration": 18,
    "start_time": "2022-05-08T16:12:01.617Z"
   },
   {
    "duration": 7,
    "start_time": "2022-05-08T16:19:53.130Z"
   },
   {
    "duration": 258,
    "start_time": "2022-05-08T16:22:02.377Z"
   },
   {
    "duration": 1093,
    "start_time": "2022-05-08T17:49:32.037Z"
   },
   {
    "duration": 517,
    "start_time": "2022-05-08T17:49:33.133Z"
   },
   {
    "duration": 36,
    "start_time": "2022-05-08T17:49:34.356Z"
   },
   {
    "duration": 30,
    "start_time": "2022-05-08T17:49:34.865Z"
   },
   {
    "duration": 26,
    "start_time": "2022-05-08T17:49:35.224Z"
   },
   {
    "duration": 14,
    "start_time": "2022-05-08T17:49:35.603Z"
   },
   {
    "duration": 16,
    "start_time": "2022-05-08T17:49:35.992Z"
   },
   {
    "duration": 23,
    "start_time": "2022-05-08T17:49:37.394Z"
   },
   {
    "duration": 82,
    "start_time": "2022-05-08T17:49:37.946Z"
   },
   {
    "duration": 27,
    "start_time": "2022-05-08T17:49:38.305Z"
   },
   {
    "duration": 1025,
    "start_time": "2022-05-08T17:49:38.659Z"
   },
   {
    "duration": 23,
    "start_time": "2022-05-08T17:49:40.689Z"
   },
   {
    "duration": 32,
    "start_time": "2022-05-08T17:49:40.962Z"
   },
   {
    "duration": 20,
    "start_time": "2022-05-08T17:49:41.361Z"
   },
   {
    "duration": 4,
    "start_time": "2022-05-08T17:49:42.179Z"
   },
   {
    "duration": 258,
    "start_time": "2022-05-08T17:49:42.810Z"
   },
   {
    "duration": 14,
    "start_time": "2022-05-08T17:49:43.132Z"
   },
   {
    "duration": 84,
    "start_time": "2022-05-08T17:49:43.698Z"
   },
   {
    "duration": 33,
    "start_time": "2022-05-08T17:49:46.026Z"
   },
   {
    "duration": 32,
    "start_time": "2022-05-08T17:49:46.691Z"
   },
   {
    "duration": 6,
    "start_time": "2022-05-08T17:49:47.313Z"
   },
   {
    "duration": 10,
    "start_time": "2022-05-08T17:49:48.145Z"
   },
   {
    "duration": 46,
    "start_time": "2022-05-08T17:49:48.730Z"
   },
   {
    "duration": 12,
    "start_time": "2022-05-08T17:49:50.977Z"
   },
   {
    "duration": 40,
    "start_time": "2022-05-08T17:49:52.066Z"
   },
   {
    "duration": 3,
    "start_time": "2022-05-08T17:49:52.965Z"
   },
   {
    "duration": 5,
    "start_time": "2022-05-08T17:49:54.881Z"
   },
   {
    "duration": 3,
    "start_time": "2022-05-08T17:49:56.954Z"
   },
   {
    "duration": 14,
    "start_time": "2022-05-08T17:49:59.105Z"
   },
   {
    "duration": 23,
    "start_time": "2022-05-08T17:50:08.507Z"
   },
   {
    "duration": 318,
    "start_time": "2022-05-08T17:50:08.533Z"
   },
   {
    "duration": 16,
    "start_time": "2022-05-08T17:50:10.499Z"
   },
   {
    "duration": 23,
    "start_time": "2022-05-08T17:50:10.518Z"
   },
   {
    "duration": 13,
    "start_time": "2022-05-08T17:50:11.154Z"
   },
   {
    "duration": 43,
    "start_time": "2022-05-08T17:50:34.296Z"
   },
   {
    "duration": 4,
    "start_time": "2022-05-08T17:50:34.985Z"
   },
   {
    "duration": 6,
    "start_time": "2022-05-08T17:50:44.635Z"
   },
   {
    "duration": 43,
    "start_time": "2022-05-08T17:50:46.562Z"
   },
   {
    "duration": 11,
    "start_time": "2022-05-08T17:50:48.432Z"
   },
   {
    "duration": 31,
    "start_time": "2022-05-08T17:50:48.834Z"
   },
   {
    "duration": 21,
    "start_time": "2022-05-08T17:50:52.010Z"
   },
   {
    "duration": 20,
    "start_time": "2022-05-08T17:50:52.232Z"
   },
   {
    "duration": 11,
    "start_time": "2022-05-08T17:50:52.569Z"
   },
   {
    "duration": 31,
    "start_time": "2022-05-08T17:50:53.113Z"
   },
   {
    "duration": 30,
    "start_time": "2022-05-08T17:50:53.393Z"
   },
   {
    "duration": 4,
    "start_time": "2022-05-08T17:50:53.713Z"
   },
   {
    "duration": 7,
    "start_time": "2022-05-08T17:50:54.130Z"
   },
   {
    "duration": 43,
    "start_time": "2022-05-08T17:50:54.602Z"
   },
   {
    "duration": 12,
    "start_time": "2022-05-08T17:50:57.668Z"
   },
   {
    "duration": 16,
    "start_time": "2022-05-08T17:50:57.881Z"
   },
   {
    "duration": 5,
    "start_time": "2022-05-08T17:50:58.422Z"
   },
   {
    "duration": 12,
    "start_time": "2022-05-08T17:50:59.433Z"
   },
   {
    "duration": 35,
    "start_time": "2022-05-08T17:51:03.019Z"
   },
   {
    "duration": 20,
    "start_time": "2022-05-08T17:52:08.411Z"
   },
   {
    "duration": 11,
    "start_time": "2022-05-08T17:53:23.329Z"
   },
   {
    "duration": 19,
    "start_time": "2022-05-08T17:53:25.257Z"
   },
   {
    "duration": 39,
    "start_time": "2022-05-08T17:53:53.505Z"
   },
   {
    "duration": 32,
    "start_time": "2022-05-08T17:54:18.348Z"
   },
   {
    "duration": 1029,
    "start_time": "2022-05-08T17:54:46.497Z"
   },
   {
    "duration": 501,
    "start_time": "2022-05-08T17:54:47.528Z"
   },
   {
    "duration": 36,
    "start_time": "2022-05-08T17:54:48.304Z"
   },
   {
    "duration": 30,
    "start_time": "2022-05-08T17:54:48.664Z"
   },
   {
    "duration": 25,
    "start_time": "2022-05-08T17:54:49.025Z"
   },
   {
    "duration": 14,
    "start_time": "2022-05-08T17:54:49.376Z"
   },
   {
    "duration": 16,
    "start_time": "2022-05-08T17:54:49.753Z"
   },
   {
    "duration": 22,
    "start_time": "2022-05-08T17:54:51.129Z"
   },
   {
    "duration": 53,
    "start_time": "2022-05-08T17:54:51.522Z"
   },
   {
    "duration": 26,
    "start_time": "2022-05-08T17:54:51.737Z"
   },
   {
    "duration": 781,
    "start_time": "2022-05-08T17:54:51.912Z"
   },
   {
    "duration": 21,
    "start_time": "2022-05-08T17:54:52.696Z"
   },
   {
    "duration": 32,
    "start_time": "2022-05-08T17:54:52.720Z"
   },
   {
    "duration": 44,
    "start_time": "2022-05-08T17:54:52.755Z"
   },
   {
    "duration": 5,
    "start_time": "2022-05-08T17:54:52.927Z"
   },
   {
    "duration": 331,
    "start_time": "2022-05-08T17:54:53.072Z"
   },
   {
    "duration": 13,
    "start_time": "2022-05-08T17:54:53.405Z"
   },
   {
    "duration": 90,
    "start_time": "2022-05-08T17:54:53.497Z"
   },
   {
    "duration": 32,
    "start_time": "2022-05-08T17:54:54.339Z"
   },
   {
    "duration": 30,
    "start_time": "2022-05-08T17:54:54.537Z"
   },
   {
    "duration": 6,
    "start_time": "2022-05-08T17:54:54.761Z"
   },
   {
    "duration": 8,
    "start_time": "2022-05-08T17:54:54.985Z"
   },
   {
    "duration": 46,
    "start_time": "2022-05-08T17:54:55.233Z"
   },
   {
    "duration": 13,
    "start_time": "2022-05-08T17:54:55.938Z"
   },
   {
    "duration": 37,
    "start_time": "2022-05-08T17:54:56.184Z"
   },
   {
    "duration": 5,
    "start_time": "2022-05-08T17:54:56.440Z"
   },
   {
    "duration": 13,
    "start_time": "2022-05-08T17:54:56.721Z"
   },
   {
    "duration": 24,
    "start_time": "2022-05-08T17:54:57.712Z"
   },
   {
    "duration": 312,
    "start_time": "2022-05-08T17:54:58.032Z"
   },
   {
    "duration": 16,
    "start_time": "2022-05-08T17:54:58.346Z"
   },
   {
    "duration": 24,
    "start_time": "2022-05-08T17:54:58.496Z"
   },
   {
    "duration": 15,
    "start_time": "2022-05-08T17:54:58.736Z"
   },
   {
    "duration": 41,
    "start_time": "2022-05-08T17:54:59.288Z"
   },
   {
    "duration": 4,
    "start_time": "2022-05-08T17:54:59.657Z"
   },
   {
    "duration": 7,
    "start_time": "2022-05-08T17:55:00.089Z"
   },
   {
    "duration": 44,
    "start_time": "2022-05-08T17:55:00.482Z"
   },
   {
    "duration": 10,
    "start_time": "2022-05-08T17:55:01.754Z"
   },
   {
    "duration": 31,
    "start_time": "2022-05-08T17:55:02.121Z"
   },
   {
    "duration": 23,
    "start_time": "2022-05-08T17:55:02.304Z"
   },
   {
    "duration": 21,
    "start_time": "2022-05-08T17:55:02.488Z"
   },
   {
    "duration": 11,
    "start_time": "2022-05-08T17:55:02.665Z"
   },
   {
    "duration": 33,
    "start_time": "2022-05-08T17:55:03.009Z"
   },
   {
    "duration": 24,
    "start_time": "2022-05-08T17:55:03.202Z"
   },
   {
    "duration": 4,
    "start_time": "2022-05-08T17:55:03.392Z"
   },
   {
    "duration": 8,
    "start_time": "2022-05-08T17:55:03.569Z"
   },
   {
    "duration": 46,
    "start_time": "2022-05-08T17:55:03.752Z"
   },
   {
    "duration": 12,
    "start_time": "2022-05-08T17:55:04.360Z"
   },
   {
    "duration": 15,
    "start_time": "2022-05-08T17:55:04.561Z"
   },
   {
    "duration": 6,
    "start_time": "2022-05-08T17:55:04.761Z"
   },
   {
    "duration": 12,
    "start_time": "2022-05-08T17:55:04.977Z"
   },
   {
    "duration": 32,
    "start_time": "2022-05-08T17:55:05.528Z"
   },
   {
    "duration": 10,
    "start_time": "2022-05-08T17:55:05.890Z"
   },
   {
    "duration": 23,
    "start_time": "2022-05-08T17:55:06.456Z"
   },
   {
    "duration": 5,
    "start_time": "2022-05-08T17:55:06.936Z"
   },
   {
    "duration": 6,
    "start_time": "2022-05-08T17:55:07.377Z"
   },
   {
    "duration": 6,
    "start_time": "2022-05-08T17:55:07.769Z"
   },
   {
    "duration": 6,
    "start_time": "2022-05-08T17:55:08.017Z"
   },
   {
    "duration": 22,
    "start_time": "2022-05-08T17:55:08.216Z"
   },
   {
    "duration": 7,
    "start_time": "2022-05-08T17:55:08.425Z"
   },
   {
    "duration": 7,
    "start_time": "2022-05-08T17:55:08.941Z"
   },
   {
    "duration": 7,
    "start_time": "2022-05-08T17:55:09.281Z"
   },
   {
    "duration": 15,
    "start_time": "2022-05-08T17:55:09.547Z"
   },
   {
    "duration": 7,
    "start_time": "2022-05-08T17:55:09.760Z"
   },
   {
    "duration": 15,
    "start_time": "2022-05-08T17:55:09.985Z"
   },
   {
    "duration": 20,
    "start_time": "2022-05-08T17:55:10.384Z"
   },
   {
    "duration": 12,
    "start_time": "2022-05-08T17:55:10.584Z"
   },
   {
    "duration": 8,
    "start_time": "2022-05-08T17:55:11.008Z"
   },
   {
    "duration": 18,
    "start_time": "2022-05-08T17:55:11.930Z"
   },
   {
    "duration": 243,
    "start_time": "2022-05-08T17:55:12.953Z"
   },
   {
    "duration": 1085,
    "start_time": "2022-05-08T17:56:59.472Z"
   },
   {
    "duration": 506,
    "start_time": "2022-05-08T17:57:00.560Z"
   },
   {
    "duration": 37,
    "start_time": "2022-05-08T17:57:01.068Z"
   },
   {
    "duration": 31,
    "start_time": "2022-05-08T17:57:01.108Z"
   },
   {
    "duration": 56,
    "start_time": "2022-05-08T17:57:01.142Z"
   },
   {
    "duration": 22,
    "start_time": "2022-05-08T17:57:01.246Z"
   },
   {
    "duration": 22,
    "start_time": "2022-05-08T17:57:01.624Z"
   },
   {
    "duration": 22,
    "start_time": "2022-05-08T17:57:02.920Z"
   },
   {
    "duration": 49,
    "start_time": "2022-05-08T17:57:03.270Z"
   },
   {
    "duration": 26,
    "start_time": "2022-05-08T17:57:03.468Z"
   },
   {
    "duration": 742,
    "start_time": "2022-05-08T17:57:03.646Z"
   },
   {
    "duration": 19,
    "start_time": "2022-05-08T17:57:04.391Z"
   },
   {
    "duration": 31,
    "start_time": "2022-05-08T17:57:04.412Z"
   },
   {
    "duration": 45,
    "start_time": "2022-05-08T17:57:04.446Z"
   },
   {
    "duration": 5,
    "start_time": "2022-05-08T17:57:04.623Z"
   },
   {
    "duration": 259,
    "start_time": "2022-05-08T17:57:04.823Z"
   },
   {
    "duration": 14,
    "start_time": "2022-05-08T17:57:05.085Z"
   },
   {
    "duration": 80,
    "start_time": "2022-05-08T17:57:05.206Z"
   },
   {
    "duration": 32,
    "start_time": "2022-05-08T17:57:05.982Z"
   },
   {
    "duration": 35,
    "start_time": "2022-05-08T17:57:06.182Z"
   },
   {
    "duration": 5,
    "start_time": "2022-05-08T17:57:06.382Z"
   },
   {
    "duration": 8,
    "start_time": "2022-05-08T17:57:06.590Z"
   },
   {
    "duration": 45,
    "start_time": "2022-05-08T17:57:06.794Z"
   },
   {
    "duration": 13,
    "start_time": "2022-05-08T17:57:07.399Z"
   },
   {
    "duration": 34,
    "start_time": "2022-05-08T17:57:07.598Z"
   },
   {
    "duration": 4,
    "start_time": "2022-05-08T17:57:07.774Z"
   },
   {
    "duration": 13,
    "start_time": "2022-05-08T17:57:08.017Z"
   },
   {
    "duration": 22,
    "start_time": "2022-05-08T17:57:08.815Z"
   },
   {
    "duration": 293,
    "start_time": "2022-05-08T17:57:09.033Z"
   },
   {
    "duration": 17,
    "start_time": "2022-05-08T17:57:09.329Z"
   },
   {
    "duration": 24,
    "start_time": "2022-05-08T17:57:09.446Z"
   },
   {
    "duration": 13,
    "start_time": "2022-05-08T17:57:09.655Z"
   },
   {
    "duration": 42,
    "start_time": "2022-05-08T17:57:10.078Z"
   },
   {
    "duration": 5,
    "start_time": "2022-05-08T17:57:10.286Z"
   },
   {
    "duration": 7,
    "start_time": "2022-05-08T17:57:10.503Z"
   },
   {
    "duration": 43,
    "start_time": "2022-05-08T17:57:10.719Z"
   },
   {
    "duration": 11,
    "start_time": "2022-05-08T17:57:11.367Z"
   },
   {
    "duration": 29,
    "start_time": "2022-05-08T17:57:11.591Z"
   },
   {
    "duration": 22,
    "start_time": "2022-05-08T17:57:11.799Z"
   },
   {
    "duration": 22,
    "start_time": "2022-05-08T17:57:11.998Z"
   },
   {
    "duration": 12,
    "start_time": "2022-05-08T17:57:12.239Z"
   },
   {
    "duration": 30,
    "start_time": "2022-05-08T17:57:12.672Z"
   },
   {
    "duration": 23,
    "start_time": "2022-05-08T17:57:12.879Z"
   },
   {
    "duration": 4,
    "start_time": "2022-05-08T17:57:13.079Z"
   },
   {
    "duration": 6,
    "start_time": "2022-05-08T17:57:13.287Z"
   },
   {
    "duration": 44,
    "start_time": "2022-05-08T17:57:13.511Z"
   },
   {
    "duration": 12,
    "start_time": "2022-05-08T17:57:14.142Z"
   },
   {
    "duration": 14,
    "start_time": "2022-05-08T17:57:14.350Z"
   },
   {
    "duration": 5,
    "start_time": "2022-05-08T17:57:14.567Z"
   },
   {
    "duration": 13,
    "start_time": "2022-05-08T17:57:14.775Z"
   },
   {
    "duration": 31,
    "start_time": "2022-05-08T17:57:15.183Z"
   },
   {
    "duration": 11,
    "start_time": "2022-05-08T17:57:15.381Z"
   },
   {
    "duration": 19,
    "start_time": "2022-05-08T17:57:15.598Z"
   },
   {
    "duration": 5,
    "start_time": "2022-05-08T17:57:15.825Z"
   },
   {
    "duration": 6,
    "start_time": "2022-05-08T17:57:16.032Z"
   },
   {
    "duration": 7,
    "start_time": "2022-05-08T17:57:16.247Z"
   },
   {
    "duration": 7,
    "start_time": "2022-05-08T17:57:16.481Z"
   },
   {
    "duration": 22,
    "start_time": "2022-05-08T17:57:16.677Z"
   },
   {
    "duration": 8,
    "start_time": "2022-05-08T17:57:16.895Z"
   },
   {
    "duration": 10,
    "start_time": "2022-05-08T17:57:17.111Z"
   },
   {
    "duration": 9,
    "start_time": "2022-05-08T17:57:17.328Z"
   },
   {
    "duration": 22,
    "start_time": "2022-05-08T17:57:17.560Z"
   },
   {
    "duration": 9,
    "start_time": "2022-05-08T17:57:17.799Z"
   },
   {
    "duration": 21,
    "start_time": "2022-05-08T17:57:17.998Z"
   },
   {
    "duration": 31,
    "start_time": "2022-05-08T17:57:18.486Z"
   },
   {
    "duration": 20,
    "start_time": "2022-05-08T17:57:18.751Z"
   },
   {
    "duration": 11,
    "start_time": "2022-05-08T17:57:19.296Z"
   },
   {
    "duration": 21,
    "start_time": "2022-05-08T17:57:20.455Z"
   },
   {
    "duration": 233,
    "start_time": "2022-05-08T17:57:20.750Z"
   },
   {
    "duration": 40,
    "start_time": "2022-05-08T17:57:21.038Z"
   },
   {
    "duration": 4,
    "start_time": "2022-05-08T17:57:21.345Z"
   },
   {
    "duration": 221,
    "start_time": "2022-05-08T17:57:21.671Z"
   },
   {
    "duration": 36,
    "start_time": "2022-05-08T17:57:21.999Z"
   },
   {
    "duration": 51,
    "start_time": "2022-05-08T17:57:22.967Z"
   },
   {
    "duration": 7,
    "start_time": "2022-05-08T17:57:23.287Z"
   },
   {
    "duration": 14,
    "start_time": "2022-05-08T17:57:23.574Z"
   },
   {
    "duration": 3613,
    "start_time": "2022-05-08T17:57:23.894Z"
   },
   {
    "duration": 12,
    "start_time": "2022-05-08T17:57:27.510Z"
   },
   {
    "duration": 2110,
    "start_time": "2022-05-08T17:57:27.525Z"
   },
   {
    "duration": 14,
    "start_time": "2022-05-08T17:57:29.638Z"
   },
   {
    "duration": 2144,
    "start_time": "2022-05-08T17:57:29.654Z"
   },
   {
    "duration": 14,
    "start_time": "2022-05-08T17:57:31.801Z"
   },
   {
    "duration": 1879,
    "start_time": "2022-05-08T17:57:31.817Z"
   },
   {
    "duration": 13,
    "start_time": "2022-05-08T17:57:33.699Z"
   },
   {
    "duration": 2045,
    "start_time": "2022-05-08T17:57:33.715Z"
   },
   {
    "duration": 24,
    "start_time": "2022-05-08T17:57:35.763Z"
   },
   {
    "duration": 1841,
    "start_time": "2022-05-08T17:57:35.789Z"
   },
   {
    "duration": 14,
    "start_time": "2022-05-08T17:57:43.118Z"
   },
   {
    "duration": 4,
    "start_time": "2022-05-08T17:57:43.574Z"
   },
   {
    "duration": 6,
    "start_time": "2022-05-08T17:57:44.039Z"
   },
   {
    "duration": 7,
    "start_time": "2022-05-08T17:57:58.142Z"
   },
   {
    "duration": 13,
    "start_time": "2022-05-08T17:58:08.278Z"
   },
   {
    "duration": 4,
    "start_time": "2022-05-08T17:58:09.063Z"
   },
   {
    "duration": 5,
    "start_time": "2022-05-08T17:58:09.768Z"
   },
   {
    "duration": 6,
    "start_time": "2022-05-08T17:58:12.633Z"
   },
   {
    "duration": 5,
    "start_time": "2022-05-08T18:00:48.483Z"
   },
   {
    "duration": 28,
    "start_time": "2022-05-08T18:31:58.993Z"
   },
   {
    "duration": 3,
    "start_time": "2022-05-08T18:33:10.128Z"
   },
   {
    "duration": 543,
    "start_time": "2022-05-08T18:33:10.134Z"
   },
   {
    "duration": 28,
    "start_time": "2022-05-08T18:33:10.680Z"
   },
   {
    "duration": 23,
    "start_time": "2022-05-08T18:33:10.710Z"
   },
   {
    "duration": 21,
    "start_time": "2022-05-08T18:33:10.735Z"
   },
   {
    "duration": 11,
    "start_time": "2022-05-08T18:33:10.758Z"
   },
   {
    "duration": 13,
    "start_time": "2022-05-08T18:33:10.771Z"
   },
   {
    "duration": 38,
    "start_time": "2022-05-08T18:33:10.786Z"
   },
   {
    "duration": 32,
    "start_time": "2022-05-08T18:33:10.825Z"
   },
   {
    "duration": 20,
    "start_time": "2022-05-08T18:33:10.859Z"
   },
   {
    "duration": 288,
    "start_time": "2022-05-08T18:33:10.882Z"
   },
   {
    "duration": 16,
    "start_time": "2022-05-08T18:33:11.172Z"
   },
   {
    "duration": 40,
    "start_time": "2022-05-08T18:33:11.190Z"
   },
   {
    "duration": 16,
    "start_time": "2022-05-08T18:33:11.232Z"
   },
   {
    "duration": 6,
    "start_time": "2022-05-08T18:33:11.250Z"
   },
   {
    "duration": 205,
    "start_time": "2022-05-08T18:33:11.257Z"
   },
   {
    "duration": 10,
    "start_time": "2022-05-08T18:33:11.464Z"
   },
   {
    "duration": 66,
    "start_time": "2022-05-08T18:33:11.476Z"
   },
   {
    "duration": 22,
    "start_time": "2022-05-08T18:33:11.544Z"
   },
   {
    "duration": 21,
    "start_time": "2022-05-08T18:33:11.568Z"
   },
   {
    "duration": 31,
    "start_time": "2022-05-08T18:33:11.591Z"
   },
   {
    "duration": 7,
    "start_time": "2022-05-08T18:33:11.624Z"
   },
   {
    "duration": 28,
    "start_time": "2022-05-08T18:33:11.632Z"
   },
   {
    "duration": 9,
    "start_time": "2022-05-08T18:33:11.662Z"
   },
   {
    "duration": 53,
    "start_time": "2022-05-08T18:33:11.673Z"
   },
   {
    "duration": 3,
    "start_time": "2022-05-08T18:33:11.728Z"
   },
   {
    "duration": 11,
    "start_time": "2022-05-08T18:33:11.733Z"
   },
   {
    "duration": 18,
    "start_time": "2022-05-08T18:33:11.746Z"
   },
   {
    "duration": 232,
    "start_time": "2022-05-08T18:33:11.768Z"
   },
   {
    "duration": 26,
    "start_time": "2022-05-08T18:33:12.002Z"
   },
   {
    "duration": 18,
    "start_time": "2022-05-08T18:33:12.030Z"
   },
   {
    "duration": 9,
    "start_time": "2022-05-08T18:33:12.050Z"
   },
   {
    "duration": 33,
    "start_time": "2022-05-08T18:33:12.061Z"
   },
   {
    "duration": 29,
    "start_time": "2022-05-08T18:33:12.096Z"
   },
   {
    "duration": 9,
    "start_time": "2022-05-08T18:33:12.127Z"
   },
   {
    "duration": 28,
    "start_time": "2022-05-08T18:33:12.138Z"
   },
   {
    "duration": 8,
    "start_time": "2022-05-08T18:33:12.168Z"
   },
   {
    "duration": 48,
    "start_time": "2022-05-08T18:33:12.177Z"
   },
   {
    "duration": 16,
    "start_time": "2022-05-08T18:33:12.227Z"
   },
   {
    "duration": 14,
    "start_time": "2022-05-08T18:33:12.245Z"
   },
   {
    "duration": 8,
    "start_time": "2022-05-08T18:33:12.261Z"
   },
   {
    "duration": 52,
    "start_time": "2022-05-08T18:33:12.271Z"
   },
   {
    "duration": 17,
    "start_time": "2022-05-08T18:33:12.325Z"
   },
   {
    "duration": 4,
    "start_time": "2022-05-08T18:33:12.345Z"
   },
   {
    "duration": 6,
    "start_time": "2022-05-08T18:33:12.351Z"
   },
   {
    "duration": 29,
    "start_time": "2022-05-08T18:33:12.359Z"
   },
   {
    "duration": 40,
    "start_time": "2022-05-08T18:33:12.390Z"
   },
   {
    "duration": 11,
    "start_time": "2022-05-08T18:33:12.431Z"
   },
   {
    "duration": 6,
    "start_time": "2022-05-08T18:33:12.444Z"
   },
   {
    "duration": 10,
    "start_time": "2022-05-08T18:33:12.452Z"
   },
   {
    "duration": 23,
    "start_time": "2022-05-08T18:33:12.464Z"
   },
   {
    "duration": 41,
    "start_time": "2022-05-08T18:33:12.489Z"
   },
   {
    "duration": 16,
    "start_time": "2022-05-08T18:33:12.532Z"
   },
   {
    "duration": 6,
    "start_time": "2022-05-08T18:33:12.549Z"
   },
   {
    "duration": 6,
    "start_time": "2022-05-08T18:33:12.557Z"
   },
   {
    "duration": 6,
    "start_time": "2022-05-08T18:33:12.565Z"
   },
   {
    "duration": 7,
    "start_time": "2022-05-08T18:33:12.573Z"
   },
   {
    "duration": 47,
    "start_time": "2022-05-08T18:33:12.582Z"
   },
   {
    "duration": 6,
    "start_time": "2022-05-08T18:33:12.631Z"
   },
   {
    "duration": 7,
    "start_time": "2022-05-08T18:33:12.639Z"
   },
   {
    "duration": 6,
    "start_time": "2022-05-08T18:33:12.648Z"
   },
   {
    "duration": 12,
    "start_time": "2022-05-08T18:33:12.656Z"
   },
   {
    "duration": 13,
    "start_time": "2022-05-08T18:33:12.670Z"
   },
   {
    "duration": 38,
    "start_time": "2022-05-08T18:33:12.685Z"
   },
   {
    "duration": 14,
    "start_time": "2022-05-08T18:33:12.725Z"
   },
   {
    "duration": 9,
    "start_time": "2022-05-08T18:33:12.741Z"
   },
   {
    "duration": 6,
    "start_time": "2022-05-08T18:33:12.752Z"
   },
   {
    "duration": 14,
    "start_time": "2022-05-08T18:33:12.760Z"
   },
   {
    "duration": 190,
    "start_time": "2022-05-08T18:33:12.776Z"
   },
   {
    "duration": 25,
    "start_time": "2022-05-08T18:33:12.968Z"
   },
   {
    "duration": 4,
    "start_time": "2022-05-08T18:33:12.995Z"
   },
   {
    "duration": 167,
    "start_time": "2022-05-08T18:33:13.001Z"
   },
   {
    "duration": 28,
    "start_time": "2022-05-08T18:33:13.170Z"
   },
   {
    "duration": 45,
    "start_time": "2022-05-08T18:33:13.200Z"
   },
   {
    "duration": 8,
    "start_time": "2022-05-08T18:33:13.247Z"
   },
   {
    "duration": 12,
    "start_time": "2022-05-08T18:33:13.256Z"
   },
   {
    "duration": 1339,
    "start_time": "2022-05-08T18:33:13.270Z"
   },
   {
    "duration": 19,
    "start_time": "2022-05-08T18:33:14.611Z"
   },
   {
    "duration": 1605,
    "start_time": "2022-05-08T18:33:14.632Z"
   },
   {
    "duration": 12,
    "start_time": "2022-05-08T18:33:16.239Z"
   },
   {
    "duration": 1534,
    "start_time": "2022-05-08T18:33:16.254Z"
   },
   {
    "duration": 12,
    "start_time": "2022-05-08T18:33:17.791Z"
   },
   {
    "duration": 1255,
    "start_time": "2022-05-08T18:33:17.826Z"
   },
   {
    "duration": 11,
    "start_time": "2022-05-08T18:33:19.083Z"
   },
   {
    "duration": 1132,
    "start_time": "2022-05-08T18:33:19.097Z"
   },
   {
    "duration": 11,
    "start_time": "2022-05-08T18:33:20.231Z"
   },
   {
    "duration": 1307,
    "start_time": "2022-05-08T18:33:20.244Z"
   },
   {
    "duration": 11,
    "start_time": "2022-05-08T18:33:21.554Z"
   },
   {
    "duration": 5,
    "start_time": "2022-05-08T18:33:21.567Z"
   },
   {
    "duration": 6,
    "start_time": "2022-05-08T18:33:21.574Z"
   },
   {
    "duration": 7,
    "start_time": "2022-05-08T18:33:21.582Z"
   },
   {
    "duration": 37,
    "start_time": "2022-05-08T18:33:21.592Z"
   },
   {
    "duration": 5,
    "start_time": "2022-05-08T18:33:21.630Z"
   },
   {
    "duration": 8,
    "start_time": "2022-05-08T18:33:21.637Z"
   },
   {
    "duration": 8,
    "start_time": "2022-05-08T18:33:21.646Z"
   }
  ],
  "kernelspec": {
   "display_name": "Python 3",
   "language": "python",
   "name": "python3"
  },
  "language_info": {
   "codemirror_mode": {
    "name": "ipython",
    "version": 3
   },
   "file_extension": ".py",
   "mimetype": "text/x-python",
   "name": "python",
   "nbconvert_exporter": "python",
   "pygments_lexer": "ipython3",
   "version": "3.6.3"
  },
  "toc": {
   "base_numbering": 1,
   "nav_menu": {},
   "number_sections": true,
   "sideBar": true,
   "skip_h1_title": true,
   "title_cell": "Table of Contents",
   "title_sidebar": "Contents",
   "toc_cell": false,
   "toc_position": {},
   "toc_section_display": true,
   "toc_window_display": true
  }
 },
 "nbformat": 4,
 "nbformat_minor": 2
}
